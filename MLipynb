{
  "cells": [
    {
      "cell_type": "markdown",
      "metadata": {
        "id": "view-in-github",
        "colab_type": "text"
      },
      "source": [
        "<a href=\"https://colab.research.google.com/github/kgoel59/kgoel59/blob/main/MLipynb\" target=\"_parent\"><img src=\"https://colab.research.google.com/assets/colab-badge.svg\" alt=\"Open In Colab\"/></a>"
      ]
    },
    {
      "cell_type": "code",
      "execution_count": 1,
      "metadata": {
        "id": "vn_iU4RQS29X"
      },
      "outputs": [],
      "source": [
        "random_state = 1"
      ]
    },
    {
      "cell_type": "code",
      "execution_count": 2,
      "metadata": {
        "id": "qTV3vr1AS0CR"
      },
      "outputs": [],
      "source": [
        "batch_size = 32"
      ]
    },
    {
      "cell_type": "code",
      "execution_count": 3,
      "metadata": {
        "colab": {
          "base_uri": "https://localhost:8080/"
        },
        "id": "CXzRA_hEbQYD",
        "outputId": "874a635c-91a6-4354-f193-836384ce2566"
      },
      "outputs": [
        {
          "output_type": "stream",
          "name": "stdout",
          "text": [
            "Mounted at /content/drive\n"
          ]
        }
      ],
      "source": [
        "from google.colab import drive\n",
        "drive.mount('/content/drive')"
      ]
    },
    {
      "cell_type": "code",
      "execution_count": 4,
      "metadata": {
        "colab": {
          "base_uri": "https://localhost:8080/"
        },
        "id": "kVHUO1HdhmsD",
        "outputId": "818c0123-efac-47c8-d386-681886aaa5fb"
      },
      "outputs": [
        {
          "output_type": "stream",
          "name": "stdout",
          "text": [
            "Collecting wandb\n",
            "  Downloading wandb-0.17.0-py3-none-manylinux_2_5_x86_64.manylinux1_x86_64.manylinux_2_17_x86_64.manylinux2014_x86_64.whl (6.7 MB)\n",
            "\u001b[2K     \u001b[90m━━━━━━━━━━━━━━━━━━━━━━━━━━━━━━━━━━━━━━━━\u001b[0m \u001b[32m6.7/6.7 MB\u001b[0m \u001b[31m18.9 MB/s\u001b[0m eta \u001b[36m0:00:00\u001b[0m\n",
            "\u001b[?25hRequirement already satisfied: click!=8.0.0,>=7.1 in /usr/local/lib/python3.10/dist-packages (from wandb) (8.1.7)\n",
            "Collecting docker-pycreds>=0.4.0 (from wandb)\n",
            "  Downloading docker_pycreds-0.4.0-py2.py3-none-any.whl (9.0 kB)\n",
            "Collecting gitpython!=3.1.29,>=1.0.0 (from wandb)\n",
            "  Downloading GitPython-3.1.43-py3-none-any.whl (207 kB)\n",
            "\u001b[2K     \u001b[90m━━━━━━━━━━━━━━━━━━━━━━━━━━━━━━━━━━━━━━━━\u001b[0m \u001b[32m207.3/207.3 kB\u001b[0m \u001b[31m25.7 MB/s\u001b[0m eta \u001b[36m0:00:00\u001b[0m\n",
            "\u001b[?25hRequirement already satisfied: platformdirs in /usr/local/lib/python3.10/dist-packages (from wandb) (4.2.2)\n",
            "Requirement already satisfied: protobuf!=4.21.0,<5,>=3.19.0 in /usr/local/lib/python3.10/dist-packages (from wandb) (3.20.3)\n",
            "Requirement already satisfied: psutil>=5.0.0 in /usr/local/lib/python3.10/dist-packages (from wandb) (5.9.5)\n",
            "Requirement already satisfied: pyyaml in /usr/local/lib/python3.10/dist-packages (from wandb) (6.0.1)\n",
            "Requirement already satisfied: requests<3,>=2.0.0 in /usr/local/lib/python3.10/dist-packages (from wandb) (2.31.0)\n",
            "Collecting sentry-sdk>=1.0.0 (from wandb)\n",
            "  Downloading sentry_sdk-2.3.1-py2.py3-none-any.whl (289 kB)\n",
            "\u001b[2K     \u001b[90m━━━━━━━━━━━━━━━━━━━━━━━━━━━━━━━━━━━━━━━━\u001b[0m \u001b[32m289.0/289.0 kB\u001b[0m \u001b[31m34.7 MB/s\u001b[0m eta \u001b[36m0:00:00\u001b[0m\n",
            "\u001b[?25hCollecting setproctitle (from wandb)\n",
            "  Downloading setproctitle-1.3.3-cp310-cp310-manylinux_2_5_x86_64.manylinux1_x86_64.manylinux_2_17_x86_64.manylinux2014_x86_64.whl (30 kB)\n",
            "Requirement already satisfied: setuptools in /usr/local/lib/python3.10/dist-packages (from wandb) (67.7.2)\n",
            "Requirement already satisfied: six>=1.4.0 in /usr/local/lib/python3.10/dist-packages (from docker-pycreds>=0.4.0->wandb) (1.16.0)\n",
            "Collecting gitdb<5,>=4.0.1 (from gitpython!=3.1.29,>=1.0.0->wandb)\n",
            "  Downloading gitdb-4.0.11-py3-none-any.whl (62 kB)\n",
            "\u001b[2K     \u001b[90m━━━━━━━━━━━━━━━━━━━━━━━━━━━━━━━━━━━━━━━━\u001b[0m \u001b[32m62.7/62.7 kB\u001b[0m \u001b[31m8.5 MB/s\u001b[0m eta \u001b[36m0:00:00\u001b[0m\n",
            "\u001b[?25hRequirement already satisfied: charset-normalizer<4,>=2 in /usr/local/lib/python3.10/dist-packages (from requests<3,>=2.0.0->wandb) (3.3.2)\n",
            "Requirement already satisfied: idna<4,>=2.5 in /usr/local/lib/python3.10/dist-packages (from requests<3,>=2.0.0->wandb) (3.7)\n",
            "Requirement already satisfied: urllib3<3,>=1.21.1 in /usr/local/lib/python3.10/dist-packages (from requests<3,>=2.0.0->wandb) (2.0.7)\n",
            "Requirement already satisfied: certifi>=2017.4.17 in /usr/local/lib/python3.10/dist-packages (from requests<3,>=2.0.0->wandb) (2024.2.2)\n",
            "Collecting smmap<6,>=3.0.1 (from gitdb<5,>=4.0.1->gitpython!=3.1.29,>=1.0.0->wandb)\n",
            "  Downloading smmap-5.0.1-py3-none-any.whl (24 kB)\n",
            "Installing collected packages: smmap, setproctitle, sentry-sdk, docker-pycreds, gitdb, gitpython, wandb\n",
            "Successfully installed docker-pycreds-0.4.0 gitdb-4.0.11 gitpython-3.1.43 sentry-sdk-2.3.1 setproctitle-1.3.3 smmap-5.0.1 wandb-0.17.0\n"
          ]
        }
      ],
      "source": [
        "!pip install wandb"
      ]
    },
    {
      "cell_type": "code",
      "execution_count": 5,
      "metadata": {
        "colab": {
          "base_uri": "https://localhost:8080/",
          "height": 144
        },
        "id": "_Qyyjfgvhnbs",
        "outputId": "7a1b5e9f-d4d6-49b4-f69f-e8d3f0d405c9"
      },
      "outputs": [
        {
          "output_type": "display_data",
          "data": {
            "text/plain": [
              "<IPython.core.display.Javascript object>"
            ],
            "application/javascript": [
              "\n",
              "        window._wandbApiKey = new Promise((resolve, reject) => {\n",
              "            function loadScript(url) {\n",
              "            return new Promise(function(resolve, reject) {\n",
              "                let newScript = document.createElement(\"script\");\n",
              "                newScript.onerror = reject;\n",
              "                newScript.onload = resolve;\n",
              "                document.body.appendChild(newScript);\n",
              "                newScript.src = url;\n",
              "            });\n",
              "            }\n",
              "            loadScript(\"https://cdn.jsdelivr.net/npm/postmate/build/postmate.min.js\").then(() => {\n",
              "            const iframe = document.createElement('iframe')\n",
              "            iframe.style.cssText = \"width:0;height:0;border:none\"\n",
              "            document.body.appendChild(iframe)\n",
              "            const handshake = new Postmate({\n",
              "                container: iframe,\n",
              "                url: 'https://wandb.ai/authorize'\n",
              "            });\n",
              "            const timeout = setTimeout(() => reject(\"Couldn't auto authenticate\"), 5000)\n",
              "            handshake.then(function(child) {\n",
              "                child.on('authorize', data => {\n",
              "                    clearTimeout(timeout)\n",
              "                    resolve(data)\n",
              "                });\n",
              "            });\n",
              "            })\n",
              "        });\n",
              "    "
            ]
          },
          "metadata": {}
        },
        {
          "output_type": "stream",
          "name": "stderr",
          "text": [
            "\u001b[34m\u001b[1mwandb\u001b[0m: Logging into wandb.ai. (Learn how to deploy a W&B server locally: https://wandb.me/wandb-server)\n",
            "\u001b[34m\u001b[1mwandb\u001b[0m: You can find your API key in your browser here: https://wandb.ai/authorize\n",
            "wandb: Paste an API key from your profile and hit enter, or press ctrl+c to quit:"
          ]
        },
        {
          "name": "stdout",
          "output_type": "stream",
          "text": [
            " ··········\n"
          ]
        },
        {
          "output_type": "stream",
          "name": "stderr",
          "text": [
            "\u001b[34m\u001b[1mwandb\u001b[0m: Appending key for api.wandb.ai to your netrc file: /root/.netrc\n"
          ]
        },
        {
          "output_type": "execute_result",
          "data": {
            "text/plain": [
              "True"
            ]
          },
          "metadata": {},
          "execution_count": 5
        }
      ],
      "source": [
        "#9af0571c31ff9ceb598ff74bd1c79cb40323b87e\n",
        "import wandb\n",
        "wandb.login()"
      ]
    },
    {
      "cell_type": "markdown",
      "metadata": {
        "id": "3tfvy1VyRTHc"
      },
      "source": [
        "## Prerequesties"
      ]
    },
    {
      "cell_type": "code",
      "execution_count": 6,
      "metadata": {
        "id": "ZyqkZa5BjMrv"
      },
      "outputs": [],
      "source": [
        "# Basic system and data handling libraries\n",
        "import os\n",
        "import string\n",
        "import requests\n",
        "import tarfile\n",
        "import pandas as pd\n",
        "import numpy as np"
      ]
    },
    {
      "cell_type": "code",
      "execution_count": 7,
      "metadata": {
        "id": "ph7Erus1jSFX"
      },
      "outputs": [],
      "source": [
        "# Text processing libraries\n",
        "from bs4 import BeautifulSoup\n",
        "import re"
      ]
    },
    {
      "cell_type": "code",
      "execution_count": 8,
      "metadata": {
        "id": "uv4Q86SyjT1E"
      },
      "outputs": [],
      "source": [
        "# Visualization libraries\n",
        "import seaborn as sns\n",
        "import matplotlib.pyplot as plt\n",
        "from wordcloud import WordCloud, STOPWORDS"
      ]
    },
    {
      "cell_type": "code",
      "execution_count": 9,
      "metadata": {
        "id": "ANTmD06xjWWf"
      },
      "outputs": [],
      "source": [
        "# sklearn\n",
        "from sklearn.feature_extraction.text import CountVectorizer\n",
        "from sklearn.decomposition import PCA\n",
        "from sklearn.model_selection import train_test_split\n",
        "from sklearn.preprocessing import LabelEncoder\n",
        "from sklearn.feature_extraction.text import TfidfVectorizer\n",
        "from sklearn.cluster import KMeans"
      ]
    },
    {
      "cell_type": "code",
      "execution_count": 10,
      "metadata": {
        "id": "HgJI1UehjY8x"
      },
      "outputs": [],
      "source": [
        "# tensorflow\n",
        "from transformers import BertTokenizer, TFBertModel\n",
        "from keras.layers import TextVectorization\n",
        "import tensorflow as tf"
      ]
    },
    {
      "cell_type": "code",
      "execution_count": 11,
      "metadata": {
        "id": "P0yr-8BvQutZ"
      },
      "outputs": [],
      "source": [
        "# gensim\n",
        "import gensim\n",
        "from gensim import corpora\n"
      ]
    },
    {
      "cell_type": "code",
      "execution_count": 12,
      "metadata": {
        "id": "xNfrPz83jeMM"
      },
      "outputs": [],
      "source": [
        "#nlp\n",
        "import nltk\n",
        "from nltk.tokenize import word_tokenize, sent_tokenize\n",
        "from nltk.stem import PorterStemmer, WordNetLemmatizer\n",
        "from nltk.corpus import stopwords\n",
        "from collections import Counter"
      ]
    },
    {
      "cell_type": "code",
      "execution_count": 13,
      "metadata": {
        "colab": {
          "base_uri": "https://localhost:8080/"
        },
        "id": "IANhNMFlkHpd",
        "outputId": "75777df5-a09f-4e80-bdea-6e9f67a965a9"
      },
      "outputs": [
        {
          "output_type": "stream",
          "name": "stderr",
          "text": [
            "[nltk_data] Downloading package averaged_perceptron_tagger to\n",
            "[nltk_data]     /root/nltk_data...\n",
            "[nltk_data]   Unzipping taggers/averaged_perceptron_tagger.zip.\n",
            "[nltk_data] Downloading package punkt to /root/nltk_data...\n",
            "[nltk_data]   Unzipping tokenizers/punkt.zip.\n",
            "[nltk_data] Downloading package stopwords to /root/nltk_data...\n",
            "[nltk_data]   Unzipping corpora/stopwords.zip.\n",
            "[nltk_data] Downloading package wordnet to /root/nltk_data...\n",
            "[nltk_data] Downloading package brown to /root/nltk_data...\n",
            "[nltk_data]   Unzipping corpora/brown.zip.\n"
          ]
        },
        {
          "output_type": "execute_result",
          "data": {
            "text/plain": [
              "True"
            ]
          },
          "metadata": {},
          "execution_count": 13
        }
      ],
      "source": [
        "# nltk dataset\n",
        "nltk.download('averaged_perceptron_tagger')\n",
        "nltk.download('punkt')\n",
        "nltk.download('stopwords')\n",
        "nltk.download('wordnet')\n",
        "nltk.download('brown')"
      ]
    },
    {
      "cell_type": "code",
      "execution_count": 14,
      "metadata": {
        "id": "HGNVHSRkj2dY"
      },
      "outputs": [],
      "source": [
        "# spacy\n",
        "import spacy\n",
        "from spacy.matcher import Matcher\n",
        "from textblob import TextBlob"
      ]
    },
    {
      "cell_type": "code",
      "execution_count": 15,
      "metadata": {
        "id": "3HST8-0bkdCu"
      },
      "outputs": [],
      "source": [
        "# Load English tokenizer, tagger, parser, NER and word vectors\n",
        "nlp = spacy.load(\"en_core_web_sm\")"
      ]
    },
    {
      "cell_type": "code",
      "execution_count": 16,
      "metadata": {
        "id": "Pw-YOAgzQruH"
      },
      "outputs": [],
      "source": [
        "# setup gpu\n",
        "\n",
        "gpus = tf.config.experimental.list_physical_devices('GPU')\n",
        "if gpus:\n",
        "  try:\n",
        "    for gpu in gpus:\n",
        "      tf.config.experimental.set_memory_growth(gpu, True)\n",
        "  except RuntimeError as e:\n",
        "    print(e)\n"
      ]
    },
    {
      "cell_type": "markdown",
      "metadata": {
        "id": "G1YZ7qiK_nwN"
      },
      "source": [
        "## PART1"
      ]
    },
    {
      "cell_type": "markdown",
      "metadata": {
        "id": "vbeuhAvDAGlR"
      },
      "source": [
        "### Collect and Prepare the Data - `Xy`\n"
      ]
    },
    {
      "cell_type": "markdown",
      "metadata": {
        "id": "zZYzDznvHEFP"
      },
      "source": [
        "#### Dataset collection and annotation"
      ]
    },
    {
      "cell_type": "code",
      "execution_count": null,
      "metadata": {
        "id": "X40isaXw_1b_"
      },
      "outputs": [],
      "source": [
        "def download_dataset(url: str, extract_to: str):\n",
        "    \"\"\"Download and extract the dataset from a given URL.\"\"\"\n",
        "\n",
        "    # Extract the file name from the URL\n",
        "    tar_gz_path = url.split(\"/\")[-1]\n",
        "\n",
        "    # Download the dataset\n",
        "    print(f\"Downloading dataset from {url}...\")\n",
        "    response = requests.get(url, stream=True)\n",
        "    with open(tar_gz_path, \"wb\") as file:\n",
        "        for chunk in response.iter_content(chunk_size=8192):\n",
        "            if chunk:\n",
        "                file.write(chunk)\n",
        "\n",
        "    # Create directory if it does not exist\n",
        "    os.makedirs(extract_to, exist_ok=True)\n",
        "\n",
        "    # Extract the downloaded file\n",
        "    print(f\"Extracting dataset to {extract_to}...\")\n",
        "    with tarfile.open(tar_gz_path, \"r:gz\") as tar:\n",
        "        tar.extractall(path=extract_to)\n",
        "\n",
        "    # Optionally, remove the tar.gz file after extraction\n",
        "    os.remove(tar_gz_path)\n",
        "\n",
        "    print(\"Dataset downloaded and extracted successfully.\")\n",
        "\n",
        "def read_reviews(directory: str, label: int):\n",
        "    \"\"\"Read reviews from specified directory and return as DataFrame.\"\"\"\n",
        "    reviews = []\n",
        "    file_paths = [os.path.join(directory, f) for f in os.listdir(directory)]\n",
        "    for file_path in file_paths:\n",
        "        with open(file_path, 'r', encoding='utf-8') as file:\n",
        "            review_text = file.read()\n",
        "            reviews.append((review_text, label))\n",
        "    return pd.DataFrame(reviews, columns=['review', 'sentiment'])\n",
        "\n",
        "def get_dataset(url: str, extract_to: str):\n",
        "    \"\"\"Check if the dataset exists locally. If not, download and extract it. Then, load into pandas DataFrame.\"\"\"\n",
        "    if not os.path.exists(extract_to):\n",
        "        download_dataset(url, extract_to)\n",
        "\n",
        "    pos_train = read_reviews(os.path.join(extract_to, 'aclImdb' ,  'train', 'pos'), 'positive')\n",
        "    neg_train = read_reviews(os.path.join(extract_to, 'aclImdb' ,  'train', 'neg'), 'negative')\n",
        "    pos_test = read_reviews(os.path.join(extract_to,  'aclImdb' ,  'test',  'pos'), 'positive')\n",
        "    neg_test = read_reviews(os.path.join(extract_to,  'aclImdb' ,  'test',  'neg'), 'negative')\n",
        "\n",
        "    # Combine into single DataFrame\n",
        "    Xy = pd.concat([pos_train, neg_train, pos_test, neg_test], ignore_index=True)\n",
        "\n",
        "    # Optionally shuffle the data\n",
        "    Xy = Xy.sample(frac=1, random_state=random_state).reset_index(drop=True)\n",
        "\n",
        "    print(\"Datasets loaded successfully.\")\n",
        "    return Xy"
      ]
    },
    {
      "cell_type": "code",
      "execution_count": null,
      "metadata": {
        "colab": {
          "base_uri": "https://localhost:8080/"
        },
        "id": "Pg1xbTBdkP5A",
        "outputId": "d82e8e32-e76c-49ac-a693-93a7ec6700fc"
      },
      "outputs": [
        {
          "name": "stdout",
          "output_type": "stream",
          "text": [
            "Datasets loaded successfully.\n"
          ]
        }
      ],
      "source": [
        "imdb_url = \"https://ai.stanford.edu/~amaas/data/sentiment/aclImdb_v1.tar.gz\"\n",
        "output_dir = \"imdb_dataset\"\n",
        "Xy = get_dataset(imdb_url, output_dir)"
      ]
    },
    {
      "cell_type": "markdown",
      "metadata": {
        "id": "B7R8WvrKzVnu"
      },
      "source": [
        "#### Data View"
      ]
    },
    {
      "cell_type": "code",
      "execution_count": null,
      "metadata": {
        "colab": {
          "base_uri": "https://localhost:8080/"
        },
        "id": "7ST1XIJCpeEA",
        "outputId": "decf33c1-2613-427a-96da-11047b395403"
      },
      "outputs": [
        {
          "data": {
            "text/html": [
              "<div>\n",
              "<style scoped>\n",
              "    .dataframe tbody tr th:only-of-type {\n",
              "        vertical-align: middle;\n",
              "    }\n",
              "\n",
              "    .dataframe tbody tr th {\n",
              "        vertical-align: top;\n",
              "    }\n",
              "\n",
              "    .dataframe thead th {\n",
              "        text-align: right;\n",
              "    }\n",
              "</style>\n",
              "<table border=\"1\" class=\"dataframe\">\n",
              "  <thead>\n",
              "    <tr style=\"text-align: right;\">\n",
              "      <th></th>\n",
              "      <th>review</th>\n",
              "      <th>sentiment</th>\n",
              "    </tr>\n",
              "  </thead>\n",
              "  <tbody>\n",
              "    <tr>\n",
              "      <th>count</th>\n",
              "      <td>50000</td>\n",
              "      <td>50000</td>\n",
              "    </tr>\n",
              "    <tr>\n",
              "      <th>unique</th>\n",
              "      <td>49582</td>\n",
              "      <td>2</td>\n",
              "    </tr>\n",
              "    <tr>\n",
              "      <th>top</th>\n",
              "      <td>Loved today's show!!! It was a variety and not...</td>\n",
              "      <td>positive</td>\n",
              "    </tr>\n",
              "    <tr>\n",
              "      <th>freq</th>\n",
              "      <td>5</td>\n",
              "      <td>25000</td>\n",
              "    </tr>\n",
              "  </tbody>\n",
              "</table>\n",
              "</div>"
            ],
            "text/plain": [
              "                                                   review sentiment\n",
              "count                                               50000     50000\n",
              "unique                                              49582         2\n",
              "top     Loved today's show!!! It was a variety and not...  positive\n",
              "freq                                                    5     25000"
            ]
          },
          "execution_count": 360,
          "metadata": {},
          "output_type": "execute_result"
        }
      ],
      "source": [
        "Xy.describe()"
      ]
    },
    {
      "cell_type": "code",
      "execution_count": null,
      "metadata": {
        "colab": {
          "base_uri": "https://localhost:8080/"
        },
        "id": "Q2GtnA3PIVaM",
        "outputId": "80fa19f5-4e8c-4c06-c234-f096a046c01b"
      },
      "outputs": [
        {
          "data": {
            "text/html": [
              "<div>\n",
              "<style scoped>\n",
              "    .dataframe tbody tr th:only-of-type {\n",
              "        vertical-align: middle;\n",
              "    }\n",
              "\n",
              "    .dataframe tbody tr th {\n",
              "        vertical-align: top;\n",
              "    }\n",
              "\n",
              "    .dataframe thead th {\n",
              "        text-align: right;\n",
              "    }\n",
              "</style>\n",
              "<table border=\"1\" class=\"dataframe\">\n",
              "  <thead>\n",
              "    <tr style=\"text-align: right;\">\n",
              "      <th></th>\n",
              "      <th>review</th>\n",
              "      <th>sentiment</th>\n",
              "    </tr>\n",
              "  </thead>\n",
              "  <tbody>\n",
              "    <tr>\n",
              "      <th>0</th>\n",
              "      <td>\"Porgy &amp; Bess\" was the very first movie my par...</td>\n",
              "      <td>positive</td>\n",
              "    </tr>\n",
              "    <tr>\n",
              "      <th>1</th>\n",
              "      <td>The 1960's TV series Bewitched owes it's idea ...</td>\n",
              "      <td>positive</td>\n",
              "    </tr>\n",
              "    <tr>\n",
              "      <th>2</th>\n",
              "      <td>When I first got my N64 when I was five or six...</td>\n",
              "      <td>positive</td>\n",
              "    </tr>\n",
              "    <tr>\n",
              "      <th>3</th>\n",
              "      <td>I grew up on this movie and I can remember whe...</td>\n",
              "      <td>positive</td>\n",
              "    </tr>\n",
              "    <tr>\n",
              "      <th>4</th>\n",
              "      <td>this is a dreadful adaption of Charles Kingsle...</td>\n",
              "      <td>negative</td>\n",
              "    </tr>\n",
              "  </tbody>\n",
              "</table>\n",
              "</div>"
            ],
            "text/plain": [
              "                                              review sentiment\n",
              "0  \"Porgy & Bess\" was the very first movie my par...  positive\n",
              "1  The 1960's TV series Bewitched owes it's idea ...  positive\n",
              "2  When I first got my N64 when I was five or six...  positive\n",
              "3  I grew up on this movie and I can remember whe...  positive\n",
              "4  this is a dreadful adaption of Charles Kingsle...  negative"
            ]
          },
          "execution_count": 325,
          "metadata": {},
          "output_type": "execute_result"
        },
        {
          "data": {
            "text/html": [
              "<div>\n",
              "<style scoped>\n",
              "    .dataframe tbody tr th:only-of-type {\n",
              "        vertical-align: middle;\n",
              "    }\n",
              "\n",
              "    .dataframe tbody tr th {\n",
              "        vertical-align: top;\n",
              "    }\n",
              "\n",
              "    .dataframe thead th {\n",
              "        text-align: right;\n",
              "    }\n",
              "</style>\n",
              "<table border=\"1\" class=\"dataframe\">\n",
              "  <thead>\n",
              "    <tr style=\"text-align: right;\">\n",
              "      <th></th>\n",
              "      <th>review</th>\n",
              "      <th>sentiment</th>\n",
              "    </tr>\n",
              "  </thead>\n",
              "  <tbody>\n",
              "    <tr>\n",
              "      <th>0</th>\n",
              "      <td>\"Porgy &amp; Bess\" was the very first movie my par...</td>\n",
              "      <td>positive</td>\n",
              "    </tr>\n",
              "    <tr>\n",
              "      <th>1</th>\n",
              "      <td>The 1960's TV series Bewitched owes it's idea ...</td>\n",
              "      <td>positive</td>\n",
              "    </tr>\n",
              "    <tr>\n",
              "      <th>2</th>\n",
              "      <td>When I first got my N64 when I was five or six...</td>\n",
              "      <td>positive</td>\n",
              "    </tr>\n",
              "    <tr>\n",
              "      <th>3</th>\n",
              "      <td>I grew up on this movie and I can remember whe...</td>\n",
              "      <td>positive</td>\n",
              "    </tr>\n",
              "    <tr>\n",
              "      <th>4</th>\n",
              "      <td>this is a dreadful adaption of Charles Kingsle...</td>\n",
              "      <td>negative</td>\n",
              "    </tr>\n",
              "  </tbody>\n",
              "</table>\n",
              "</div>"
            ],
            "text/plain": [
              "                                              review sentiment\n",
              "0  \"Porgy & Bess\" was the very first movie my par...  positive\n",
              "1  The 1960's TV series Bewitched owes it's idea ...  positive\n",
              "2  When I first got my N64 when I was five or six...  positive\n",
              "3  I grew up on this movie and I can remember whe...  positive\n",
              "4  this is a dreadful adaption of Charles Kingsle...  negative"
            ]
          },
          "execution_count": 361,
          "metadata": {},
          "output_type": "execute_result"
        }
      ],
      "source": [
        "Xy.head()"
      ]
    },
    {
      "cell_type": "code",
      "execution_count": null,
      "metadata": {
        "colab": {
          "base_uri": "https://localhost:8080/"
        },
        "id": "rmLA87cMIpFT",
        "outputId": "484d1242-256f-483f-b396-e974473c0de6"
      },
      "outputs": [
        {
          "data": {
            "text/plain": [
              "\"The 1960's TV series Bewitched owes it's idea from this movie. This is the movie that Jimmy Stewart & Kim Novak made right after they were cast together in Vertigo by Alfred Hitchcock. This one is not as obsessive as that one but Novak is just as captivating.<br /><br />This was Jack Lemmons 10th movie and he is good in support here as well as Ernie Kovacs. The movie has a lot of good things about it. Hermine Gingold is very good in this movie, almost as good in support here as she was in The Music Man. The cast is very solid.<br /><br />This movie has a late 1950's New York City feel & a cat that is as hexing as any feline in any movie. It is well worth watching as it is a love story with all the emotion of any, & a little magic too boot.<br /><br />It is not Vertigo but I think because it followed that movie, viewers then did not rate it as good as it deserved - sure am glad that William Asher saw it, so that the 1960's series got created. I am not so glad about what Will Ferrell did to it on the big screen, this movie is much better than that.\""
            ]
          },
          "execution_count": 326,
          "metadata": {},
          "output_type": "execute_result"
        }
      ],
      "source": [
        "Xy['review'][1]"
      ]
    },
    {
      "cell_type": "markdown",
      "metadata": {
        "id": "YgVuzY2nIFAb"
      },
      "source": [
        "Duplicates"
      ]
    },
    {
      "cell_type": "code",
      "execution_count": null,
      "metadata": {
        "colab": {
          "base_uri": "https://localhost:8080/"
        },
        "id": "xgGRPeKWH___",
        "outputId": "a5acec6c-ca52-42ce-cb57-e023fd54b827"
      },
      "outputs": [
        {
          "data": {
            "text/plain": [
              "418"
            ]
          },
          "execution_count": 327,
          "metadata": {},
          "output_type": "execute_result"
        }
      ],
      "source": [
        "Xy.duplicated().sum()"
      ]
    },
    {
      "cell_type": "markdown",
      "metadata": {
        "id": "bUx1EY9k1DZy"
      },
      "source": [
        "Sentiment count"
      ]
    },
    {
      "cell_type": "code",
      "execution_count": null,
      "metadata": {
        "colab": {
          "base_uri": "https://localhost:8080/"
        },
        "id": "asqNPAB2yZji",
        "outputId": "4c980fb7-362e-4b2b-adc4-68ebeff86888"
      },
      "outputs": [
        {
          "data": {
            "text/plain": [
              "sentiment\n",
              "positive    25000\n",
              "negative    25000\n",
              "Name: count, dtype: int64"
            ]
          },
          "execution_count": 328,
          "metadata": {},
          "output_type": "execute_result"
        }
      ],
      "source": [
        "Xy['sentiment'].value_counts()"
      ]
    },
    {
      "cell_type": "markdown",
      "metadata": {
        "id": "d4wI9EMY1Xlj"
      },
      "source": [
        "#### Pre-Processing"
      ]
    },
    {
      "cell_type": "markdown",
      "metadata": {
        "id": "tfwRUvQaK0t3"
      },
      "source": [
        "Remove Duplicates"
      ]
    },
    {
      "cell_type": "code",
      "execution_count": null,
      "metadata": {
        "colab": {
          "base_uri": "https://localhost:8080/"
        },
        "id": "6K-avZVCK0F5",
        "outputId": "abead109-7023-4af0-b848-56f51f9026f8"
      },
      "outputs": [
        {
          "data": {
            "text/plain": [
              "(49582, 2)"
            ]
          },
          "execution_count": 329,
          "metadata": {},
          "output_type": "execute_result"
        }
      ],
      "source": [
        "Xy=Xy.drop_duplicates()\n",
        "Xy.shape"
      ]
    },
    {
      "cell_type": "markdown",
      "metadata": {
        "id": "GCgo7Nz1l4F-"
      },
      "source": [
        "Convert text into clauses"
      ]
    },
    {
      "cell_type": "code",
      "execution_count": null,
      "metadata": {
        "colab": {
          "base_uri": "https://localhost:8080/"
        },
        "id": "OguJw1IOq_hI",
        "outputId": "3d01e1a6-d0fd-421f-bda3-d2927adfc899"
      },
      "outputs": [
        {
          "name": "stderr",
          "output_type": "stream",
          "text": [
            "/usr/local/lib/python3.10/dist-packages/spacy/util.py:1740: UserWarning: [W111] Jupyter notebook detected: if using `prefer_gpu()` or `require_gpu()`, include it in the same cell right before `spacy.load()` to ensure that the model is loaded on the correct device. More information: http://spacy.io/usage/v3#jupyter-notebook-gpu\n",
            "  warnings.warn(Warnings.W111)\n"
          ]
        }
      ],
      "source": [
        "# Load the spaCy model\n",
        "nlp = spacy.load(\"en_core_web_sm\")"
      ]
    },
    {
      "cell_type": "code",
      "execution_count": null,
      "metadata": {
        "id": "0P4Vbckol3VJ"
      },
      "outputs": [],
      "source": [
        "# Modify the tokenizer's rules to handle specific cases\n",
        "@nlp.component(\"set_custom_boundaries\")\n",
        "def set_custom_boundaries(doc):\n",
        "    for token in doc[:-1]:\n",
        "        if token.text == ',':\n",
        "            doc[token.i+1].is_sent_start = False\n",
        "    return doc"
      ]
    },
    {
      "cell_type": "code",
      "execution_count": null,
      "metadata": {
        "colab": {
          "base_uri": "https://localhost:8080/",
          "height": 104
        },
        "id": "Haw7dbwnnrk0",
        "outputId": "f83cae3a-1733-4f98-ab47-0cd006a9fc65"
      },
      "outputs": [
        {
          "data": {
            "text/html": [
              "<div style=\"max-width:800px; border: 1px solid var(--colab-border-color);\"><style>\n",
              "      pre.function-repr-contents {\n",
              "        overflow-x: auto;\n",
              "        padding: 8px 12px;\n",
              "        max-height: 500px;\n",
              "      }\n",
              "\n",
              "      pre.function-repr-contents.function-repr-contents-collapsed {\n",
              "        cursor: pointer;\n",
              "        max-height: 100px;\n",
              "      }\n",
              "    </style>\n",
              "    <pre style=\"white-space: initial; background:\n",
              "         var(--colab-secondary-surface-color); padding: 8px 12px;\n",
              "         border-bottom: 1px solid var(--colab-border-color);\"><b>set_custom_boundaries</b><br/>def set_custom_boundaries(doc)</pre><pre class=\"function-repr-contents function-repr-contents-collapsed\" style=\"\"><a class=\"filepath\" style=\"display:none\" href=\"#\">/content/&lt;ipython-input-91-72178bc4fd66&gt;</a>&lt;no docstring&gt;</pre></div>"
            ],
            "text/plain": [
              "<function __main__.set_custom_boundaries(doc)>"
            ]
          },
          "execution_count": 92,
          "metadata": {},
          "output_type": "execute_result"
        }
      ],
      "source": [
        "# Add the rule before parsing\n",
        "nlp.add_pipe(\"set_custom_boundaries\", before='parser')"
      ]
    },
    {
      "cell_type": "markdown",
      "metadata": {
        "id": "q1heEDb3JVQh"
      },
      "source": [
        "Denoise"
      ]
    },
    {
      "cell_type": "code",
      "execution_count": null,
      "metadata": {
        "id": "syu1THvyJcTn"
      },
      "outputs": [],
      "source": [
        "# Remove whitespace\n",
        "def remove_whitespace(text):\n",
        "    return re.sub(r'\\s+', ' ', text).strip()\n",
        "\n",
        "# Remove the html strips\n",
        "def remove_html(text):\n",
        "    soup = BeautifulSoup(text, \"html.parser\")\n",
        "    return soup.get_text()\n",
        "\n",
        "# Remove the square brackets\n",
        "def remove_between_square_brackets(text):\n",
        "    return re.sub('\\[[^]]*\\]', '', text)\n",
        "\n",
        "# Remove url data\n",
        "def remove_url(text):\n",
        "    text=re.sub(r\"https?://\\S+|www\\.\\S+\",'',text)\n",
        "    return text\n",
        "\n",
        "# Remove special characters\n",
        "def remove_special_characters(text, remove_digits=True):\n",
        "    pattern=r'[^a-zA-z0-9\\s]'\n",
        "    text=re.sub(pattern,'',text)\n",
        "    return text\n",
        "\n",
        "# Remove Punctuation\n",
        "def remove_punctuation(text):\n",
        "    for i in string.punctuation:\n",
        "        if i in text:\n",
        "            text = text.replace(i,'')\n",
        "    return text"
      ]
    },
    {
      "cell_type": "code",
      "execution_count": null,
      "metadata": {
        "id": "8-jAgHlTdVlT"
      },
      "outputs": [],
      "source": [
        "# Remove the noisy text\n",
        "def denoise_text(text):\n",
        "    text = remove_punctuation(remove_special_characters(remove_url(remove_between_square_brackets(remove_html(remove_whitespace(text))))))\n",
        "    return text"
      ]
    },
    {
      "cell_type": "markdown",
      "metadata": {
        "id": "nesYOjAUZ_1u"
      },
      "source": [
        "Standardize"
      ]
    },
    {
      "cell_type": "code",
      "execution_count": null,
      "metadata": {
        "id": "Zcy_-8e4aKPp"
      },
      "outputs": [],
      "source": [
        "# convert text to lowercase\n",
        "def convert_lowercase(text):\n",
        "    return text.lower()"
      ]
    },
    {
      "cell_type": "code",
      "execution_count": null,
      "metadata": {
        "id": "g_zccmmuKnlu"
      },
      "outputs": [],
      "source": [
        "# standardize text\n",
        "def standardize_text(text):\n",
        "  text = convert_lowercase(text)\n",
        "  return text"
      ]
    },
    {
      "cell_type": "markdown",
      "metadata": {
        "id": "x03YeIYb0Shb"
      },
      "source": [
        "\n",
        "Remove stop words and Lemmatize"
      ]
    },
    {
      "cell_type": "code",
      "execution_count": null,
      "metadata": {
        "id": "9t0rCKzy1woL"
      },
      "outputs": [],
      "source": [
        "negation_words = {'no', 'not', 'nor', 'never', \"don't\", \"aren't\", \"isn't\", \"wasn't\", \"weren't\", \"haven't\", \"hasn't\", \"didn't\", \"doesn't\", \"won't\", \"wouldn't\", \"can't\", \"couldn't\"}"
      ]
    },
    {
      "cell_type": "code",
      "execution_count": null,
      "metadata": {
        "id": "cQZKf4TU1hwz"
      },
      "outputs": [],
      "source": [
        "custom_stop_words = ['movie', 'film', 'flick' 'one', 'in', 'it', 'have', 'who', 'as', 'he']"
      ]
    },
    {
      "cell_type": "code",
      "execution_count": null,
      "metadata": {
        "id": "vS2IOLhL0_OW"
      },
      "outputs": [],
      "source": [
        "stopwords_set = set(stopwords.words('english') + custom_stop_words).difference(negation_words)\n",
        "lemmatizer = WordNetLemmatizer()"
      ]
    },
    {
      "cell_type": "code",
      "execution_count": null,
      "metadata": {
        "id": "xldhzkJO1A1n"
      },
      "outputs": [],
      "source": [
        "lemmatized = {}\n",
        "def lemmatize(text):\n",
        "    tokens = word_tokenize(text)\n",
        "    lemmatize_tokens = []\n",
        "\n",
        "    for word in tokens:\n",
        "        if word in lemmatized:\n",
        "            lemmatize_tokens.append(word)\n",
        "        else:\n",
        "          if word not in stopwords_set:\n",
        "            lemmatized_word = lemmatizer.lemmatize(word)\n",
        "\n",
        "            if lemmatized_word not in lemmatized:\n",
        "              lemmatized[lemmatized_word] = [word]\n",
        "            else:\n",
        "              if word not in lemmatized[lemmatized_word]:\n",
        "                lemmatized[lemmatized_word].append(word)\n",
        "            lemmatize_tokens.append(lemmatized_word)\n",
        "\n",
        "    return lemmatize_tokens\n"
      ]
    },
    {
      "cell_type": "markdown",
      "metadata": {
        "id": "iNzNq0ctzSx3"
      },
      "source": [
        "Apply"
      ]
    },
    {
      "cell_type": "code",
      "execution_count": null,
      "metadata": {
        "id": "LUcp44VszQXn"
      },
      "outputs": [],
      "source": [
        "def preprocess(text):\n",
        "    \"\"\"\n",
        "    Extracts clauses from a sentence using spaCy's dependency parser and preprocess.\n",
        "    \"\"\"\n",
        "    text_clauses = []\n",
        "    doc = nlp(text)\n",
        "\n",
        "    for sent in doc.sents:\n",
        "      sentence_clauses = []\n",
        "\n",
        "      for token in sent:\n",
        "        if 'VERB' in token.pos_:\n",
        "            clause = ' '.join([tok.text for tok in token.subtree])\n",
        "            processed_clause = ' '.join(lemmatize(standardize_text(denoise_text(clause))))\n",
        "            if len(processed_clause) > 0:\n",
        "              sentence_clauses.append(processed_clause)\n",
        "\n",
        "      if len(sentence_clauses) > 0:\n",
        "        text_clauses.append(sentence_clauses)\n",
        "\n",
        "    return text_clauses"
      ]
    },
    {
      "cell_type": "code",
      "execution_count": null,
      "metadata": {
        "id": "80X0gvNeKJUw",
        "outputId": "d6c707c7-1fdb-4b40-ee5e-b6ba277df4f4"
      },
      "outputs": [
        {
          "data": {
            "text/plain": [
              "[['parent ever took see', 'see'],\n",
              " ['even tender age 5 year greatly moved drama cried aloud screen crown please nt take be',\n",
              "  'cried aloud screen crown',\n",
              "  'please nt take be'],\n",
              " ['see one tv broadcast porgy be many year ago',\n",
              "  'remember wonderful wonderful'],\n",
              " ['waiting wishing hoping one day might copy porgy be nt look like happen',\n",
              "  'wishing hoping one day might copy porgy be',\n",
              "  'hoping one day might copy porgy be',\n",
              "  'one day might copy porgy be',\n",
              "  'nt look like happen',\n",
              "  'like happen'],\n",
              " ['obviously enough public interest warrant release', 'warrant release'],\n",
              " ['year remember sure seems like not alone', 'sure seems like not alone'],\n",
              " ['brimming human emotion jealousy lust anger bravery determination'],\n",
              " ['buried',\n",
              "  'deserves be brought forth light new audience admire',\n",
              "  'be brought forth light new audience admire',\n",
              "  'old audience relish']]"
            ]
          },
          "execution_count": 342,
          "metadata": {},
          "output_type": "execute_result"
        }
      ],
      "source": [
        "preprocess(Xy['review'][0])"
      ]
    },
    {
      "cell_type": "code",
      "execution_count": null,
      "metadata": {
        "id": "gj628fp5zk7J"
      },
      "outputs": [],
      "source": [
        "Xy['clauses'] = Xy['review'].apply(preprocess)"
      ]
    },
    {
      "cell_type": "markdown",
      "metadata": {
        "id": "26CdYF1tzTpJ"
      },
      "source": [
        "Pre-Process Result"
      ]
    },
    {
      "cell_type": "code",
      "execution_count": null,
      "metadata": {
        "colab": {
          "base_uri": "https://localhost:8080/"
        },
        "id": "a5fvSHqjpmCG",
        "outputId": "468ab9d1-6281-498b-a868-436d263a5139"
      },
      "outputs": [
        {
          "data": {
            "text/html": [
              "<div>\n",
              "<style scoped>\n",
              "    .dataframe tbody tr th:only-of-type {\n",
              "        vertical-align: middle;\n",
              "    }\n",
              "\n",
              "    .dataframe tbody tr th {\n",
              "        vertical-align: top;\n",
              "    }\n",
              "\n",
              "    .dataframe thead th {\n",
              "        text-align: right;\n",
              "    }\n",
              "</style>\n",
              "<table border=\"1\" class=\"dataframe\">\n",
              "  <thead>\n",
              "    <tr style=\"text-align: right;\">\n",
              "      <th></th>\n",
              "      <th>review</th>\n",
              "      <th>sentiment</th>\n",
              "      <th>clauses</th>\n",
              "    </tr>\n",
              "  </thead>\n",
              "  <tbody>\n",
              "    <tr>\n",
              "      <th>0</th>\n",
              "      <td>\"Porgy &amp; Bess\" was the very first movie my par...</td>\n",
              "      <td>positive</td>\n",
              "      <td>[[parent ever took see, see], [even tender age...</td>\n",
              "    </tr>\n",
              "    <tr>\n",
              "      <th>1</th>\n",
              "      <td>The 1960's TV series Bewitched owes it's idea ...</td>\n",
              "      <td>positive</td>\n",
              "      <td>[[bewitched owes], [jimmy stewart kim novak ma...</td>\n",
              "    </tr>\n",
              "    <tr>\n",
              "      <th>2</th>\n",
              "      <td>When I first got my N64 when I was five or six...</td>\n",
              "      <td>positive</td>\n",
              "      <td>[[first got n64 five six, first got n64 five s...</td>\n",
              "    </tr>\n",
              "    <tr>\n",
              "      <th>3</th>\n",
              "      <td>I grew up on this movie and I can remember whe...</td>\n",
              "      <td>positive</td>\n",
              "      <td>[[grew remember brother used play backyard pre...</td>\n",
              "    </tr>\n",
              "    <tr>\n",
              "      <th>4</th>\n",
              "      <td>this is a dreadful adaption of Charles Kingsle...</td>\n",
              "      <td>negative</td>\n",
              "      <td>[[put bluntly awful], [song epsecially high co...</td>\n",
              "    </tr>\n",
              "  </tbody>\n",
              "</table>\n",
              "</div>"
            ],
            "text/plain": [
              "                                              review sentiment  \\\n",
              "0  \"Porgy & Bess\" was the very first movie my par...  positive   \n",
              "1  The 1960's TV series Bewitched owes it's idea ...  positive   \n",
              "2  When I first got my N64 when I was five or six...  positive   \n",
              "3  I grew up on this movie and I can remember whe...  positive   \n",
              "4  this is a dreadful adaption of Charles Kingsle...  negative   \n",
              "\n",
              "                                             clauses  \n",
              "0  [[parent ever took see, see], [even tender age...  \n",
              "1  [[bewitched owes], [jimmy stewart kim novak ma...  \n",
              "2  [[first got n64 five six, first got n64 five s...  \n",
              "3  [[grew remember brother used play backyard pre...  \n",
              "4  [[put bluntly awful], [song epsecially high co...  "
            ]
          },
          "execution_count": 56,
          "metadata": {},
          "output_type": "execute_result"
        }
      ],
      "source": [
        "Xy.head()"
      ]
    },
    {
      "cell_type": "code",
      "execution_count": null,
      "metadata": {
        "colab": {
          "base_uri": "https://localhost:8080/"
        },
        "id": "FrYZtQkg153h",
        "outputId": "403be3b6-95f3-40c4-8a7b-24353abdac1d"
      },
      "outputs": [
        {
          "data": {
            "text/plain": [
              "[['bewitched owes'],\n",
              " ['jimmy stewart kim novak made right cast together vertigo alfred hitchcock',\n",
              "  'cast together vertigo alfred hitchcock'],\n",
              " ['lot good thing'],\n",
              " ['late 1950 new york city feel cat hexing feline',\n",
              "  'late 1950 new york city feel cat hexing feline',\n",
              "  'hexing feline'],\n",
              " ['watching love story emotion'],\n",
              " ['think followed viewer not rate good deserved sure glad william asher saw 1960 series got created',\n",
              "  'followed',\n",
              "  'followed viewer not rate good deserved',\n",
              "  'deserved',\n",
              "  'william asher saw',\n",
              "  '1960 series got created']]"
            ]
          },
          "execution_count": 58,
          "metadata": {},
          "output_type": "execute_result"
        }
      ],
      "source": [
        "Xy['clauses'][1]"
      ]
    },
    {
      "cell_type": "markdown",
      "metadata": {
        "id": "WMvuQUwcTqPk"
      },
      "source": [
        "#### Label Encoding"
      ]
    },
    {
      "cell_type": "code",
      "execution_count": null,
      "metadata": {
        "id": "C-RRZ36Ysyr4"
      },
      "outputs": [],
      "source": [
        "LE = LabelEncoder()\n",
        "Xy['sentiment_encoded'] = LE.fit_transform(Xy['sentiment'])"
      ]
    },
    {
      "cell_type": "code",
      "execution_count": null,
      "metadata": {
        "colab": {
          "base_uri": "https://localhost:8080/",
          "height": 424
        },
        "id": "I-K1ic6vs8JL",
        "outputId": "79733b36-099d-417c-9a22-b410c576994b"
      },
      "outputs": [
        {
          "data": {
            "text/html": [
              "<div>\n",
              "<style scoped>\n",
              "    .dataframe tbody tr th:only-of-type {\n",
              "        vertical-align: middle;\n",
              "    }\n",
              "\n",
              "    .dataframe tbody tr th {\n",
              "        vertical-align: top;\n",
              "    }\n",
              "\n",
              "    .dataframe thead th {\n",
              "        text-align: right;\n",
              "    }\n",
              "</style>\n",
              "<table border=\"1\" class=\"dataframe\">\n",
              "  <thead>\n",
              "    <tr style=\"text-align: right;\">\n",
              "      <th></th>\n",
              "      <th>review</th>\n",
              "      <th>sentiment</th>\n",
              "      <th>clauses</th>\n",
              "      <th>sentiment_encoded</th>\n",
              "    </tr>\n",
              "  </thead>\n",
              "  <tbody>\n",
              "    <tr>\n",
              "      <th>0</th>\n",
              "      <td>\"Porgy &amp; Bess\" was the very first movie my par...</td>\n",
              "      <td>positive</td>\n",
              "      <td>[[parent ever took see, see], [even tender age...</td>\n",
              "      <td>1</td>\n",
              "    </tr>\n",
              "    <tr>\n",
              "      <th>1</th>\n",
              "      <td>The 1960's TV series Bewitched owes it's idea ...</td>\n",
              "      <td>positive</td>\n",
              "      <td>[[bewitched owes], [jimmy stewart kim novak ma...</td>\n",
              "      <td>1</td>\n",
              "    </tr>\n",
              "    <tr>\n",
              "      <th>2</th>\n",
              "      <td>When I first got my N64 when I was five or six...</td>\n",
              "      <td>positive</td>\n",
              "      <td>[[first got n64 five six, first got n64 five s...</td>\n",
              "      <td>1</td>\n",
              "    </tr>\n",
              "    <tr>\n",
              "      <th>3</th>\n",
              "      <td>I grew up on this movie and I can remember whe...</td>\n",
              "      <td>positive</td>\n",
              "      <td>[[grew remember brother used play backyard pre...</td>\n",
              "      <td>1</td>\n",
              "    </tr>\n",
              "    <tr>\n",
              "      <th>4</th>\n",
              "      <td>this is a dreadful adaption of Charles Kingsle...</td>\n",
              "      <td>negative</td>\n",
              "      <td>[[put bluntly awful], [song epsecially high co...</td>\n",
              "      <td>0</td>\n",
              "    </tr>\n",
              "    <tr>\n",
              "      <th>...</th>\n",
              "      <td>...</td>\n",
              "      <td>...</td>\n",
              "      <td>...</td>\n",
              "      <td>...</td>\n",
              "    </tr>\n",
              "    <tr>\n",
              "      <th>49995</th>\n",
              "      <td>Two sorcerers battle in the fourth dimension,o...</td>\n",
              "      <td>positive</td>\n",
              "      <td>[[destroy earth, save], [offer plenty cheese],...</td>\n",
              "      <td>1</td>\n",
              "    </tr>\n",
              "    <tr>\n",
              "      <th>49996</th>\n",
              "      <td>BLACK EYE (2 outta 5 stars) Unimaginatively-fi...</td>\n",
              "      <td>negative</td>\n",
              "      <td>[[unimaginatively filmed, black eye 2 outta 5 ...</td>\n",
              "      <td>0</td>\n",
              "    </tr>\n",
              "    <tr>\n",
              "      <th>49997</th>\n",
              "      <td>This film has been compared to the hilarious B...</td>\n",
              "      <td>negative</td>\n",
              "      <td>[[film compared hilarious british comedy fish ...</td>\n",
              "      <td>0</td>\n",
              "    </tr>\n",
              "    <tr>\n",
              "      <th>49998</th>\n",
              "      <td>this may not be War &amp; Peace, but the two Acade...</td>\n",
              "      <td>positive</td>\n",
              "      <td>[[i fallen in love as child gone back without ...</td>\n",
              "      <td>1</td>\n",
              "    </tr>\n",
              "    <tr>\n",
              "      <th>49999</th>\n",
              "      <td>Friday the 13th step over! There is officially...</td>\n",
              "      <td>negative</td>\n",
              "      <td>[[there officially worse movie hateful series ...</td>\n",
              "      <td>0</td>\n",
              "    </tr>\n",
              "  </tbody>\n",
              "</table>\n",
              "<p>49582 rows × 4 columns</p>\n",
              "</div>"
            ],
            "text/plain": [
              "                                                  review sentiment  \\\n",
              "0      \"Porgy & Bess\" was the very first movie my par...  positive   \n",
              "1      The 1960's TV series Bewitched owes it's idea ...  positive   \n",
              "2      When I first got my N64 when I was five or six...  positive   \n",
              "3      I grew up on this movie and I can remember whe...  positive   \n",
              "4      this is a dreadful adaption of Charles Kingsle...  negative   \n",
              "...                                                  ...       ...   \n",
              "49995  Two sorcerers battle in the fourth dimension,o...  positive   \n",
              "49996  BLACK EYE (2 outta 5 stars) Unimaginatively-fi...  negative   \n",
              "49997  This film has been compared to the hilarious B...  negative   \n",
              "49998  this may not be War & Peace, but the two Acade...  positive   \n",
              "49999  Friday the 13th step over! There is officially...  negative   \n",
              "\n",
              "                                                 clauses  sentiment_encoded  \n",
              "0      [[parent ever took see, see], [even tender age...                  1  \n",
              "1      [[bewitched owes], [jimmy stewart kim novak ma...                  1  \n",
              "2      [[first got n64 five six, first got n64 five s...                  1  \n",
              "3      [[grew remember brother used play backyard pre...                  1  \n",
              "4      [[put bluntly awful], [song epsecially high co...                  0  \n",
              "...                                                  ...                ...  \n",
              "49995  [[destroy earth, save], [offer plenty cheese],...                  1  \n",
              "49996  [[unimaginatively filmed, black eye 2 outta 5 ...                  0  \n",
              "49997  [[film compared hilarious british comedy fish ...                  0  \n",
              "49998  [[i fallen in love as child gone back without ...                  1  \n",
              "49999  [[there officially worse movie hateful series ...                  0  \n",
              "\n",
              "[49582 rows x 4 columns]"
            ]
          },
          "execution_count": 60,
          "metadata": {},
          "output_type": "execute_result"
        }
      ],
      "source": [
        "Xy"
      ]
    },
    {
      "cell_type": "markdown",
      "metadata": {
        "id": "nOzI1mJwKJUw"
      },
      "source": [
        "#### Save"
      ]
    },
    {
      "cell_type": "code",
      "execution_count": null,
      "metadata": {
        "id": "Jh_auCnqKJUw"
      },
      "outputs": [],
      "source": [
        "import json\n",
        "with open('lemmatized.json', 'w') as fp:\n",
        "  json.dump(lemmatized, fp)"
      ]
    },
    {
      "cell_type": "code",
      "execution_count": null,
      "metadata": {
        "id": "3FyRiiNlyv9U"
      },
      "outputs": [],
      "source": [
        "Xy.to_csv('data.csv')"
      ]
    },
    {
      "cell_type": "markdown",
      "metadata": {
        "id": "Uiwm9d31_hwk"
      },
      "source": [
        "## PART2"
      ]
    },
    {
      "cell_type": "markdown",
      "metadata": {
        "id": "-V3yIZ96SwkM"
      },
      "source": [
        "### Loading Text"
      ]
    },
    {
      "cell_type": "code",
      "execution_count": null,
      "metadata": {
        "id": "464CD2Exlihn"
      },
      "outputs": [],
      "source": [
        "import json\n",
        "with open('lemmatized.json') as json_file:\n",
        "    lemmatized = json.load(json_file)"
      ]
    },
    {
      "cell_type": "code",
      "execution_count": null,
      "metadata": {
        "id": "Sf-bAOl4-18e"
      },
      "outputs": [],
      "source": [
        "Xy = pd.read_csv('data.csv', index_col=0)"
      ]
    },
    {
      "cell_type": "code",
      "execution_count": null,
      "metadata": {
        "id": "iEV9CmVaCjGq"
      },
      "outputs": [],
      "source": [
        "import ast\n",
        "Xy['clauses'] = Xy['clauses'].apply(ast.literal_eval)"
      ]
    },
    {
      "cell_type": "code",
      "execution_count": null,
      "metadata": {
        "colab": {
          "base_uri": "https://localhost:8080/",
          "height": 206
        },
        "id": "xZUb9f6IA0kT",
        "outputId": "3fe1a0c5-d9be-4b0b-9f51-710d1fae51a9"
      },
      "outputs": [
        {
          "data": {
            "text/html": [
              "<div>\n",
              "<style scoped>\n",
              "    .dataframe tbody tr th:only-of-type {\n",
              "        vertical-align: middle;\n",
              "    }\n",
              "\n",
              "    .dataframe tbody tr th {\n",
              "        vertical-align: top;\n",
              "    }\n",
              "\n",
              "    .dataframe thead th {\n",
              "        text-align: right;\n",
              "    }\n",
              "</style>\n",
              "<table border=\"1\" class=\"dataframe\">\n",
              "  <thead>\n",
              "    <tr style=\"text-align: right;\">\n",
              "      <th></th>\n",
              "      <th>review</th>\n",
              "      <th>sentiment</th>\n",
              "      <th>clauses</th>\n",
              "      <th>sentiment_encoded</th>\n",
              "    </tr>\n",
              "  </thead>\n",
              "  <tbody>\n",
              "    <tr>\n",
              "      <th>0</th>\n",
              "      <td>\"Porgy &amp; Bess\" was the very first movie my par...</td>\n",
              "      <td>positive</td>\n",
              "      <td>[[parent ever took see, see], [even tender age...</td>\n",
              "      <td>1</td>\n",
              "    </tr>\n",
              "    <tr>\n",
              "      <th>1</th>\n",
              "      <td>The 1960's TV series Bewitched owes it's idea ...</td>\n",
              "      <td>positive</td>\n",
              "      <td>[[bewitched owes], [jimmy stewart kim novak ma...</td>\n",
              "      <td>1</td>\n",
              "    </tr>\n",
              "    <tr>\n",
              "      <th>2</th>\n",
              "      <td>When I first got my N64 when I was five or six...</td>\n",
              "      <td>positive</td>\n",
              "      <td>[[first got n64 five six, first got n64 five s...</td>\n",
              "      <td>1</td>\n",
              "    </tr>\n",
              "    <tr>\n",
              "      <th>3</th>\n",
              "      <td>I grew up on this movie and I can remember whe...</td>\n",
              "      <td>positive</td>\n",
              "      <td>[[grew remember brother used play backyard pre...</td>\n",
              "      <td>1</td>\n",
              "    </tr>\n",
              "    <tr>\n",
              "      <th>4</th>\n",
              "      <td>this is a dreadful adaption of Charles Kingsle...</td>\n",
              "      <td>negative</td>\n",
              "      <td>[[put bluntly awful], [song epsecially high co...</td>\n",
              "      <td>0</td>\n",
              "    </tr>\n",
              "  </tbody>\n",
              "</table>\n",
              "</div>"
            ],
            "text/plain": [
              "                                              review sentiment  \\\n",
              "0  \"Porgy & Bess\" was the very first movie my par...  positive   \n",
              "1  The 1960's TV series Bewitched owes it's idea ...  positive   \n",
              "2  When I first got my N64 when I was five or six...  positive   \n",
              "3  I grew up on this movie and I can remember whe...  positive   \n",
              "4  this is a dreadful adaption of Charles Kingsle...  negative   \n",
              "\n",
              "                                             clauses  sentiment_encoded  \n",
              "0  [[parent ever took see, see], [even tender age...                  1  \n",
              "1  [[bewitched owes], [jimmy stewart kim novak ma...                  1  \n",
              "2  [[first got n64 five six, first got n64 five s...                  1  \n",
              "3  [[grew remember brother used play backyard pre...                  1  \n",
              "4  [[put bluntly awful], [song epsecially high co...                  0  "
            ]
          },
          "execution_count": 17,
          "metadata": {},
          "output_type": "execute_result"
        }
      ],
      "source": [
        "Xy.head()"
      ]
    },
    {
      "cell_type": "code",
      "execution_count": null,
      "metadata": {
        "colab": {
          "base_uri": "https://localhost:8080/"
        },
        "id": "3AgJMppEK7XK",
        "outputId": "66fd3965-5d5f-4d29-ec08-aa1e3b804957"
      },
      "outputs": [
        {
          "name": "stdout",
          "output_type": "stream",
          "text": [
            "<class 'pandas.core.frame.DataFrame'>\n",
            "Index: 49582 entries, 0 to 49999\n",
            "Data columns (total 4 columns):\n",
            " #   Column             Non-Null Count  Dtype \n",
            "---  ------             --------------  ----- \n",
            " 0   review             49582 non-null  object\n",
            " 1   sentiment          49582 non-null  object\n",
            " 2   clauses            49582 non-null  object\n",
            " 3   sentiment_encoded  49582 non-null  int64 \n",
            "dtypes: int64(1), object(3)\n",
            "memory usage: 76.9 MB\n"
          ]
        }
      ],
      "source": [
        "Xy.info(memory_usage=\"deep\")"
      ]
    },
    {
      "cell_type": "markdown",
      "metadata": {
        "id": "ofTPbLA8S2eP"
      },
      "source": [
        "### Topic Creation"
      ]
    },
    {
      "cell_type": "markdown",
      "metadata": {
        "id": "rs8s_zKwUERH"
      },
      "source": [
        "#### Categories"
      ]
    },
    {
      "cell_type": "code",
      "execution_count": null,
      "metadata": {
        "id": "uDd7CiAa52zT"
      },
      "outputs": [],
      "source": [
        "category_keywords = {\n",
        "    'plot': ['plot', 'storyline', 'narrative', 'story', 'subplot', 'twist'],\n",
        "    'actor': ['actor', 'actress', 'performance', 'cast', 'star', 'role', 'character', 'performer', 'leading', 'supporting'],\n",
        "    'music': ['score', 'soundtrack', 'composer', 'theme', 'song', 'music', 'musical'],\n",
        "    'director': ['director', 'directed', 'filmmaker', 'visionary', 'producer', 'screenwriter', 'auteur', 'helmer', 'directorial']\n",
        "}\n"
      ]
    },
    {
      "cell_type": "code",
      "execution_count": null,
      "metadata": {
        "id": "iht4ZRCC553T"
      },
      "outputs": [],
      "source": [
        "def count_category_keywords(text, category_keywords):\n",
        "    category_counter = {category: Counter() for category in category_keywords}\n",
        "\n",
        "    for clause in text:\n",
        "\n",
        "        # Increase count for each keyword found, categorized\n",
        "        for token in clause:\n",
        "            for category, keywords in category_keywords.items():\n",
        "                if token in keywords:\n",
        "                    category_counter[category][token] += 1\n",
        "\n",
        "    return category_counter"
      ]
    },
    {
      "cell_type": "code",
      "execution_count": null,
      "metadata": {
        "colab": {
          "base_uri": "https://localhost:8080/"
        },
        "id": "nhb45zkrMMG4",
        "outputId": "55c311cb-6d5f-4957-9d61-d2e6897dd922"
      },
      "outputs": [
        {
          "data": {
            "text/plain": [
              "[['parent', 'ever', 'took', 'see'],\n",
              " ['see'],\n",
              " ['even',\n",
              "  'tender',\n",
              "  'age',\n",
              "  '5',\n",
              "  'year',\n",
              "  'greatly',\n",
              "  'moved',\n",
              "  'drama',\n",
              "  'cried',\n",
              "  'aloud',\n",
              "  'screen',\n",
              "  'crown',\n",
              "  'please',\n",
              "  'nt',\n",
              "  'take',\n",
              "  'be']]"
            ]
          },
          "execution_count": 112,
          "metadata": {},
          "output_type": "execute_result"
        }
      ],
      "source": [
        "flat_clauses = []\n",
        "for sentences in Xy['clauses'].to_numpy():\n",
        "  for clauses in sentences:\n",
        "      for clause in clauses:\n",
        "       flat_clauses.append(word_tokenize(clause))\n",
        "\n",
        "flat_clauses[0:3]"
      ]
    },
    {
      "cell_type": "code",
      "execution_count": null,
      "metadata": {
        "id": "9bdL5V6x6Vbz"
      },
      "outputs": [],
      "source": [
        "category_counter = count_category_keywords(flat_clauses, category_keywords)"
      ]
    },
    {
      "cell_type": "code",
      "execution_count": null,
      "metadata": {
        "colab": {
          "base_uri": "https://localhost:8080/"
        },
        "id": "U5Kl9_bGNQ8R",
        "outputId": "f60ba46a-63d0-43c1-a5dd-9679ccd278e6"
      },
      "outputs": [
        {
          "data": {
            "text/plain": [
              "{'plot': Counter({'story': 28117,\n",
              "          'plot': 14640,\n",
              "          'twist': 2439,\n",
              "          'storyline': 1670,\n",
              "          'narrative': 1178,\n",
              "          'subplot': 274}),\n",
              " 'actor': Counter({'character': 35015,\n",
              "          'actor': 15255,\n",
              "          'role': 10350,\n",
              "          'performance': 9172,\n",
              "          'star': 8384,\n",
              "          'cast': 7978,\n",
              "          'actress': 3206,\n",
              "          'supporting': 3132,\n",
              "          'leading': 2500,\n",
              "          'performer': 592}),\n",
              " 'music': Counter({'music': 7016,\n",
              "          'song': 4313,\n",
              "          'theme': 2756,\n",
              "          'score': 2378,\n",
              "          'musical': 2239,\n",
              "          'soundtrack': 1617,\n",
              "          'composer': 235}),\n",
              " 'director': Counter({'director': 12274,\n",
              "          'directed': 4362,\n",
              "          'producer': 2558,\n",
              "          'filmmaker': 2278,\n",
              "          'screenwriter': 663,\n",
              "          'directorial': 257,\n",
              "          'auteur': 128,\n",
              "          'visionary': 47,\n",
              "          'helmer': 28})}"
            ]
          },
          "execution_count": 115,
          "metadata": {},
          "output_type": "execute_result"
        }
      ],
      "source": [
        "category_counter"
      ]
    },
    {
      "cell_type": "code",
      "execution_count": null,
      "metadata": {
        "colab": {
          "base_uri": "https://localhost:8080/",
          "height": 607
        },
        "id": "g2gQ6j7YPvC5",
        "outputId": "22c1e416-7336-416f-fc6d-c7c6f04fb65f"
      },
      "outputs": [
        {
          "data": {
            "image/png": "[encoded data removed]",
            "text/plain": [
              "<Figure size 1000x600 with 1 Axes>"
            ]
          },
          "metadata": {},
          "output_type": "display_data"
        }
      ],
      "source": [
        "# Plotting the frequencies\n",
        "fig, ax = plt.subplots(figsize=(10, 6))\n",
        "categories = list(category_counter.keys())\n",
        "colors = ['blue', 'green', 'red', 'purple']\n",
        "\n",
        "for i, category in enumerate(categories):\n",
        "    keywords = list(category_counter[category].keys())\n",
        "    frequencies = list(category_counter[category].values())\n",
        "    ax.bar(keywords, frequencies, color=colors[i], label=category, alpha=0.7)\n",
        "\n",
        "ax.set_xlabel('Keywords')\n",
        "ax.set_ylabel('Frequency')\n",
        "ax.set_title('Frequency of Keywords by Movie Review Category')\n",
        "ax.legend()\n",
        "\n",
        "plt.xticks(rotation=45)\n",
        "plt.tight_layout()\n",
        "plt.show()"
      ]
    },
    {
      "cell_type": "markdown",
      "metadata": {
        "id": "UaoQzu2ei79_"
      },
      "source": [
        "#### LDA"
      ]
    },
    {
      "cell_type": "code",
      "execution_count": null,
      "metadata": {
        "id": "WLv7iccfazPU"
      },
      "outputs": [],
      "source": [
        "remove_words = set(['s','no','in','there','he','more','can','end','life','i','out','as','get','go','an','take','turn','be','so','can','more','many','film','nt','who','thing','little','not','said','say','could','think','know','give','one','way','come','first','point','back', 'br','movie','good','like','find','black','sex','time','day','m','ca','us','make','will','even','try','lot','year','old','though','away','me','man','true','stand','would','ever','never','down','here','best','see','seen','done','called','being','something','guy','every','really','going'])"
      ]
    },
    {
      "cell_type": "code",
      "execution_count": null,
      "metadata": {
        "id": "Uq7ssn5yLVRR"
      },
      "outputs": [],
      "source": [
        "# Pseudo-code for keyword enrichment\n",
        "def enrich_with_keywords(text, category_keywords):\n",
        "    enriched_text = []\n",
        "    for clause in text:\n",
        "        enriched_clause = []\n",
        "        for token in clause:\n",
        "            if token not in remove_words:\n",
        "                found = False\n",
        "                for category, keywords in category_keywords.items():\n",
        "                    if token in keywords:\n",
        "                      enriched_clause.extend([token] * 10)\n",
        "                      found = True\n",
        "                      break\n",
        "                if not found:\n",
        "                  enriched_clause.append(token)\n",
        "        enriched_text.append(enriched_clause)\n",
        "    return enriched_text"
      ]
    },
    {
      "cell_type": "code",
      "execution_count": null,
      "metadata": {
        "id": "_9bCmObeTf-p"
      },
      "outputs": [],
      "source": [
        "# Apply to your data\n",
        "enriched_clauses = enrich_with_keywords(flat_clauses, category_keywords)"
      ]
    },
    {
      "cell_type": "code",
      "execution_count": null,
      "metadata": {
        "id": "HWtMm50hazPU",
        "outputId": "e8282d90-4539-4cd2-a810-ea6f672462cb"
      },
      "outputs": [
        {
          "data": {
            "text/plain": [
              "1337944"
            ]
          },
          "execution_count": 163,
          "metadata": {},
          "output_type": "execute_result"
        }
      ],
      "source": [
        "len(enriched_clauses)"
      ]
    },
    {
      "cell_type": "code",
      "execution_count": null,
      "metadata": {
        "id": "kXbXNJhZ9pwe",
        "outputId": "bc255385-1a26-41d0-e7f9-d8c2262e6226"
      },
      "outputs": [
        {
          "name": "stdout",
          "output_type": "stream",
          "text": [
            "(0, '0.123*\"performance\" + 0.042*\"theme\" + 0.035*\"well\" + 0.016*\"acting\" + 0.014*\"thought\"')\n",
            "(1, '0.435*\"story\" + 0.027*\"storyline\" + 0.009*\"understand\" + 0.009*\"tell\" + 0.008*\"based\"')\n",
            "(2, '0.126*\"cast\" + 0.038*\"filmmaker\" + 0.033*\"score\" + 0.032*\"over\" + 0.014*\"family\"')\n",
            "(3, '0.039*\"directed\" + 0.018*\"love\" + 0.012*\"making\" + 0.009*\"scene\" + 0.008*\"girl\"')\n",
            "(4, '0.179*\"director\" + 0.016*\"better\" + 0.014*\"now\" + 0.013*\"right\" + 0.012*\"got\"')\n",
            "(5, '0.249*\"actor\" + 0.212*\"plot\" + 0.162*\"role\" + 0.052*\"actress\" + 0.041*\"musical\"')\n",
            "(6, '0.089*\"have\" + 0.087*\"star\" + 0.025*\"watch\" + 0.023*\"much\" + 0.020*\"while\"')\n",
            "(7, '0.543*\"character\" + 0.068*\"song\" + 0.041*\"producer\" + 0.037*\"leading\" + 0.009*\"human\"')\n",
            "(8, '0.019*\"made\" + 0.017*\"look\" + 0.012*\"show\" + 0.012*\"want\" + 0.010*\"woman\"')\n",
            "(9, '0.123*\"music\" + 0.056*\"supporting\" + 0.037*\"twist\" + 0.023*\"soundtrack\" + 0.020*\"real\"')\n"
          ]
        }
      ],
      "source": [
        "dictionary = corpora.Dictionary(enriched_clauses)\n",
        "corpus = [dictionary.doc2bow(text) for text in enriched_clauses]\n",
        "\n",
        "# Train the LDA model\n",
        "num_topics = 10  # Set the number of topics (aspects) you want to extract\n",
        "lda_model = gensim.models.LdaModel(corpus, num_topics=num_topics, id2word=dictionary, passes=10)\n",
        "\n",
        "# Print the topics (aspects) with their top words\n",
        "topics = lda_model.print_topics(num_words=5)\n",
        "for topic in topics:\n",
        "    print(topic)\n"
      ]
    },
    {
      "cell_type": "code",
      "execution_count": null,
      "metadata": {
        "id": "q8YeEhXQkH-l",
        "outputId": "dbffc694-b2e0-45f8-e69b-daa30f56e818"
      },
      "outputs": [
        {
          "data": {
            "text/html": [
              "\n",
              "<link rel=\"stylesheet\" type=\"text/css\" href=\"https://cdn.jsdelivr.net/gh/bmabey/pyLDAvis@3.4.0/pyLDAvis/js/ldavis.v1.0.0.css\">\n",
              "\n",
              "\n",
              "<div id=\"ldavis_el24016164866151846608531756\" style=\"background-color:white;\"></div>\n",
              "<script type=\"text/javascript\">\n",
              "\n",
              "var ldavis_el24016164866151846608531756_data = {\"mdsDat\": {\"x\": [-0.21109286659327123, -0.19369232307776985, -0.17731665470425784, -0.03718067322896038, 0.038792041045646194, 0.16572570411904117, 0.16932458985400142, 0.25500943871242193, -0.03606389394097004, 0.026494637814117775], \"y\": [-0.10487345820117476, 0.0229939473672356, 0.007062091675949862, 0.017535830315756083, 0.1406123757089675, -0.30587494318444425, 0.1290673861190292, 0.08034626453590486, 0.21155538293540685, -0.19842487727263092], \"topics\": [1, 2, 3, 4, 5, 6, 7, 8, 9, 10], \"cluster\": [1, 1, 1, 1, 1, 1, 1, 1, 1, 1], \"Freq\": [15.320137831416488, 13.14755426137802, 11.42469529033929, 9.483963305854491, 9.411449873219693, 8.44483877380413, 8.35356728082877, 8.332298843837265, 8.319942980007951, 7.761551559313898]}, \"tinfo\": {\"Term\": [\"character\", \"story\", \"actor\", \"plot\", \"director\", \"role\", \"performance\", \"cast\", \"music\", \"have\", \"star\", \"song\", \"supporting\", \"actress\", \"directed\", \"theme\", \"musical\", \"producer\", \"filmmaker\", \"leading\", \"well\", \"twist\", \"score\", \"over\", \"watch\", \"storyline\", \"made\", \"look\", \"much\", \"while\", \"look\", \"woman\", \"saw\", \"nothing\", \"minute\", \"big\", \"child\", \"since\", \"night\", \"war\", \"last\", \"effect\", \"book\", \"came\", \"yet\", \"couple\", \"episode\", \"hand\", \"word\", \"le\", \"fun\", \"small\", \"piece\", \"killer\", \"already\", \"order\", \"style\", \"special\", \"early\", \"white\", \"screen\", \"enough\", \"made\", \"almost\", \"want\", \"playing\", \"start\", \"name\", \"another\", \"show\", \"bad\", \"two\", \"fact\", \"tv\", \"people\", \"few\", \"work\", \"scene\", \"also\", \"directed\", \"making\", \"long\", \"might\", \"used\", \"home\", \"wife\", \"mind\", \"half\", \"death\", \"hard\", \"face\", \"eye\", \"fall\", \"car\", \"use\", \"picture\", \"save\", \"high\", \"school\", \"happen\", \"finally\", \"others\", \"problem\", \"meet\", \"matter\", \"son\", \"often\", \"fight\", \"rest\", \"love\", \"girl\", \"found\", \"sense\", \"friend\", \"seems\", \"scene\", \"need\", \"play\", \"let\", \"young\", \"have\", \"star\", \"watch\", \"watching\", \"while\", \"world\", \"may\", \"series\", \"someone\", \"funny\", \"remember\", \"call\", \"happens\", \"cut\", \"wrong\", \"review\", \"talking\", \"taking\", \"god\", \"simply\", \"relationship\", \"recommend\", \"room\", \"started\", \"career\", \"attention\", \"worse\", \"showing\", \"chance\", \"view\", \"much\", \"act\", \"least\", \"anyone\", \"part\", \"keep\", \"kid\", \"help\", \"seem\", \"people\", \"pretty\", \"idea\", \"far\", \"show\", \"still\", \"director\", \"now\", \"right\", \"getting\", \"dvd\", \"left\", \"everything\", \"enjoy\", \"next\", \"become\", \"live\", \"supposed\", \"feeling\", \"version\", \"budget\", \"hit\", \"writer\", \"hope\", \"including\", \"low\", \"comment\", \"heart\", \"beginning\", \"buy\", \"flick\", \"using\", \"perhaps\", \"past\", \"group\", \"looked\", \"better\", \"got\", \"set\", \"script\", \"horror\", \"believe\", \"fan\", \"video\", \"made\", \"original\", \"performance\", \"theme\", \"thought\", \"quite\", \"laugh\", \"written\", \"head\", \"although\", \"mr\", \"thinking\", \"brother\", \"top\", \"mother\", \"john\", \"leave\", \"classic\", \"worst\", \"known\", \"quality\", \"truly\", \"enjoyed\", \"experience\", \"fast\", \"sister\", \"late\", \"season\", \"offer\", \"sequence\", \"sit\", \"value\", \"well\", \"acting\", \"great\", \"always\", \"also\", \"still\", \"character\", \"song\", \"producer\", \"leading\", \"human\", \"main\", \"body\", \"close\", \"crime\", \"miss\", \"thriller\", \"possible\", \"appear\", \"died\", \"missed\", \"large\", \"culture\", \"potential\", \"falling\", \"nature\", \"development\", \"murdered\", \"beauty\", \"cat\", \"fill\", \"answer\", \"depth\", \"sam\", \"dollar\", \"longer\", \"add\", \"must\", \"given\", \"story\", \"storyline\", \"understand\", \"based\", \"second\", \"10\", \"deal\", \"attempt\", \"genre\", \"turned\", \"slow\", \"boring\", \"highly\", \"decent\", \"serious\", \"final\", \"telling\", \"forced\", \"sometimes\", \"walk\", \"tale\", \"extremely\", \"front\", \"japanese\", \"material\", \"throw\", \"rating\", \"novel\", \"focus\", \"produced\", \"lack\", \"tell\", \"kind\", \"line\", \"along\", \"interesting\", \"actor\", \"plot\", \"role\", \"actress\", \"musical\", \"narrative\", \"saying\", \"itbr\", \"police\", \"following\", \"hell\", \"non\", \"return\", \"perfect\", \"plan\", \"admit\", \"doctor\", \"wasted\", \"match\", \"public\", \"accept\", \"deliver\", \"heavy\", \"hole\", \"forgotten\", \"cult\", \"smile\", \"floor\", \"revenge\", \"charles\", \"becomes\", \"seeing\", \"involved\", \"play\", \"great\", \"cast\", \"filmmaker\", \"score\", \"over\", \"family\", \"money\", \"mean\", \"else\", \"everyone\", \"dead\", \"stop\", \"lost\", \"felt\", \"2\", \"coming\", \"wanted\", \"screenwriter\", \"full\", \"side\", \"loved\", \"living\", \"stay\", \"feature\", \"credit\", \"waste\", \"working\", \"country\", \"etc\", \"bring\", \"opening\", \"together\", \"anything\", \"trying\", \"shot\", \"put\", \"people\", \"place\", \"music\", \"supporting\", \"twist\", \"soundtrack\", \"looking\", \"kill\", \"camera\", \"performer\", \"talk\", \"liked\", \"killed\", \"city\", \"killing\", \"running\", \"self\", \"wo\", \"told\", \"drama\", \"nice\", \"happened\", \"today\", \"husband\", \"question\", \"dr\", \"baby\", \"1\", \"obviously\", \"expecting\", \"building\", \"dance\", \"real\", \"care\", \"re\", \"work\", \"feel\", \"around\", \"new\", \"run\", \"people\"], \"Freq\": [409017.0, 324219.0, 184694.0, 157533.0, 151379.0, 120643.0, 102949.0, 93495.0, 84848.0, 90285.0, 89030.0, 51480.0, 38503.0, 38637.0, 45376.0, 34955.0, 30431.0, 30591.0, 28309.0, 28091.0, 30769.0, 25877.0, 24180.0, 23489.0, 25554.0, 19807.0, 31734.0, 23600.0, 26295.0, 19878.0, 23599.143336772013, 13557.196837297295, 11145.389552690416, 10314.457103023493, 10056.938607439544, 9195.613742457354, 8647.533583266042, 8621.548068171489, 8449.904677292461, 7862.593505185517, 7278.980288883459, 6881.181721881908, 6867.523573903095, 6273.365842630569, 5863.321294060565, 5857.07177418329, 5709.325850451214, 5430.8213285096135, 5366.40975442807, 5306.27696191272, 5269.1378118922175, 4977.467588115354, 4898.413927504781, 4701.015507944418, 4621.349866167715, 4395.511012777814, 4388.6399743655875, 4383.22688173407, 4191.878333130291, 4142.705884866084, 8141.622582412369, 8327.516073961811, 26490.53276186039, 6525.571387955641, 15776.009741353877, 6366.596801996208, 8873.755520970326, 5805.4301011308635, 8629.247903934416, 16982.33557118387, 10247.462173640151, 10541.320587737255, 6469.938008138586, 7209.575584310895, 12187.88373253183, 7434.5424042781, 8731.534912909581, 7374.693507441375, 6548.213101540926, 45375.431798612495, 13812.678038616987, 8834.076491669635, 8436.654958309518, 8346.469338468913, 7683.026991047898, 7484.477193140962, 7310.489047385148, 6714.803640311709, 6532.7097619296555, 6525.11912937741, 6352.7799586466035, 5975.997350285131, 5939.105490112796, 5889.903611222995, 5876.6637932194235, 5773.790560115586, 5642.516978864291, 5584.854144733664, 5394.108331210469, 5383.35288888157, 5340.363858977455, 5304.932176557245, 5299.357200438612, 5186.055919120702, 5109.935150453032, 5042.8630094623, 4862.405010340662, 4816.710613734365, 4712.973060167387, 21365.54131446285, 9879.348773389027, 7071.028080889528, 6093.1760692363, 7722.892681096571, 7535.970830834547, 10063.794978486108, 6536.038268763722, 7548.469646824896, 5956.194371593008, 5563.180654332168, 90284.88439118708, 89029.20364017041, 25553.17080269609, 19051.04419648477, 19877.17570777272, 12922.43891568304, 8630.957859880002, 8592.043105944793, 7578.063697197524, 6839.102524422886, 5250.84837359664, 5198.798135839091, 4953.65254007781, 4811.919422610163, 4457.1911846387, 4427.218023813323, 4310.384146931986, 4306.159436219895, 4290.528954892839, 4183.566012647226, 4168.9340993066635, 4105.850301698346, 3796.654345726435, 3784.175802049056, 3770.7178936156924, 3708.1042195394775, 3570.260348942304, 3479.863156472636, 3479.529826323298, 3473.1259045637585, 23558.045241988246, 6436.589536636183, 6512.290093766164, 5749.062201627432, 7639.057898834103, 6679.024394895666, 6185.652625876308, 5518.419075208463, 5173.7006989477695, 8333.275544521597, 4823.464120300172, 5008.4908024130345, 4620.187731049525, 5842.209723444516, 4872.610639943148, 151378.07790751982, 11826.432213756187, 10871.56309000571, 8257.911863591813, 8012.982652697662, 7828.717176993009, 7606.85814976457, 6685.643343283352, 6631.798482416941, 6563.044123716068, 6414.7399049255355, 5818.324173170026, 5814.985979153973, 5641.62345996915, 5405.226107758169, 5278.719142619445, 5102.058577489508, 5018.966240552251, 4630.831615876878, 4611.451118652208, 4350.5327417021535, 4043.048506590426, 3876.3714284340963, 3850.912040938949, 3812.6123556968746, 3766.688866670231, 3736.0204637749603, 3649.0841458495215, 3601.9089816700603, 3458.148186240842, 13622.862371244026, 10017.994634189145, 6937.1143280894, 6008.890927969479, 5866.1464297869825, 5641.596694588523, 4722.663636805696, 4201.301968411705, 5242.683887300063, 4246.452016659957, 102948.89720550338, 34954.508746891144, 11369.337549127464, 7713.9343334963905, 7523.596980193787, 6631.258614109883, 6539.925229503002, 6525.980062319997, 5508.408610922086, 5469.838908006681, 5221.231207645228, 5189.205601166551, 5181.2783935037005, 5012.813024447905, 4970.915417650386, 4442.796210912352, 4308.504743094814, 4284.102067621221, 4281.599890124881, 4043.081363152511, 3732.2586559545734, 3638.271541421041, 3628.281970788994, 3583.563457672623, 3525.7141763866516, 3483.329492577279, 3411.963921862124, 3399.7932461505325, 3392.844489100909, 3206.113927400117, 29622.800504736893, 13010.854262111143, 8154.646457249963, 4586.517911526351, 5745.637379840614, 4615.20663034483, 409016.37869863416, 51479.20627855343, 30590.66980092398, 28090.172525988426, 6927.065462216541, 5077.52059330093, 4690.680734036659, 3843.850466476023, 2879.7414832199047, 2814.444540092119, 2764.321374812467, 2698.3676279777615, 2568.3073509237834, 2227.6387945072647, 2192.998357165207, 2158.009365241222, 2068.3023859470172, 2021.6786105348915, 2000.5329658979572, 1913.173166126295, 1902.8777504962095, 1859.090252564474, 1788.617037319557, 1764.3657696052378, 1756.2542087765503, 1732.6848042488973, 1637.8548261371623, 1597.7228579082962, 1595.200086786412, 1587.1134101963537, 4560.401230345178, 6444.874808240489, 3600.2421818686707, 324218.44224002154, 19806.092521615126, 6548.669975075028, 6140.553308418287, 5899.430934434417, 5215.94578388604, 4469.811944864777, 4381.957198679886, 4212.999923244507, 4114.005197878247, 3816.3716634760085, 3785.3744252509446, 3257.288725356837, 3222.892496845014, 3158.5949305871604, 3127.393142763036, 3061.786805765432, 2908.1691901355193, 2873.0258355457727, 2800.334801841731, 2647.224053184405, 2557.750591613051, 2478.552280452122, 2444.8908703728557, 2443.7308314602183, 2437.9133021852476, 2427.5897879289428, 2408.175950812701, 2403.5985468188132, 2294.670858252759, 3720.48574532123, 6495.058565244017, 5843.769868281975, 5325.771237175428, 3447.958420691118, 3143.387187938377, 184693.8499604204, 157532.37290706788, 120642.56982927452, 38636.098799523905, 30430.356094321047, 13845.372883755628, 4769.256763685771, 3557.5268973082566, 3223.539689749258, 3131.8207861935184, 2827.736767165609, 2747.436387807762, 2731.1657818696663, 2318.275792298201, 2252.258294137328, 2218.8006816758934, 2184.6023408923497, 2171.1424911643867, 2069.8193636637634, 1830.7411711317732, 1813.7874144932443, 1720.091679259943, 1667.0931211114923, 1640.2299618426173, 1596.741048182422, 1544.5717461107304, 1518.7503441109282, 1488.6037042545522, 1475.207829661785, 1451.1014800025528, 3293.436155972269, 4985.450877452317, 2696.574253363322, 1907.1774523237707, 1841.5050740814154, 93494.20336357386, 28308.071517172863, 24179.646610284424, 23488.629243205436, 10623.162064720813, 9220.54061957049, 8132.7528989238435, 7921.030212935215, 7326.302162426206, 6598.068496944758, 6480.106850137888, 6388.0481337537185, 5858.6485334205745, 5762.452792809649, 5694.097799160992, 5640.46634386714, 5285.042752252601, 5169.525129940929, 5010.125217014335, 4698.323215464582, 4607.283130369031, 4497.084144578913, 4344.8464181569, 4232.099127651528, 4043.520780436527, 3888.9964857456225, 3864.5914612653023, 3635.8987233070393, 3615.4162925347528, 3241.8227358224617, 8748.559365833666, 7150.192207482632, 7795.0051499073925, 6743.732080619653, 6139.561490714526, 8828.633453483815, 5369.345368296113, 84847.56547039392, 38502.81626217918, 25876.485147718002, 15820.67327788299, 10501.86352765179, 8971.591175139125, 6972.002719412169, 5833.287649639603, 5534.675405061109, 5281.508103744165, 4839.162483482403, 4603.210781564875, 4545.200100017048, 4459.722220183372, 4407.63346774562, 4313.539735110205, 4096.312461788764, 4006.1144977922336, 3962.851945181291, 3952.2524522870876, 3916.812682989797, 3742.3770168724823, 3355.315942058756, 3290.0854934774143, 3099.132592968877, 2957.6221955704555, 2922.7332584521373, 2920.4342588841105, 2720.3214380005675, 2716.5893083949686, 14102.07559099271, 5671.529820988848, 11089.121497734272, 11919.230101182848, 8861.646360712555, 7554.520311514675, 5174.044611115621, 3927.2027952311746, 4137.785937252332], \"Total\": [409017.0, 324219.0, 184694.0, 157533.0, 151379.0, 120643.0, 102949.0, 93495.0, 84848.0, 90285.0, 89030.0, 51480.0, 38503.0, 38637.0, 45376.0, 34955.0, 30431.0, 30591.0, 28309.0, 28091.0, 30769.0, 25877.0, 24180.0, 23489.0, 25554.0, 19807.0, 31734.0, 23600.0, 26295.0, 19878.0, 23600.141683072554, 13558.195168456996, 11146.387844528537, 10315.455439307141, 10057.936947099692, 9196.612100207021, 8648.531880196753, 8622.546398015758, 8450.902997102414, 7863.59185126941, 7279.978636910495, 6882.180084114177, 6868.521901954347, 6274.364139527419, 5864.3196278861515, 5858.070164693755, 5710.324181684601, 5431.819674612145, 5367.408132802302, 5307.275378804178, 5270.136108138529, 4978.466013388797, 4899.412316829387, 4702.013821602564, 4622.348288980298, 4396.509369794043, 4389.638384065311, 4384.225208712821, 4192.87671005011, 4143.704260575822, 8433.778114945735, 8775.351710577113, 31734.107338025726, 6925.769465987263, 19515.49520292423, 6865.820282873041, 10424.262688423136, 6174.058115044577, 10663.513463921267, 27702.016877972703, 16423.17207815222, 19361.174776505602, 7667.9147177659925, 9610.507922990824, 33488.24336110894, 10699.073961873195, 21518.06264768781, 26332.692724331893, 19041.937033536607, 45376.42713592885, 13813.673624821766, 8835.072018572104, 8437.650468543623, 8347.464888630395, 7684.022452305694, 7485.472676045254, 7311.4845751007, 6715.799143230251, 6533.705259334938, 6526.114654084134, 6353.775443329808, 5976.992872790397, 5940.100956806164, 5890.899071084223, 5877.659340265232, 5774.786133778692, 5643.512455942281, 5585.849634068922, 5395.103777990243, 5384.348332210435, 5341.359350680957, 5305.927665978801, 5300.3527790574435, 5187.051368507269, 5110.9306881365355, 5043.858532253217, 4863.40057965374, 4817.706076585945, 4713.968674947185, 22702.83582296493, 11244.921872105633, 8290.135244260406, 6992.223133903646, 11309.98122404084, 11125.41051497769, 26332.692724331893, 9265.571182855141, 15350.368185925621, 9238.07853664088, 8917.674115321051, 90285.88461237407, 89030.20370201746, 25554.17094524421, 19052.0443303953, 19878.552929171485, 12923.439147374349, 8631.958067916843, 8593.043345981783, 7579.063881588556, 6840.102727375826, 5251.848564902779, 5199.798329825261, 4954.652749708092, 4812.919642696447, 4458.191386695067, 4428.218175234133, 4311.3843416151, 4307.159674194647, 4291.529178679556, 4184.566271340088, 4169.93440794699, 4106.850465318286, 3797.6545619352123, 3785.176030691131, 3771.718178855886, 3709.1044849611694, 3571.2605278488104, 3480.863399968441, 3480.530036844386, 3474.12608215981, 26295.205356001552, 6771.768763618171, 8504.657037721596, 7730.007591213205, 12725.548905500793, 10246.292385913697, 10057.370638115444, 8689.127659320538, 7909.205325989132, 33488.24336110894, 6516.561811962191, 7347.456123916994, 6367.624599977751, 27702.016877972703, 14173.295653932419, 151379.07452030366, 11827.429420786502, 10872.55982068696, 8258.90860026104, 8013.979343262193, 7829.713939602983, 7607.854949000986, 6686.640066236648, 6632.795235181173, 6564.04091932239, 6415.736642774981, 5819.320920964324, 5815.982787055537, 5642.620237802378, 5406.22281632799, 5279.715883641433, 5103.055344728409, 5019.963035376261, 4631.828444209923, 4612.447826568707, 4351.529470469267, 4044.0452674300077, 3877.3682102702, 3851.9087264223795, 3813.609071752367, 3767.68561114245, 3737.0172602161347, 3650.0809137081783, 3602.9057732467763, 3459.144936467167, 14606.821467576343, 13587.156096801982, 11285.410984290584, 9177.733505103291, 9350.155738150153, 8637.423637277381, 6521.224689571274, 5373.773690978539, 31734.107338025726, 8597.723633858102, 102949.89043756945, 34955.50198535315, 11370.33089812142, 7714.927725775944, 7524.590306441264, 6632.252016126703, 6540.9186032273965, 6526.973474111406, 5509.402023231677, 5470.832281465754, 5222.224591247237, 5190.199004539951, 5182.271770769813, 5013.8064376155935, 4971.908799812453, 4443.789617787979, 4309.498107786363, 4285.095427309706, 4282.593291958596, 4044.0747690322028, 3733.2519849411924, 3639.2648712955465, 3629.275353150192, 3584.5568153809973, 3526.707574790201, 3484.3228836316657, 3412.95733863573, 3400.7866758652203, 3393.8378325377976, 3207.1073515725775, 30769.208301939467, 14897.841645542438, 17380.589605208574, 7833.317768312833, 19041.937033536607, 14173.295653932419, 409017.37119325914, 51480.19877504458, 30591.662307886505, 28091.16502234631, 6928.058147784214, 5078.513244844247, 4691.673429085228, 3844.8431571833635, 2880.7342216469438, 2815.4371717917743, 2765.31420884431, 2699.360301859516, 2569.3000206032616, 2228.6315098117325, 2193.991021538987, 2159.002067078648, 2069.2951149408577, 2022.6713976884691, 2001.5256123457352, 1914.1657953985157, 1903.8703431556987, 1860.0828934805634, 1789.6097283989059, 1765.3584761681216, 1757.2469526745963, 1733.6774483163188, 1638.8474673956202, 1598.7156791518084, 1596.1929019113138, 1588.1061308594983, 4804.204759766394, 9133.200559717643, 6748.714931275717, 324219.4338160374, 19807.08410446889, 6549.66167087058, 6141.545040198933, 5900.422696865301, 5216.937498773133, 4470.80370272233, 4382.948994264194, 4213.991696234867, 4114.996920978387, 3817.3634136414653, 3786.366141995817, 3258.2804816115226, 3223.88447987075, 3159.5867351880943, 3128.3849129193977, 3062.7784745122344, 2909.160926163547, 2874.017600294389, 2801.326522826035, 2648.215803019305, 2558.7424002075227, 2479.5440295601115, 2445.8826190483533, 2444.7226312548114, 2438.905080735371, 2428.581451649627, 2409.1676385567735, 2404.590327434478, 2295.662616249555, 3944.2459415577796, 9278.856244463557, 8041.191478122844, 9237.836230674708, 7012.9532999278645, 5572.818330740959, 184694.84171775173, 157533.36466282592, 120643.56158392935, 38637.09055449387, 30431.34786074503, 13846.364643963381, 4770.248660167467, 3558.5187731468923, 3224.531645504116, 3132.8127064660616, 2828.7286922779904, 2748.4283614528727, 2732.1576759953846, 2319.267719331072, 2253.250253159797, 2219.7926079827594, 2185.594322650467, 2172.134348145854, 2070.8113499664173, 1831.7331132973727, 1814.7793121539555, 1721.083577099706, 1668.0852001325134, 1641.221793899459, 1597.7329613632635, 1545.5637839980632, 1519.7422144230875, 1489.595654933237, 1476.199710831811, 1452.0934622456696, 4813.272878430807, 8930.217238781068, 4392.5242526229495, 15350.368185925621, 17380.589605208574, 93495.19332393794, 28309.061472067602, 24180.636568142494, 23489.619338514814, 10624.15214912977, 9221.530673689085, 8133.742960106062, 7922.02028512645, 7327.292208228743, 6599.058586900797, 6481.096901432989, 6389.038211337777, 5859.6387042562965, 5763.442920019359, 5695.087862322076, 5641.45640561724, 5286.032724191039, 5170.515274514263, 5011.11531870917, 4699.31329206076, 4608.273193859612, 4498.074220678863, 4345.836626405975, 4233.0892389151495, 4044.5108401095536, 3889.9865525566597, 3865.581563518761, 3636.8888187092557, 3616.406417349759, 3242.8128405717353, 9242.863356338246, 10469.736066415237, 12270.385565583678, 10089.174703272163, 11254.97517042158, 33488.24336110894, 9299.719143752862, 84848.55463507559, 38503.80543268309, 25877.474319853278, 15821.662441647792, 10502.852785953668, 8972.580441510678, 6972.992052648364, 5834.276815058515, 5535.664734931012, 5282.49741168001, 4840.1517488960235, 4604.200102663293, 4546.1893774719965, 4460.711489044239, 4408.622781695028, 4314.529026842044, 4097.301818095255, 4007.103854518303, 3963.841280182146, 3953.241693975453, 3917.8019632900523, 3743.3663007699843, 3356.3052457760296, 3291.0748242852123, 3100.121882154662, 2958.6116059303436, 2923.7226581345767, 2921.4235436030685, 2721.3107996157937, 2717.578714600427, 15481.589056715402, 6498.238519874202, 14745.309479978227, 21518.06264768781, 15888.437198692433, 13581.175492138067, 12717.887506325755, 6808.233046444142, 33488.24336110894], \"Category\": [\"Default\", \"Default\", \"Default\", \"Default\", \"Default\", \"Default\", \"Default\", \"Default\", \"Default\", \"Default\", \"Default\", \"Default\", \"Default\", \"Default\", \"Default\", \"Default\", \"Default\", \"Default\", \"Default\", \"Default\", \"Default\", \"Default\", \"Default\", \"Default\", \"Default\", \"Default\", \"Default\", \"Default\", \"Default\", \"Default\", \"Topic1\", \"Topic1\", \"Topic1\", \"Topic1\", \"Topic1\", \"Topic1\", \"Topic1\", \"Topic1\", \"Topic1\", \"Topic1\", \"Topic1\", \"Topic1\", \"Topic1\", \"Topic1\", \"Topic1\", \"Topic1\", \"Topic1\", \"Topic1\", \"Topic1\", \"Topic1\", \"Topic1\", \"Topic1\", \"Topic1\", \"Topic1\", \"Topic1\", \"Topic1\", \"Topic1\", \"Topic1\", \"Topic1\", \"Topic1\", \"Topic1\", \"Topic1\", \"Topic1\", \"Topic1\", \"Topic1\", \"Topic1\", \"Topic1\", \"Topic1\", \"Topic1\", \"Topic1\", \"Topic1\", \"Topic1\", \"Topic1\", \"Topic1\", \"Topic1\", \"Topic1\", \"Topic1\", \"Topic1\", \"Topic1\", \"Topic2\", \"Topic2\", \"Topic2\", \"Topic2\", \"Topic2\", \"Topic2\", \"Topic2\", \"Topic2\", \"Topic2\", \"Topic2\", \"Topic2\", \"Topic2\", \"Topic2\", \"Topic2\", \"Topic2\", \"Topic2\", \"Topic2\", \"Topic2\", \"Topic2\", \"Topic2\", \"Topic2\", \"Topic2\", \"Topic2\", \"Topic2\", \"Topic2\", \"Topic2\", \"Topic2\", \"Topic2\", \"Topic2\", \"Topic2\", \"Topic2\", \"Topic2\", \"Topic2\", \"Topic2\", \"Topic2\", \"Topic2\", \"Topic2\", \"Topic2\", \"Topic2\", \"Topic2\", \"Topic2\", \"Topic3\", \"Topic3\", \"Topic3\", \"Topic3\", \"Topic3\", \"Topic3\", \"Topic3\", \"Topic3\", \"Topic3\", \"Topic3\", \"Topic3\", \"Topic3\", \"Topic3\", \"Topic3\", \"Topic3\", \"Topic3\", \"Topic3\", \"Topic3\", \"Topic3\", \"Topic3\", \"Topic3\", \"Topic3\", \"Topic3\", \"Topic3\", \"Topic3\", \"Topic3\", \"Topic3\", \"Topic3\", \"Topic3\", \"Topic3\", \"Topic3\", \"Topic3\", \"Topic3\", \"Topic3\", \"Topic3\", \"Topic3\", \"Topic3\", \"Topic3\", \"Topic3\", \"Topic3\", \"Topic3\", \"Topic3\", \"Topic3\", \"Topic3\", \"Topic3\", \"Topic4\", \"Topic4\", \"Topic4\", \"Topic4\", \"Topic4\", \"Topic4\", \"Topic4\", \"Topic4\", \"Topic4\", \"Topic4\", \"Topic4\", \"Topic4\", \"Topic4\", \"Topic4\", \"Topic4\", \"Topic4\", \"Topic4\", \"Topic4\", \"Topic4\", \"Topic4\", \"Topic4\", \"Topic4\", \"Topic4\", \"Topic4\", \"Topic4\", \"Topic4\", \"Topic4\", \"Topic4\", \"Topic4\", \"Topic4\", \"Topic4\", \"Topic4\", \"Topic4\", \"Topic4\", \"Topic4\", \"Topic4\", \"Topic4\", \"Topic4\", \"Topic4\", \"Topic4\", \"Topic5\", \"Topic5\", \"Topic5\", \"Topic5\", \"Topic5\", \"Topic5\", \"Topic5\", \"Topic5\", \"Topic5\", \"Topic5\", \"Topic5\", \"Topic5\", \"Topic5\", \"Topic5\", \"Topic5\", \"Topic5\", \"Topic5\", \"Topic5\", \"Topic5\", \"Topic5\", \"Topic5\", \"Topic5\", \"Topic5\", \"Topic5\", \"Topic5\", \"Topic5\", \"Topic5\", \"Topic5\", \"Topic5\", \"Topic5\", \"Topic5\", \"Topic5\", \"Topic5\", \"Topic5\", \"Topic5\", \"Topic5\", \"Topic6\", \"Topic6\", \"Topic6\", \"Topic6\", \"Topic6\", \"Topic6\", \"Topic6\", \"Topic6\", \"Topic6\", \"Topic6\", \"Topic6\", \"Topic6\", \"Topic6\", \"Topic6\", \"Topic6\", \"Topic6\", \"Topic6\", \"Topic6\", \"Topic6\", \"Topic6\", \"Topic6\", \"Topic6\", \"Topic6\", \"Topic6\", \"Topic6\", \"Topic6\", \"Topic6\", \"Topic6\", \"Topic6\", \"Topic6\", \"Topic6\", \"Topic6\", \"Topic6\", \"Topic7\", \"Topic7\", \"Topic7\", \"Topic7\", \"Topic7\", \"Topic7\", \"Topic7\", \"Topic7\", \"Topic7\", \"Topic7\", \"Topic7\", \"Topic7\", \"Topic7\", \"Topic7\", \"Topic7\", \"Topic7\", \"Topic7\", \"Topic7\", \"Topic7\", \"Topic7\", \"Topic7\", \"Topic7\", \"Topic7\", \"Topic7\", \"Topic7\", \"Topic7\", \"Topic7\", \"Topic7\", \"Topic7\", \"Topic7\", \"Topic7\", \"Topic7\", \"Topic7\", \"Topic7\", \"Topic7\", \"Topic7\", \"Topic8\", \"Topic8\", \"Topic8\", \"Topic8\", \"Topic8\", \"Topic8\", \"Topic8\", \"Topic8\", \"Topic8\", \"Topic8\", \"Topic8\", \"Topic8\", \"Topic8\", \"Topic8\", \"Topic8\", \"Topic8\", \"Topic8\", \"Topic8\", \"Topic8\", \"Topic8\", \"Topic8\", \"Topic8\", \"Topic8\", \"Topic8\", \"Topic8\", \"Topic8\", \"Topic8\", \"Topic8\", \"Topic8\", \"Topic8\", \"Topic8\", \"Topic8\", \"Topic8\", \"Topic8\", \"Topic8\", \"Topic9\", \"Topic9\", \"Topic9\", \"Topic9\", \"Topic9\", \"Topic9\", \"Topic9\", \"Topic9\", \"Topic9\", \"Topic9\", \"Topic9\", \"Topic9\", \"Topic9\", \"Topic9\", \"Topic9\", \"Topic9\", \"Topic9\", \"Topic9\", \"Topic9\", \"Topic9\", \"Topic9\", \"Topic9\", \"Topic9\", \"Topic9\", \"Topic9\", \"Topic9\", \"Topic9\", \"Topic9\", \"Topic9\", \"Topic9\", \"Topic9\", \"Topic9\", \"Topic9\", \"Topic9\", \"Topic9\", \"Topic9\", \"Topic9\", \"Topic10\", \"Topic10\", \"Topic10\", \"Topic10\", \"Topic10\", \"Topic10\", \"Topic10\", \"Topic10\", \"Topic10\", \"Topic10\", \"Topic10\", \"Topic10\", \"Topic10\", \"Topic10\", \"Topic10\", \"Topic10\", \"Topic10\", \"Topic10\", \"Topic10\", \"Topic10\", \"Topic10\", \"Topic10\", \"Topic10\", \"Topic10\", \"Topic10\", \"Topic10\", \"Topic10\", \"Topic10\", \"Topic10\", \"Topic10\", \"Topic10\", \"Topic10\", \"Topic10\", \"Topic10\", \"Topic10\", \"Topic10\", \"Topic10\", \"Topic10\", \"Topic10\"], \"logprob\": [30.0, 29.0, 28.0, 27.0, 26.0, 25.0, 24.0, 23.0, 22.0, 21.0, 20.0, 19.0, 18.0, 17.0, 16.0, 15.0, 14.0, 13.0, 12.0, 11.0, 10.0, 9.0, 8.0, 7.0, 6.0, 5.0, 4.0, 3.0, 2.0, 1.0, -4.058, -4.6123, -4.8082, -4.8857, -4.911, -5.0005, -5.0619, -5.065, -5.0851, -5.1571, -5.2342, -5.2904, -5.2924, -5.3829, -5.4505, -5.4516, -5.4771, -5.5271, -5.5391, -5.5503, -5.5574, -5.6143, -5.6303, -5.6714, -5.6885, -5.7386, -5.7402, -5.7414, -5.7861, -5.7979, -5.1222, -5.0997, -3.9424, -5.3435, -4.4607, -5.3682, -5.0361, -5.4604, -5.0641, -4.387, -4.8922, -4.8639, -5.3521, -5.2438, -4.7188, -5.2131, -5.0523, -5.2212, -5.34, -3.2513, -4.4407, -4.8877, -4.9337, -4.9444, -5.0273, -5.0535, -5.077, -5.162, -5.1895, -5.1906, -5.2174, -5.2785, -5.2847, -5.293, -5.2953, -5.313, -5.336, -5.3462, -5.381, -5.383, -5.391, -5.3977, -5.3987, -5.4203, -5.4351, -5.4483, -5.4848, -5.4942, -5.516, -4.0045, -4.7758, -5.1103, -5.2591, -5.0221, -5.0466, -4.7573, -5.189, -5.0449, -5.2819, -5.3501, -2.4229, -2.4369, -3.6851, -3.9787, -3.9363, -4.3669, -4.7705, -4.775, -4.9006, -5.0032, -5.2674, -5.2774, -5.3257, -5.3547, -5.4313, -5.4381, -5.4648, -5.4658, -5.4694, -5.4947, -5.4982, -5.5134, -5.5917, -5.595, -5.5986, -5.6153, -5.6532, -5.6788, -5.6789, -5.6808, -3.7664, -5.0638, -5.0521, -5.1768, -4.8926, -5.0269, -5.1036, -5.2177, -5.2822, -4.8056, -5.3523, -5.3147, -5.3954, -5.1607, -5.3422, -1.7199, -4.2693, -4.3535, -4.6285, -4.6586, -4.6819, -4.7106, -4.8397, -4.8478, -4.8582, -4.8811, -4.9786, -4.9792, -5.0095, -5.0523, -5.076, -5.11, -5.1264, -5.2069, -5.2111, -5.2694, -5.3427, -5.3848, -5.3913, -5.4013, -5.4135, -5.4216, -5.4452, -5.4582, -5.4989, -4.1279, -4.4353, -4.8028, -4.9464, -4.9705, -5.0095, -5.1873, -5.3043, -5.0828, -5.2936, -2.0977, -3.1779, -4.3011, -4.6889, -4.7139, -4.8402, -4.8541, -4.8562, -5.0257, -5.0327, -5.0792, -5.0854, -5.0869, -5.12, -5.1284, -5.2407, -5.2714, -5.2771, -5.2777, -5.335, -5.415, -5.4405, -5.4432, -5.4556, -5.4719, -5.484, -5.5047, -5.5083, -5.5103, -5.5669, -3.3434, -4.1662, -4.6334, -5.2089, -4.9835, -5.2026, -0.6099, -2.6824, -3.2029, -3.2882, -4.6882, -4.9988, -5.078, -5.2771, -5.5659, -5.5888, -5.6068, -5.631, -5.6804, -5.8227, -5.8383, -5.8544, -5.8969, -5.9197, -5.9302, -5.9748, -5.9802, -6.0035, -6.0422, -6.0558, -6.0604, -6.0739, -6.1302, -6.155, -6.1566, -6.1617, -5.1062, -4.7603, -5.3426, -0.8313, -3.6268, -4.7335, -4.7978, -4.8379, -4.961, -5.1154, -5.1352, -5.1746, -5.1983, -5.2734, -5.2816, -5.4318, -5.4425, -5.4626, -5.4725, -5.4937, -5.5452, -5.5574, -5.583, -5.6392, -5.6736, -5.7051, -5.7187, -5.7192, -5.7216, -5.7258, -5.7339, -5.7358, -5.7822, -5.2989, -4.7417, -4.8474, -4.9402, -5.375, -5.4674, -1.3915, -1.5506, -1.8174, -2.956, -3.1948, -3.9822, -5.048, -5.3411, -5.4397, -5.4686, -5.5707, -5.5995, -5.6055, -5.7694, -5.7983, -5.8132, -5.8288, -5.8349, -5.8827, -6.0055, -6.0148, -6.0678, -6.0991, -6.1154, -6.1422, -6.1754, -6.1923, -6.2124, -6.2214, -6.2379, -5.4183, -5.0037, -5.6182, -5.9646, -5.9996, -2.0708, -3.2656, -3.4232, -3.4522, -4.2457, -4.3873, -4.5128, -4.5392, -4.6172, -4.7219, -4.74, -4.7543, -4.8408, -4.8573, -4.8693, -4.8787, -4.9438, -4.9659, -4.9972, -5.0615, -5.0811, -5.1053, -5.1397, -5.166, -5.2116, -5.2506, -5.2569, -5.3179, -5.3235, -5.4326, -4.4398, -4.6416, -4.5552, -4.7001, -4.794, -4.4307, -4.928, -2.0984, -2.8885, -3.2859, -3.7779, -4.1877, -4.3452, -4.5973, -4.7757, -4.8282, -4.875, -4.9625, -5.0125, -5.0252, -5.0441, -5.0559, -5.0775, -5.1291, -5.1514, -5.1623, -5.1649, -5.174, -5.2195, -5.3287, -5.3483, -5.4081, -5.4548, -5.4667, -5.4675, -5.5385, -5.5399, -3.8929, -4.8038, -4.1333, -4.0611, -4.3575, -4.5171, -4.8956, -5.1713, -5.1191], \"loglift\": [30.0, 29.0, 28.0, 27.0, 26.0, 25.0, 24.0, 23.0, 22.0, 21.0, 20.0, 19.0, 18.0, 17.0, 16.0, 15.0, 14.0, 13.0, 12.0, 11.0, 10.0, 9.0, 8.0, 7.0, 6.0, 5.0, 4.0, 3.0, 2.0, 1.0, 1.876, 1.8759, 1.8759, 1.8759, 1.8759, 1.8759, 1.8759, 1.8759, 1.8759, 1.8759, 1.8759, 1.8759, 1.8759, 1.8758, 1.8758, 1.8758, 1.8758, 1.8758, 1.8758, 1.8758, 1.8758, 1.8758, 1.8758, 1.8758, 1.8758, 1.8758, 1.8758, 1.8758, 1.8758, 1.8758, 1.8407, 1.8236, 1.6954, 1.8165, 1.6633, 1.8005, 1.715, 1.8144, 1.6643, 1.3867, 1.4043, 1.268, 1.7061, 1.5886, 0.8652, 1.512, 0.9741, 0.6032, 0.8086, 2.0289, 2.0289, 2.0288, 2.0288, 2.0288, 2.0288, 2.0288, 2.0288, 2.0288, 2.0288, 2.0288, 2.0288, 2.0288, 2.0288, 2.0288, 2.0288, 2.0288, 2.0288, 2.0288, 2.0287, 2.0287, 2.0287, 2.0287, 2.0287, 2.0287, 2.0287, 2.0287, 2.0287, 2.0287, 2.0287, 1.9682, 1.8995, 1.8699, 1.8913, 1.6474, 1.6394, 1.0671, 1.68, 1.3191, 1.59, 1.5571, 2.1694, 2.1694, 2.1694, 2.1693, 2.1693, 2.1693, 2.1693, 2.1693, 2.1693, 2.1692, 2.1692, 2.1692, 2.1692, 2.1692, 2.1692, 2.1692, 2.1692, 2.1692, 2.1692, 2.1692, 2.1692, 2.1691, 2.1691, 2.1691, 2.1691, 2.1691, 2.1691, 2.1691, 2.1691, 2.1691, 2.0595, 2.1186, 1.9025, 1.8733, 1.6591, 1.7414, 1.6833, 1.7154, 1.745, 0.7785, 1.8685, 1.7862, 1.8486, 0.613, 1.1017, 2.3556, 2.3555, 2.3555, 2.3554, 2.3554, 2.3554, 2.3554, 2.3554, 2.3554, 2.3554, 2.3554, 2.3554, 2.3554, 2.3554, 2.3554, 2.3554, 2.3554, 2.3554, 2.3554, 2.3554, 2.3553, 2.3553, 2.3553, 2.3553, 2.3553, 2.3553, 2.3553, 2.3553, 2.3553, 2.3553, 2.2858, 2.0508, 1.8689, 1.932, 1.8894, 1.9296, 2.0329, 2.1094, 0.555, 1.6502, 2.3632, 2.3632, 2.3632, 2.3631, 2.3631, 2.3631, 2.3631, 2.3631, 2.3631, 2.3631, 2.3631, 2.3631, 2.3631, 2.363, 2.363, 2.363, 2.363, 2.363, 2.363, 2.363, 2.363, 2.363, 2.363, 2.363, 2.363, 2.363, 2.363, 2.363, 2.363, 2.3629, 2.3253, 2.2278, 1.6065, 1.828, 1.165, 1.2412, 2.4716, 2.4716, 2.4716, 2.4716, 2.4715, 2.4714, 2.4714, 2.4714, 2.4713, 2.4713, 2.4713, 2.4712, 2.4712, 2.4712, 2.4712, 2.4712, 2.4711, 2.4711, 2.4711, 2.4711, 2.4711, 2.4711, 2.4711, 2.4711, 2.471, 2.471, 2.471, 2.471, 2.471, 2.471, 2.4195, 2.123, 1.8433, 2.4825, 2.4824, 2.4823, 2.4823, 2.4823, 2.4823, 2.4823, 2.4823, 2.4822, 2.4822, 2.4822, 2.4822, 2.4822, 2.4822, 2.4822, 2.4822, 2.4822, 2.4821, 2.4821, 2.4821, 2.4821, 2.4821, 2.4821, 2.4821, 2.4821, 2.4821, 2.4821, 2.4821, 2.4821, 2.482, 2.4241, 2.1258, 2.1633, 1.9317, 1.7725, 1.9099, 2.485, 2.485, 2.485, 2.485, 2.485, 2.485, 2.4848, 2.4848, 2.4847, 2.4847, 2.4847, 2.4847, 2.4847, 2.4846, 2.4846, 2.4846, 2.4846, 2.4846, 2.4846, 2.4845, 2.4845, 2.4845, 2.4844, 2.4844, 2.4844, 2.4844, 2.4844, 2.4844, 2.4844, 2.4843, 2.1056, 1.9021, 1.9971, 0.3995, 0.2403, 2.4865, 2.4865, 2.4865, 2.4865, 2.4864, 2.4864, 2.4864, 2.4864, 2.4864, 2.4864, 2.4864, 2.4864, 2.4863, 2.4863, 2.4863, 2.4863, 2.4863, 2.4863, 2.4863, 2.4863, 2.4863, 2.4863, 2.4863, 2.4863, 2.4863, 2.4863, 2.4863, 2.4862, 2.4862, 2.4862, 2.4316, 2.1052, 2.0328, 2.0837, 1.8805, 1.1533, 1.9372, 2.556, 2.556, 2.5559, 2.5559, 2.5559, 2.5559, 2.5558, 2.5558, 2.5558, 2.5558, 2.5558, 2.5558, 2.5558, 2.5558, 2.5558, 2.5558, 2.5557, 2.5557, 2.5557, 2.5557, 2.5557, 2.5557, 2.5557, 2.5557, 2.5557, 2.5557, 2.5556, 2.5556, 2.5556, 2.5556, 2.4627, 2.4199, 2.271, 1.9652, 1.9721, 1.9694, 1.6566, 2.0058, 0.465]}, \"token.table\": {\"Topic\": [10, 7, 9, 8, 3, 8, 5, 7, 8, 8, 8, 6, 8, 8, 1, 6, 7, 4, 5, 7, 1, 1, 3, 4, 5, 6, 7, 8, 5, 1, 5, 1, 4, 6, 1, 3, 3, 9, 6, 1, 10, 7, 3, 10, 1, 3, 4, 8, 7, 6, 4, 7, 8, 4, 3, 4, 4, 8, 1, 6, 1, 7, 9, 5, 4, 10, 4, 3, 1, 10, 2, 6, 10, 3, 9, 6, 3, 6, 8, 1, 10, 5, 6, 9, 4, 9, 1, 9, 6, 8, 6, 3, 10, 9, 7, 2, 7, 8, 6, 6, 6, 2, 4, 8, 6, 10, 10, 4, 1, 1, 9, 4, 5, 1, 6, 8, 1, 9, 9, 4, 10, 5, 7, 2, 2, 1, 7, 2, 6, 9, 2, 4, 3, 5, 7, 5, 9, 1, 6, 10, 4, 9, 1, 3, 2, 6, 9, 7, 2, 4, 8, 7, 8, 7, 8, 2, 4, 1, 2, 7, 9, 1, 3, 7, 4, 2, 5, 1, 6, 3, 3, 4, 2, 5, 6, 7, 8, 10, 4, 2, 1, 2, 10, 3, 2, 3, 5, 4, 8, 8, 2, 3, 2, 7, 4, 8, 2, 4, 1, 4, 6, 10, 2, 3, 7, 4, 1, 7, 8, 1, 8, 8, 7, 5, 1, 3, 2, 3, 10, 10, 1, 10, 7, 10, 5, 7, 8, 6, 1, 5, 5, 1, 6, 3, 5, 6, 7, 5, 4, 1, 2, 10, 1, 7, 4, 9, 2, 6, 1, 4, 10, 9, 2, 7, 9, 4, 1, 4, 6, 2, 8, 7, 2, 3, 9, 2, 2, 2, 1, 6, 6, 9, 5, 5, 3, 6, 7, 8, 6, 10, 8, 6, 8, 10, 1, 6, 8, 6, 1, 2, 1, 2, 10, 4, 10, 1, 8, 1, 7, 4, 10, 5, 2, 9, 1, 3, 4, 7, 8, 2, 9, 2, 3, 6, 7, 8, 4, 1, 3, 9, 10, 8, 5, 10, 4, 2, 1, 2, 7, 9, 8, 1, 2, 6, 8, 1, 6, 8, 8, 6, 6, 3, 5, 2, 7, 6, 8, 2, 4, 9, 5, 10, 5, 7, 4, 10, 7, 8, 10, 3, 3, 3, 2, 8, 8, 3, 4, 8, 3, 2, 10, 10, 6, 2, 1, 8, 1, 2, 3, 5, 6, 8, 10, 2, 9, 1, 6, 9, 4, 5, 6, 9, 5, 7, 2, 8, 9, 1, 3, 6, 8, 2, 4, 6, 7, 8, 10, 2, 7, 5, 3, 7, 2, 4, 7, 2, 9, 1, 2, 3, 6, 3, 9, 3, 1, 5, 5, 7, 1, 8, 3, 7, 2, 6, 10, 1, 3, 1, 5, 7, 3, 9, 2, 3, 5, 10, 9, 7, 7, 1, 10, 4, 3, 7, 10, 3, 1, 7, 7, 5, 5, 5, 6, 7, 10, 7, 9, 10, 5, 5, 2, 9, 7, 1, 3, 10, 1, 2, 3, 6, 7, 8, 7, 2, 2, 4, 5, 4, 4, 10, 3, 7, 1, 2, 9, 1, 9, 8, 3, 3, 5, 8, 3, 1, 2, 10, 1, 1, 1, 8, 10, 9, 3, 3, 5, 4, 5, 3, 1, 1, 2, 8], \"Freq\": [0.9997932794121683, 0.9998202971046992, 0.9997496426980569, 0.9995705746981265, 0.9505640586228017, 0.04932241658847534, 0.8733479862093314, 0.042892119221256075, 0.08370340010783463, 0.9999954426569584, 0.9999717744147341, 0.9491685363181172, 0.050580691738004925, 0.99964293602028, 0.9422779709965012, 0.04331648656128568, 0.014438828853761894, 0.22344366673825108, 0.28490136958712553, 0.4916616227909954, 0.999708310820387, 0.3438725791639622, 0.1406369528101849, 0.10051498419667435, 0.301755015252921, 0.04505844119161263, 0.020218531303928748, 0.0479468028064596, 0.9998508536743305, 0.4143838021139202, 0.585575631637878, 0.809207962197, 0.19065010860429957, 0.9996092420092465, 0.2561446384930709, 0.7437250134831639, 0.31700894644772093, 0.6829207493525774, 0.9994940175951283, 0.44370238816870883, 0.5562846901119475, 0.9997834804225566, 0.9997022232817523, 0.9996381167588538, 0.6239354949968287, 0.19588176904506663, 0.14978835929464218, 0.030323009320622686, 0.9999112535696856, 0.9996592953261092, 0.9998414209577325, 0.31558568117069125, 0.6841498670803727, 0.9996471291360527, 0.34674691502616395, 0.6532040382562995, 0.9326464371622402, 0.06729732421129575, 0.9999334428591364, 0.9998564629240703, 0.9999240153905312, 0.9996391944295443, 0.9996111008588493, 0.9997655039100981, 0.9997738131835232, 0.9995183205034945, 0.9997640841237628, 0.999846469079256, 0.9997825852154762, 0.9998577292730476, 0.9998473796489511, 0.12711136986950586, 0.8728519248182048, 0.9998095884098891, 0.9999872365209855, 0.9992304814084727, 0.9998477137565902, 0.9999966475916289, 0.9992469752986984, 0.9999385005219242, 0.9997393461108263, 0.9998223098175444, 0.9997807044009616, 0.9998089823461245, 0.9998783254318142, 0.9998495534218578, 0.9998173178771048, 0.9997426846320328, 0.999745126905, 0.9996352243732026, 0.9993741274835539, 0.9998089220754303, 0.9997870477137175, 0.9998395851640265, 0.9998202330552244, 0.9998920582874579, 0.9997256477779298, 0.9993704099474751, 0.999482888180578, 0.999542855867876, 0.9997166378519947, 0.9999685489577095, 0.9999929017910364, 0.9997280727515131, 0.9992526580528673, 0.9996734123827021, 0.9997245256029343, 0.9998777956343229, 0.9997909048820804, 0.9998285304802034, 0.9998712089732507, 0.9999042768520053, 0.9996646395833331, 0.9490217913388119, 0.037377419255419105, 0.01356071003474047, 0.9997681074414569, 0.9997556101509941, 0.9998236445071357, 0.999887622857334, 0.9995127226224402, 0.9996524376926991, 0.9997098573864011, 0.9998338842271476, 0.9998779555027205, 0.8437756858470905, 0.1561050225593458, 0.9998146568864453, 0.9997373941445, 0.9998915537810832, 0.2757150819960792, 0.7242504628851402, 0.7255452841890432, 0.24263365023205016, 0.03172297562904475, 0.9996485928935965, 0.9998074878376947, 0.3812206275704996, 0.06098774774902, 0.5577641078966101, 0.9998310196072581, 0.9998909993792224, 0.694919955362032, 0.3050731317150871, 0.9998534413318868, 0.9992903941744224, 0.9999625041590076, 0.9995573073781048, 0.9997455047317153, 0.9998402899350962, 0.9996001230728189, 0.999754499788283, 0.9997405824917703, 0.9996009412359741, 0.9995412491442637, 0.8529414529027783, 0.1469216079247043, 0.3170650710168722, 0.6828481716294769, 0.9997805929019102, 0.9999003436820305, 0.9997844252757011, 0.9998387849686214, 0.9997646658307957, 0.9998899854320931, 0.8785298921912508, 0.12138812661616129, 0.46645917512549756, 0.5334348889618142, 0.9998766922797159, 0.2626009427270658, 0.7373139697981348, 0.19170811092631024, 0.46920157401082235, 0.0226114308505522, 0.09723490620212014, 0.10598029421556526, 0.1132872960425885, 0.9997485992407844, 0.9998810054897106, 0.9998490976024157, 0.9997495830270919, 0.9996859048670499, 0.9998682552055478, 0.999829200965166, 0.9999902020966194, 0.9998595605169367, 0.9997415292458702, 0.999349433630592, 0.9997423958402304, 0.36482373424444353, 0.6350464875586245, 0.9998478952845885, 0.9996070069416217, 0.9998644086808438, 0.9992555583261199, 0.9998669378815536, 0.9998081588709967, 0.37250716432334857, 0.6273692293771929, 0.9998472663246118, 0.9996350074611444, 0.29125726835360083, 0.6815964485583332, 0.026948102399071482, 0.9998211409986572, 0.3899283757400143, 0.5639875218365692, 0.045937259175998, 0.3858829007006276, 0.6139977481944499, 0.9998542165490858, 0.9996391408804823, 0.9998391566117225, 0.3480283272906044, 0.6518455406545, 0.3848918508908955, 0.6150712967220562, 0.9999353094113269, 0.9997620428127515, 0.9997843856609041, 0.9997383792505674, 0.7267579706190802, 0.273218217222813, 0.9997443633803988, 0.9431460550684592, 0.05653805652695333, 0.999535865623323, 0.9998655714584748, 0.9997993667534959, 0.9999215496901195, 0.9997596923631904, 0.9999585270904434, 0.7656981311670352, 0.17461021572221244, 0.035627538965542334, 0.02398685791739484, 0.9998172130968115, 0.999908816642793, 0.35516043590521656, 0.6447228150720725, 0.999905837780647, 0.4233675400104328, 0.5765419376362989, 0.9998851818869762, 0.9997237156292496, 0.9998786632899143, 0.9993034905929746, 0.9999516238890476, 0.9996690117100625, 0.9999188043504895, 0.9998375011537832, 0.941115910215381, 0.05884727398894267, 0.9997205353252402, 0.9996861045104148, 0.8347800591276403, 0.16521655845404923, 0.9998989379726895, 0.9999512349256207, 0.999608197064194, 0.9997044117620654, 0.9998179024147802, 0.9998890092017009, 0.9999086570463677, 0.9997973090234555, 0.999922908806658, 0.9997969529873926, 0.999906845001652, 0.999489538674074, 0.9995483019168001, 0.999942452754552, 0.999754592034909, 0.9997455217053021, 0.8959047735530683, 0.026240525246269512, 0.037915657493522756, 0.039931234070410125, 0.9994178251494281, 0.9999934632348426, 0.9999557081483476, 0.7056671927720429, 0.027591641982708272, 0.26671920583284664, 0.9402243859439421, 0.05960423325191571, 0.999901443880869, 0.9993909642512063, 0.29453122167467627, 0.7054071326001041, 0.3765562478531122, 0.21654539707401776, 0.4068285709734814, 0.9998801055734459, 0.9997877613853128, 0.9998931478561849, 0.9994802988235365, 0.999858906927018, 0.9995153352809135, 0.9998791435792472, 0.9997528294509856, 0.9997194987980387, 0.9997120163904245, 0.9997493408927072, 0.9998841422248427, 0.34404455481114843, 0.4938516496714456, 0.12561464475863432, 0.03628867515249436, 0.999825164224392, 0.9999736335227111, 0.28305262325014413, 0.6002884478089536, 0.020431338713225285, 0.05736491254097868, 0.0387409614831541, 0.999703865822777, 0.3639486212691093, 0.24883359542463798, 0.26364476347103427, 0.1235657527741692, 0.9994533967249639, 0.9999913507671968, 0.9997811528148236, 0.9997277881943537, 0.9998638678973593, 0.9997117375027744, 0.3545268355996297, 0.06806657171203082, 0.5773292630677622, 0.9994451334652936, 0.3035757803042562, 0.4917145900722158, 0.08038895126511848, 0.12423154786270742, 0.9273473143307639, 0.0725332122721408, 0.9999913373092181, 0.9998351247366862, 0.9994960651015803, 0.9996680638836163, 0.7401142104025795, 0.25964612150138183, 0.9997447756566716, 0.99971136165878, 0.9999783500523822, 0.9995997706805371, 0.2808535738317047, 0.17361211112532457, 0.5455365211409892, 0.9998614643235654, 0.9996111063564102, 0.9998797492589795, 0.9997605797206298, 0.2478754348942561, 0.7520357585615337, 0.0328777619749061, 0.056131188911971316, 0.9108884074069269, 0.999792915440806, 0.9997759178309353, 0.9998384254815629, 0.9997945096766695, 0.9995762777508942, 0.9991872977463632, 0.9997249062295652, 0.9999485106822871, 0.9999953450982217, 0.9998276404753151, 0.42301724696456877, 0.576801641954813, 0.9998404987531728, 0.9995523411941589, 0.9999091955681356, 0.9998754893021942, 0.999738240025537, 0.280070104383414, 0.3821865126121598, 0.1611684776953504, 0.08517928733993188, 0.017278901355180117, 0.004860877743874847, 0.06926750785021657, 0.9997954111661863, 0.9999736744671424, 0.965403629195714, 0.034504109075896926, 0.9998046315176384, 0.654736814558702, 0.24581232378838938, 0.05099298206248503, 0.048268997977950576, 0.9996203326511788, 0.9997588822126156, 0.2718858830730315, 0.5582171034263024, 0.1697607078825024, 0.2751224567213859, 0.654174444428516, 0.028953604131064972, 0.041723534337342535, 0.6773682633871881, 0.17886980415877182, 0.03217858788383935, 0.07352537678486198, 0.03802106892420124, 0.9998587355448931, 0.871396676467099, 0.12842839577670356, 0.9997686782676481, 0.9998785824835539, 0.9998143000217212, 0.3519588259150746, 0.6146874056829991, 0.03331735109367272, 0.33154347093574815, 0.6684392131511766, 0.6130239568767016, 0.1486173377965717, 0.2108871720688783, 0.02743482553446551, 0.999751958100841, 0.999777431043144, 0.9998646762165134, 0.9999366314786217, 0.9998446626989959, 0.999753131239871, 0.9996428389195031, 0.9997055290957386, 0.9995116182099546, 0.9998596288928056, 0.9996459310846654, 0.9998297866112368, 0.9999767138613855, 0.999958130717917, 0.9997205415656144, 0.9999864798465307, 0.8512832288709675, 0.12595615049668474, 0.02273542091981286, 0.9996893062088539, 0.9997611820912327, 0.23939386313857094, 0.34381558947075047, 0.3256123425831138, 0.0911573448791729, 0.9998307537366481, 0.999995577636971, 0.9999452668316461, 0.9998545702380341, 0.9999790817381805, 0.9997730111498809, 0.999730756627948, 0.9995408973022822, 0.9998799177763028, 0.9996789101816468, 0.29992920750987395, 0.6999785133944058, 0.9997458273529369, 0.9999856393035534, 0.9998478693144052, 0.9998829499217442, 0.999524752434965, 0.9996288987453755, 0.9997953027494583, 0.05333844946024521, 0.9465681426525058, 0.9996822742982941, 0.9997689867885794, 0.9997342361124396, 0.3646177193118365, 0.6352693612060272, 0.9997577346963968, 0.7502204938358994, 0.24972665536839925, 0.9999430269030488, 0.544440103541201, 0.24389015927535826, 0.1387312511252885, 0.04224950239035219, 0.01125964733630413, 0.019368659408780037, 0.9998989763282702, 0.9998878226472374, 0.9998245109563276, 0.9998180285689383, 0.999654719517875, 0.999890079825287, 0.7817597542398586, 0.2180962704044547, 0.9996758660643917, 0.9995264661883482, 0.8083832788232861, 0.19159134631847533, 0.9997418387181384, 0.9999247352506839, 0.9998736954529859, 0.999477772566498, 0.9999541779208287, 0.9999451853891798, 0.9627482029861907, 0.037245027195833454, 0.9999218791640911, 0.9998300408205955, 0.9998032621173053, 0.9998773847994178, 0.9999118490003909, 0.9997376512522503, 0.40579861407450096, 0.04029173137913334, 0.5539067431463556, 0.9997463866408455, 0.9998886405268801, 0.9996470355945805, 0.9998844162884157, 0.9997931935561899, 0.9998112230772205, 0.9997327645693671, 0.9997749734035852, 0.32452408134403005, 0.6238173685268967, 0.05158295695171176], \"Term\": [\"1\", \"10\", \"2\", \"accept\", \"act\", \"act\", \"acting\", \"acting\", \"acting\", \"actor\", \"actress\", \"add\", \"add\", \"admit\", \"almost\", \"almost\", \"almost\", \"along\", \"along\", \"along\", \"already\", \"also\", \"also\", \"also\", \"also\", \"also\", \"also\", \"also\", \"although\", \"always\", \"always\", \"another\", \"another\", \"answer\", \"anyone\", \"anyone\", \"anything\", \"anything\", \"appear\", \"around\", \"around\", \"attempt\", \"attention\", \"baby\", \"bad\", \"bad\", \"bad\", \"bad\", \"based\", \"beauty\", \"become\", \"becomes\", \"becomes\", \"beginning\", \"believe\", \"believe\", \"better\", \"better\", \"big\", \"body\", \"book\", \"boring\", \"bring\", \"brother\", \"budget\", \"building\", \"buy\", \"call\", \"came\", \"camera\", \"car\", \"care\", \"care\", \"career\", \"cast\", \"cat\", \"chance\", \"character\", \"charles\", \"child\", \"city\", \"classic\", \"close\", \"coming\", \"comment\", \"country\", \"couple\", \"credit\", \"crime\", \"cult\", \"culture\", \"cut\", \"dance\", \"dead\", \"deal\", \"death\", \"decent\", \"deliver\", \"depth\", \"development\", \"died\", \"directed\", \"director\", \"doctor\", \"dollar\", \"dr\", \"drama\", \"dvd\", \"early\", \"effect\", \"else\", \"enjoy\", \"enjoyed\", \"enough\", \"enough\", \"enough\", \"episode\", \"etc\", \"everyone\", \"everything\", \"expecting\", \"experience\", \"extremely\", \"eye\", \"face\", \"fact\", \"fact\", \"fall\", \"falling\", \"family\", \"fan\", \"fan\", \"far\", \"far\", \"far\", \"fast\", \"feature\", \"feel\", \"feel\", \"feel\", \"feeling\", \"felt\", \"few\", \"few\", \"fight\", \"fill\", \"filmmaker\", \"final\", \"finally\", \"flick\", \"floor\", \"focus\", \"following\", \"forced\", \"forgotten\", \"found\", \"found\", \"friend\", \"friend\", \"front\", \"full\", \"fun\", \"funny\", \"genre\", \"getting\", \"girl\", \"girl\", \"given\", \"given\", \"god\", \"got\", \"got\", \"great\", \"great\", \"great\", \"great\", \"great\", \"great\", \"group\", \"half\", \"hand\", \"happen\", \"happened\", \"happens\", \"hard\", \"have\", \"head\", \"heart\", \"heavy\", \"hell\", \"help\", \"help\", \"high\", \"highly\", \"hit\", \"hole\", \"home\", \"hope\", \"horror\", \"horror\", \"human\", \"husband\", \"idea\", \"idea\", \"idea\", \"including\", \"interesting\", \"interesting\", \"interesting\", \"involved\", \"involved\", \"itbr\", \"japanese\", \"john\", \"keep\", \"keep\", \"kid\", \"kid\", \"kill\", \"killed\", \"killer\", \"killing\", \"kind\", \"kind\", \"known\", \"lack\", \"lack\", \"large\", \"last\", \"late\", \"laugh\", \"le\", \"leading\", \"least\", \"least\", \"least\", \"least\", \"leave\", \"left\", \"let\", \"let\", \"liked\", \"line\", \"line\", \"live\", \"living\", \"long\", \"longer\", \"look\", \"looked\", \"looking\", \"lost\", \"love\", \"love\", \"loved\", \"low\", \"made\", \"made\", \"main\", \"making\", \"match\", \"material\", \"matter\", \"may\", \"mean\", \"meet\", \"might\", \"mind\", \"minute\", \"miss\", \"missed\", \"money\", \"mother\", \"mr\", \"much\", \"much\", \"much\", \"much\", \"murdered\", \"music\", \"musical\", \"must\", \"must\", \"must\", \"name\", \"name\", \"narrative\", \"nature\", \"need\", \"need\", \"new\", \"new\", \"new\", \"next\", \"nice\", \"night\", \"non\", \"nothing\", \"novel\", \"now\", \"obviously\", \"offer\", \"often\", \"opening\", \"order\", \"original\", \"original\", \"original\", \"original\", \"others\", \"over\", \"part\", \"part\", \"part\", \"part\", \"part\", \"past\", \"people\", \"people\", \"people\", \"people\", \"perfect\", \"performance\", \"performer\", \"perhaps\", \"picture\", \"piece\", \"place\", \"place\", \"place\", \"plan\", \"play\", \"play\", \"play\", \"play\", \"playing\", \"playing\", \"plot\", \"police\", \"possible\", \"potential\", \"pretty\", \"pretty\", \"problem\", \"produced\", \"producer\", \"public\", \"put\", \"put\", \"put\", \"quality\", \"question\", \"quite\", \"rating\", \"re\", \"re\", \"real\", \"real\", \"real\", \"recommend\", \"relationship\", \"remember\", \"rest\", \"return\", \"revenge\", \"review\", \"right\", \"role\", \"room\", \"run\", \"run\", \"running\", \"sam\", \"save\", \"saw\", \"saying\", \"scene\", \"scene\", \"scene\", \"scene\", \"scene\", \"scene\", \"scene\", \"school\", \"score\", \"screen\", \"screen\", \"screenwriter\", \"script\", \"script\", \"script\", \"script\", \"season\", \"second\", \"seeing\", \"seeing\", \"seeing\", \"seem\", \"seem\", \"seem\", \"seem\", \"seems\", \"seems\", \"seems\", \"seems\", \"seems\", \"self\", \"sense\", \"sense\", \"sequence\", \"series\", \"serious\", \"set\", \"set\", \"set\", \"shot\", \"shot\", \"show\", \"show\", \"show\", \"show\", \"showing\", \"side\", \"simply\", \"since\", \"sister\", \"sit\", \"slow\", \"small\", \"smile\", \"someone\", \"sometimes\", \"son\", \"song\", \"soundtrack\", \"special\", \"star\", \"start\", \"start\", \"start\", \"started\", \"stay\", \"still\", \"still\", \"still\", \"still\", \"stop\", \"story\", \"storyline\", \"style\", \"supporting\", \"supposed\", \"taking\", \"tale\", \"talk\", \"talking\", \"tell\", \"tell\", \"telling\", \"theme\", \"thinking\", \"thought\", \"thriller\", \"throw\", \"today\", \"together\", \"together\", \"told\", \"top\", \"truly\", \"trying\", \"trying\", \"turned\", \"tv\", \"tv\", \"twist\", \"two\", \"two\", \"two\", \"two\", \"two\", \"two\", \"understand\", \"use\", \"used\", \"using\", \"value\", \"version\", \"video\", \"video\", \"view\", \"walk\", \"want\", \"want\", \"wanted\", \"war\", \"waste\", \"wasted\", \"watch\", \"watching\", \"well\", \"well\", \"while\", \"white\", \"wife\", \"wo\", \"woman\", \"word\", \"work\", \"work\", \"work\", \"working\", \"world\", \"worse\", \"worst\", \"writer\", \"written\", \"wrong\", \"yet\", \"young\", \"young\", \"young\"]}, \"R\": 30, \"lambda.step\": 0.01, \"plot.opts\": {\"xlab\": \"PC1\", \"ylab\": \"PC2\"}, \"topic.order\": [9, 4, 7, 5, 1, 8, 2, 6, 3, 10]};\n",
              "\n",
              "function LDAvis_load_lib(url, callback){\n",
              "  var s = document.createElement('script');\n",
              "  s.src = url;\n",
              "  s.async = true;\n",
              "  s.onreadystatechange = s.onload = callback;\n",
              "  s.onerror = function(){console.warn(\"failed to load library \" + url);};\n",
              "  document.getElementsByTagName(\"head\")[0].appendChild(s);\n",
              "}\n",
              "\n",
              "if(typeof(LDAvis) !== \"undefined\"){\n",
              "   // already loaded: just create the visualization\n",
              "   !function(LDAvis){\n",
              "       new LDAvis(\"#\" + \"ldavis_el24016164866151846608531756\", ldavis_el24016164866151846608531756_data);\n",
              "   }(LDAvis);\n",
              "}else if(typeof define === \"function\" && define.amd){\n",
              "   // require.js is available: use it to load d3/LDAvis\n",
              "   require.config({paths: {d3: \"https://d3js.org/d3.v5\"}});\n",
              "   require([\"d3\"], function(d3){\n",
              "      window.d3 = d3;\n",
              "      LDAvis_load_lib(\"https://cdn.jsdelivr.net/gh/bmabey/pyLDAvis@3.4.0/pyLDAvis/js/ldavis.v3.0.0.js\", function(){\n",
              "        new LDAvis(\"#\" + \"ldavis_el24016164866151846608531756\", ldavis_el24016164866151846608531756_data);\n",
              "      });\n",
              "    });\n",
              "}else{\n",
              "    // require.js not available: dynamically load d3 & LDAvis\n",
              "    LDAvis_load_lib(\"https://d3js.org/d3.v5.js\", function(){\n",
              "         LDAvis_load_lib(\"https://cdn.jsdelivr.net/gh/bmabey/pyLDAvis@3.4.0/pyLDAvis/js/ldavis.v3.0.0.js\", function(){\n",
              "                 new LDAvis(\"#\" + \"ldavis_el24016164866151846608531756\", ldavis_el24016164866151846608531756_data);\n",
              "            })\n",
              "         });\n",
              "}\n",
              "</script>"
            ],
            "text/plain": [
              "PreparedData(topic_coordinates=              x         y  topics  cluster       Freq\n",
              "topic                                                \n",
              "8     -0.211093 -0.104873       1        1  15.320138\n",
              "3     -0.193692  0.022994       2        1  13.147554\n",
              "6     -0.177317  0.007062       3        1  11.424695\n",
              "4     -0.037181  0.017536       4        1   9.483963\n",
              "0      0.038792  0.140612       5        1   9.411450\n",
              "7      0.165726 -0.305875       6        1   8.444839\n",
              "1      0.169325  0.129067       7        1   8.353567\n",
              "5      0.255009  0.080346       8        1   8.332299\n",
              "2     -0.036064  0.211555       9        1   8.319943\n",
              "9      0.026495 -0.198425      10        1   7.761552, topic_info=           Term           Freq          Total Category  logprob  loglift\n",
              "115   character  409017.000000  409017.000000  Default  30.0000  30.0000\n",
              "74        story  324219.000000  324219.000000  Default  29.0000  29.0000\n",
              "1090      actor  184694.000000  184694.000000  Default  28.0000  28.0000\n",
              "102        plot  157533.000000  157533.000000  Default  27.0000  27.0000\n",
              "1509   director  151379.000000  151379.000000  Default  26.0000  26.0000\n",
              "...         ...            ...            ...      ...      ...      ...\n",
              "68         feel    8861.646361   15888.437199  Topic10  -4.3575   1.9721\n",
              "506      around    7554.520312   13581.175492  Topic10  -4.5171   1.9694\n",
              "50          new    5174.044611   12717.887506  Topic10  -4.8956   1.6566\n",
              "1612        run    3927.202795    6808.233046  Topic10  -5.1713   2.0058\n",
              "438      people    4137.785937   33488.243361  Topic10  -5.1191   0.4650\n",
              "\n",
              "[421 rows x 6 columns], token_table=      Topic      Freq    Term\n",
              "term                         \n",
              "2867     10  0.999793       1\n",
              "810       7  0.999820      10\n",
              "194       9  0.999750       2\n",
              "1574      8  0.999571  accept\n",
              "789       3  0.950564     act\n",
              "...     ...       ...     ...\n",
              "3102      3  0.999733   wrong\n",
              "1291      1  0.999775     yet\n",
              "144       1  0.324524   young\n",
              "144       2  0.623817   young\n",
              "144       8  0.051583   young\n",
              "\n",
              "[522 rows x 3 columns], R=30, lambda_step=0.01, plot_opts={'xlab': 'PC1', 'ylab': 'PC2'}, topic_order=[9, 4, 7, 5, 1, 8, 2, 6, 3, 10])"
            ]
          },
          "execution_count": 202,
          "metadata": {},
          "output_type": "execute_result"
        }
      ],
      "source": [
        "import pyLDAvis.gensim_models\n",
        "\n",
        "# Assuming you have a trained lda_model\n",
        "pyLDAvis.enable_notebook()\n",
        "vis = pyLDAvis.gensim_models.prepare(lda_model, corpus, dictionary)\n",
        "vis"
      ]
    },
    {
      "cell_type": "code",
      "execution_count": null,
      "metadata": {
        "id": "kNY-dMIGkH-l"
      },
      "outputs": [],
      "source": [
        "def categorize_topics(topics, category_keywords):\n",
        "    topic_categories = []\n",
        "    for topic in topics:\n",
        "        # Extract words from topic string\n",
        "        words = [word.split('*')[1].replace('\"', '').strip() for word in topic[1].split('+')]\n",
        "        # Count occurrences of each category's keywords in the topic\n",
        "        category_count = {category: sum(word in words for word in keywords) for category, keywords in category_keywords.items()}\n",
        "        # Determine the best category for the topic\n",
        "        best_category = max(category_count, key=category_count.get)\n",
        "        topic_categories.append((topic, best_category, category_count[best_category]))\n",
        "    return topic_categories\n",
        "\n",
        "# Categorize each topic\n",
        "categorized_topics = categorize_topics(topics, category_keywords)"
      ]
    },
    {
      "cell_type": "code",
      "execution_count": null,
      "metadata": {
        "id": "U05pUSGKkH-l",
        "outputId": "ba0cf08c-7276-45ee-87f3-79878562eab9"
      },
      "outputs": [
        {
          "data": {
            "text/plain": [
              "Counter({'actor': 5, 'plot': 2, 'director': 2, 'music': 1})"
            ]
          },
          "execution_count": 204,
          "metadata": {},
          "output_type": "execute_result"
        }
      ],
      "source": [
        "category_count = Counter()\n",
        "for i in [topic[1] for topic in categorized_topics]:\n",
        "    category_count[i] += 1\n",
        "\n",
        "category_count"
      ]
    },
    {
      "cell_type": "code",
      "execution_count": null,
      "metadata": {
        "id": "gnDNDyTjkH-l",
        "outputId": "536379a0-0a39-489b-e516-bc4058b09ff6"
      },
      "outputs": [
        {
          "data": {
            "text/plain": [
              "{0: 'actor',\n",
              " 1: 'plot',\n",
              " 2: 'actor',\n",
              " 3: 'director',\n",
              " 4: 'director',\n",
              " 5: 'actor',\n",
              " 6: 'actor',\n",
              " 7: 'actor',\n",
              " 8: 'plot',\n",
              " 9: 'music'}"
            ]
          },
          "execution_count": 205,
          "metadata": {},
          "output_type": "execute_result"
        }
      ],
      "source": [
        "topic_mapping = {}\n",
        "\n",
        "for topic in categorized_topics:\n",
        "    topic_mapping[topic[0][0]] = topic[1]\n",
        "\n",
        "topic_mapping"
      ]
    },
    {
      "cell_type": "code",
      "execution_count": null,
      "metadata": {
        "id": "L0Hu3ATTUtoo"
      },
      "outputs": [],
      "source": [
        "doc_topics = [lda_model.get_document_topics(bow) for bow in corpus]"
      ]
    },
    {
      "cell_type": "code",
      "execution_count": null,
      "metadata": {
        "id": "yPIBVdTBkH-m"
      },
      "outputs": [],
      "source": [
        "# Assuming 'doc_topics' contains lists of tuples with (topic, probability)\n",
        "# and 'topic_mapping' maps topic indices to category names.\n",
        "\n",
        "aspects = []\n",
        "\n",
        "for doc in doc_topics:  # Loop through each document's topics\n",
        "    highest_prob = {}  # Dictionary to hold the highest probability for each category\n",
        "\n",
        "    for topic in doc:\n",
        "        category = topic_mapping[topic[0]]  # Get the category name using the topic index\n",
        "        prob = topic[1]  # Get the probability\n",
        "\n",
        "        # If this category is not in highest_prob or current prob is higher, update it\n",
        "        if category not in highest_prob or prob > highest_prob[category]:\n",
        "            highest_prob[category] = prob\n",
        "\n",
        "    # Store the highest probabilities for this document\n",
        "    aspects.append([(cat, highest_prob[cat]) for cat in sorted(highest_prob)])\n",
        "\n",
        "# The 'aspects' list will now contain the topic with the highest probability for each category in each document\n"
      ]
    },
    {
      "cell_type": "code",
      "execution_count": null,
      "metadata": {
        "id": "ZWgAKHeUazPU",
        "outputId": "b06ed638-a3bd-4af9-8eb4-c295c91dde1b"
      },
      "outputs": [
        {
          "data": {
            "text/plain": [
              "[[('actor', 0.03333714),\n",
              "  ('director', 0.36665186),\n",
              "  ('music', 0.03333714),\n",
              "  ('plot', 0.36665103)],\n",
              " [('actor', 0.1), ('director', 0.1), ('music', 0.1), ('plot', 0.1)],\n",
              " [('actor', 0.28145498), ('music', 0.4638568), ('plot', 0.19099851)],\n",
              " [('actor', 0.52466166),\n",
              "  ('director', 0.025018735),\n",
              "  ('music', 0.025018737),\n",
              "  ('plot', 0.2751877)],\n",
              " [('actor', 0.05000187),\n",
              "  ('director', 0.05000187),\n",
              "  ('music', 0.5499832),\n",
              "  ('plot', 0.05000187)]]"
            ]
          },
          "execution_count": 251,
          "metadata": {},
          "output_type": "execute_result"
        }
      ],
      "source": [
        "aspects[0:5]"
      ]
    },
    {
      "cell_type": "code",
      "execution_count": null,
      "metadata": {
        "id": "PcYEQYmqazPU"
      },
      "outputs": [],
      "source": [
        "def max_aspect(doc_topics):\n",
        "    highest_prob = {}  # Dictionary to store the highest probability for each category\n",
        "\n",
        "    for topic, prob in doc_topics:\n",
        "        category = topic  # Map the topic index to a category name\n",
        "\n",
        "        # Check if this category is not in the dictionary or if the current probability is higher than the stored one\n",
        "        if category not in highest_prob or prob > highest_prob[category]:\n",
        "            highest_prob[category] = prob\n",
        "\n",
        "    # Finding the category with the maximum probability\n",
        "    max_category = max(highest_prob, key=highest_prob.get)  # Get the category with the highest probability\n",
        "    return max_category  # Return the category and its highest probability\n"
      ]
    },
    {
      "cell_type": "code",
      "execution_count": null,
      "metadata": {
        "id": "e82zofahazPU"
      },
      "outputs": [],
      "source": [
        "data = Xy['clauses'].to_numpy()\n",
        "rows = []\n",
        "\n",
        "# Iterate over each review\n",
        "for review_index, review in enumerate(data):\n",
        "    # Iterate over each sentence in the review\n",
        "    for sentence_index, sentence in enumerate(review):\n",
        "        # Iterate over each clause in the sentence\n",
        "        for clause_index, clause in enumerate(sentence):\n",
        "            # Safely access the corresponding aspect\n",
        "            aspect_index = review_index * len(review) * len(sentence) + sentence_index * len(sentence) + clause_index\n",
        "            aspect = aspects[aspect_index] if aspect_index < len(aspects) else None\n",
        "\n",
        "            if type(aspect) is not type(None):\n",
        "            # Create a dictionary for each row\n",
        "                row = {\n",
        "                    'Review Number': review_index,\n",
        "                    'Sentence Number': sentence_index,\n",
        "                    'Clause': clause,\n",
        "                    'Aspect': max_aspect(aspect)\n",
        "                }\n",
        "                rows.append(row)\n",
        "\n",
        "# Create DataFrame from list of dictionaries\n",
        "df = pd.DataFrame(rows, columns=['Review Number', 'Sentence Number', 'Clause', 'Aspect'])"
      ]
    },
    {
      "cell_type": "code",
      "execution_count": null,
      "metadata": {
        "id": "4nc270FOazPU",
        "outputId": "ff1dc937-7255-4c4c-8c64-f8ab16a0b8e7"
      },
      "outputs": [
        {
          "data": {
            "text/html": [
              "<div>\n",
              "<style scoped>\n",
              "    .dataframe tbody tr th:only-of-type {\n",
              "        vertical-align: middle;\n",
              "    }\n",
              "\n",
              "    .dataframe tbody tr th {\n",
              "        vertical-align: top;\n",
              "    }\n",
              "\n",
              "    .dataframe thead th {\n",
              "        text-align: right;\n",
              "    }\n",
              "</style>\n",
              "<table border=\"1\" class=\"dataframe\">\n",
              "  <thead>\n",
              "    <tr style=\"text-align: right;\">\n",
              "      <th></th>\n",
              "      <th>Review Number</th>\n",
              "      <th>Sentence Number</th>\n",
              "      <th>Clause</th>\n",
              "      <th>Aspect</th>\n",
              "    </tr>\n",
              "  </thead>\n",
              "  <tbody>\n",
              "    <tr>\n",
              "      <th>0</th>\n",
              "      <td>0</td>\n",
              "      <td>0</td>\n",
              "      <td>parent ever took see</td>\n",
              "      <td>director</td>\n",
              "    </tr>\n",
              "    <tr>\n",
              "      <th>1</th>\n",
              "      <td>0</td>\n",
              "      <td>0</td>\n",
              "      <td>see</td>\n",
              "      <td>actor</td>\n",
              "    </tr>\n",
              "    <tr>\n",
              "      <th>2</th>\n",
              "      <td>0</td>\n",
              "      <td>1</td>\n",
              "      <td>even tender age 5 year greatly moved drama cri...</td>\n",
              "      <td>actor</td>\n",
              "    </tr>\n",
              "    <tr>\n",
              "      <th>3</th>\n",
              "      <td>0</td>\n",
              "      <td>1</td>\n",
              "      <td>cried aloud screen crown</td>\n",
              "      <td>music</td>\n",
              "    </tr>\n",
              "    <tr>\n",
              "      <th>4</th>\n",
              "      <td>0</td>\n",
              "      <td>1</td>\n",
              "      <td>please nt take be</td>\n",
              "      <td>actor</td>\n",
              "    </tr>\n",
              "    <tr>\n",
              "      <th>5</th>\n",
              "      <td>0</td>\n",
              "      <td>2</td>\n",
              "      <td>see one tv broadcast porgy be many year ago</td>\n",
              "      <td>music</td>\n",
              "    </tr>\n",
              "    <tr>\n",
              "      <th>6</th>\n",
              "      <td>0</td>\n",
              "      <td>2</td>\n",
              "      <td>remember wonderful wonderful</td>\n",
              "      <td>actor</td>\n",
              "    </tr>\n",
              "    <tr>\n",
              "      <th>7</th>\n",
              "      <td>0</td>\n",
              "      <td>3</td>\n",
              "      <td>waiting wishing hoping one day might copy porg...</td>\n",
              "      <td>actor</td>\n",
              "    </tr>\n",
              "    <tr>\n",
              "      <th>8</th>\n",
              "      <td>0</td>\n",
              "      <td>3</td>\n",
              "      <td>wishing hoping one day might copy porgy be</td>\n",
              "      <td>plot</td>\n",
              "    </tr>\n",
              "    <tr>\n",
              "      <th>9</th>\n",
              "      <td>0</td>\n",
              "      <td>3</td>\n",
              "      <td>hoping one day might copy porgy be</td>\n",
              "      <td>plot</td>\n",
              "    </tr>\n",
              "    <tr>\n",
              "      <th>10</th>\n",
              "      <td>0</td>\n",
              "      <td>3</td>\n",
              "      <td>one day might copy porgy be</td>\n",
              "      <td>director</td>\n",
              "    </tr>\n",
              "    <tr>\n",
              "      <th>11</th>\n",
              "      <td>0</td>\n",
              "      <td>3</td>\n",
              "      <td>nt look like happen</td>\n",
              "      <td>actor</td>\n",
              "    </tr>\n",
              "    <tr>\n",
              "      <th>12</th>\n",
              "      <td>0</td>\n",
              "      <td>3</td>\n",
              "      <td>like happen</td>\n",
              "      <td>actor</td>\n",
              "    </tr>\n",
              "    <tr>\n",
              "      <th>13</th>\n",
              "      <td>0</td>\n",
              "      <td>4</td>\n",
              "      <td>obviously enough public interest warrant release</td>\n",
              "      <td>director</td>\n",
              "    </tr>\n",
              "    <tr>\n",
              "      <th>14</th>\n",
              "      <td>0</td>\n",
              "      <td>4</td>\n",
              "      <td>warrant release</td>\n",
              "      <td>director</td>\n",
              "    </tr>\n",
              "    <tr>\n",
              "      <th>15</th>\n",
              "      <td>0</td>\n",
              "      <td>5</td>\n",
              "      <td>year remember sure seems like not alone</td>\n",
              "      <td>director</td>\n",
              "    </tr>\n",
              "    <tr>\n",
              "      <th>16</th>\n",
              "      <td>0</td>\n",
              "      <td>5</td>\n",
              "      <td>sure seems like not alone</td>\n",
              "      <td>plot</td>\n",
              "    </tr>\n",
              "    <tr>\n",
              "      <th>17</th>\n",
              "      <td>0</td>\n",
              "      <td>6</td>\n",
              "      <td>brimming human emotion jealousy lust anger bra...</td>\n",
              "      <td>director</td>\n",
              "    </tr>\n",
              "    <tr>\n",
              "      <th>18</th>\n",
              "      <td>0</td>\n",
              "      <td>7</td>\n",
              "      <td>buried</td>\n",
              "      <td>music</td>\n",
              "    </tr>\n",
              "    <tr>\n",
              "      <th>19</th>\n",
              "      <td>0</td>\n",
              "      <td>7</td>\n",
              "      <td>deserves be brought forth light new audience a...</td>\n",
              "      <td>plot</td>\n",
              "    </tr>\n",
              "    <tr>\n",
              "      <th>20</th>\n",
              "      <td>0</td>\n",
              "      <td>7</td>\n",
              "      <td>be brought forth light new audience admire</td>\n",
              "      <td>actor</td>\n",
              "    </tr>\n",
              "    <tr>\n",
              "      <th>21</th>\n",
              "      <td>0</td>\n",
              "      <td>7</td>\n",
              "      <td>old audience relish</td>\n",
              "      <td>actor</td>\n",
              "    </tr>\n",
              "  </tbody>\n",
              "</table>\n",
              "</div>"
            ],
            "text/plain": [
              "    Review Number  Sentence Number  \\\n",
              "0               0                0   \n",
              "1               0                0   \n",
              "2               0                1   \n",
              "3               0                1   \n",
              "4               0                1   \n",
              "5               0                2   \n",
              "6               0                2   \n",
              "7               0                3   \n",
              "8               0                3   \n",
              "9               0                3   \n",
              "10              0                3   \n",
              "11              0                3   \n",
              "12              0                3   \n",
              "13              0                4   \n",
              "14              0                4   \n",
              "15              0                5   \n",
              "16              0                5   \n",
              "17              0                6   \n",
              "18              0                7   \n",
              "19              0                7   \n",
              "20              0                7   \n",
              "21              0                7   \n",
              "\n",
              "                                               Clause    Aspect  \n",
              "0                                parent ever took see  director  \n",
              "1                                                 see     actor  \n",
              "2   even tender age 5 year greatly moved drama cri...     actor  \n",
              "3                            cried aloud screen crown     music  \n",
              "4                                   please nt take be     actor  \n",
              "5         see one tv broadcast porgy be many year ago     music  \n",
              "6                        remember wonderful wonderful     actor  \n",
              "7   waiting wishing hoping one day might copy porg...     actor  \n",
              "8          wishing hoping one day might copy porgy be      plot  \n",
              "9                  hoping one day might copy porgy be      plot  \n",
              "10                        one day might copy porgy be  director  \n",
              "11                                nt look like happen     actor  \n",
              "12                                        like happen     actor  \n",
              "13   obviously enough public interest warrant release  director  \n",
              "14                                    warrant release  director  \n",
              "15            year remember sure seems like not alone  director  \n",
              "16                          sure seems like not alone      plot  \n",
              "17  brimming human emotion jealousy lust anger bra...  director  \n",
              "18                                             buried     music  \n",
              "19  deserves be brought forth light new audience a...      plot  \n",
              "20         be brought forth light new audience admire     actor  \n",
              "21                                old audience relish     actor  "
            ]
          },
          "execution_count": 291,
          "metadata": {},
          "output_type": "execute_result"
        }
      ],
      "source": [
        "df[df['Review Number'] == 0]"
      ]
    },
    {
      "cell_type": "markdown",
      "metadata": {
        "id": "oYqHwMv-azPU"
      },
      "source": [
        "### Save"
      ]
    },
    {
      "cell_type": "code",
      "execution_count": null,
      "metadata": {
        "id": "iy2nffxOazPU"
      },
      "outputs": [],
      "source": [
        "df.to_csv(\"data_aspects.csv\")"
      ]
    },
    {
      "cell_type": "code",
      "execution_count": null,
      "metadata": {
        "id": "Iz1uVbKGazPV"
      },
      "outputs": [],
      "source": [
        "Xy.to_csv(\"data_2.csv\")"
      ]
    },
    {
      "cell_type": "code",
      "execution_count": null,
      "metadata": {
        "id": "6V8TXfnpazPV",
        "outputId": "468ecf9a-2321-4048-fbd9-016f486eb43c"
      },
      "outputs": [
        {
          "data": {
            "image/png": "[encoded data removed]",
            "text/plain": [
              "<Figure size 640x480 with 1 Axes>"
            ]
          },
          "metadata": {},
          "output_type": "display_data"
        }
      ],
      "source": [
        "aspect_counts = df['Aspect'].explode().apply(lambda x: x).value_counts()\n",
        "# Plotting the bar chart\n",
        "aspect_counts.plot(kind='bar', color='skyblue')\n",
        "plt.title('Frequency of Aspects in Reviews')\n",
        "plt.xlabel('Aspect')\n",
        "plt.ylabel('Frequency')\n",
        "plt.xticks(rotation=45)\n",
        "plt.show()"
      ]
    },
    {
      "cell_type": "markdown",
      "metadata": {
        "id": "4BtPz2LmkH-m"
      },
      "source": [
        "## PART 3"
      ]
    },
    {
      "cell_type": "markdown",
      "metadata": {
        "id": "D87QohJvazPV"
      },
      "source": [
        "### Loading Text"
      ]
    },
    {
      "cell_type": "code",
      "execution_count": 17,
      "metadata": {
        "id": "8ZEB0npbazPV"
      },
      "outputs": [],
      "source": [
        "Xy = pd.read_csv('/content/drive/MyDrive/data_2.csv', index_col=0)"
      ]
    },
    {
      "cell_type": "code",
      "execution_count": 18,
      "metadata": {
        "id": "SaJ4PF4iazPV"
      },
      "outputs": [],
      "source": [
        "import ast\n",
        "Xy['clauses'] = Xy['clauses'].apply(ast.literal_eval)"
      ]
    },
    {
      "cell_type": "code",
      "execution_count": 19,
      "metadata": {
        "colab": {
          "base_uri": "https://localhost:8080/",
          "height": 206
        },
        "id": "5-SdoeiQbyYi",
        "outputId": "a2269f7d-9997-4e4f-81a3-c86899ddccab"
      },
      "outputs": [
        {
          "output_type": "execute_result",
          "data": {
            "text/plain": [
              "                                              review sentiment  \\\n",
              "0  \"Porgy & Bess\" was the very first movie my par...  positive   \n",
              "1  The 1960's TV series Bewitched owes it's idea ...  positive   \n",
              "2  When I first got my N64 when I was five or six...  positive   \n",
              "3  I grew up on this movie and I can remember whe...  positive   \n",
              "4  this is a dreadful adaption of Charles Kingsle...  negative   \n",
              "\n",
              "                                             clauses  sentiment_encoded  \n",
              "0  [[parent ever took see, see], [even tender age...                  1  \n",
              "1  [[bewitched owes], [jimmy stewart kim novak ma...                  1  \n",
              "2  [[first got n64 five six, first got n64 five s...                  1  \n",
              "3  [[grew remember brother used play backyard pre...                  1  \n",
              "4  [[put bluntly awful], [song epsecially high co...                  0  "
            ],
            "text/html": [
              "\n",
              "  <div id=\"df-947773c6-172f-4dc4-b43b-1d26edc16934\" class=\"colab-df-container\">\n",
              "    <div>\n",
              "<style scoped>\n",
              "    .dataframe tbody tr th:only-of-type {\n",
              "        vertical-align: middle;\n",
              "    }\n",
              "\n",
              "    .dataframe tbody tr th {\n",
              "        vertical-align: top;\n",
              "    }\n",
              "\n",
              "    .dataframe thead th {\n",
              "        text-align: right;\n",
              "    }\n",
              "</style>\n",
              "<table border=\"1\" class=\"dataframe\">\n",
              "  <thead>\n",
              "    <tr style=\"text-align: right;\">\n",
              "      <th></th>\n",
              "      <th>review</th>\n",
              "      <th>sentiment</th>\n",
              "      <th>clauses</th>\n",
              "      <th>sentiment_encoded</th>\n",
              "    </tr>\n",
              "  </thead>\n",
              "  <tbody>\n",
              "    <tr>\n",
              "      <th>0</th>\n",
              "      <td>\"Porgy &amp; Bess\" was the very first movie my par...</td>\n",
              "      <td>positive</td>\n",
              "      <td>[[parent ever took see, see], [even tender age...</td>\n",
              "      <td>1</td>\n",
              "    </tr>\n",
              "    <tr>\n",
              "      <th>1</th>\n",
              "      <td>The 1960's TV series Bewitched owes it's idea ...</td>\n",
              "      <td>positive</td>\n",
              "      <td>[[bewitched owes], [jimmy stewart kim novak ma...</td>\n",
              "      <td>1</td>\n",
              "    </tr>\n",
              "    <tr>\n",
              "      <th>2</th>\n",
              "      <td>When I first got my N64 when I was five or six...</td>\n",
              "      <td>positive</td>\n",
              "      <td>[[first got n64 five six, first got n64 five s...</td>\n",
              "      <td>1</td>\n",
              "    </tr>\n",
              "    <tr>\n",
              "      <th>3</th>\n",
              "      <td>I grew up on this movie and I can remember whe...</td>\n",
              "      <td>positive</td>\n",
              "      <td>[[grew remember brother used play backyard pre...</td>\n",
              "      <td>1</td>\n",
              "    </tr>\n",
              "    <tr>\n",
              "      <th>4</th>\n",
              "      <td>this is a dreadful adaption of Charles Kingsle...</td>\n",
              "      <td>negative</td>\n",
              "      <td>[[put bluntly awful], [song epsecially high co...</td>\n",
              "      <td>0</td>\n",
              "    </tr>\n",
              "  </tbody>\n",
              "</table>\n",
              "</div>\n",
              "    <div class=\"colab-df-buttons\">\n",
              "\n",
              "  <div class=\"colab-df-container\">\n",
              "    <button class=\"colab-df-convert\" onclick=\"convertToInteractive('df-947773c6-172f-4dc4-b43b-1d26edc16934')\"\n",
              "            title=\"Convert this dataframe to an interactive table.\"\n",
              "            style=\"display:none;\">\n",
              "\n",
              "  <svg xmlns=\"http://www.w3.org/2000/svg\" height=\"24px\" viewBox=\"0 -960 960 960\">\n",
              "    <path d=\"M120-120v-720h720v720H120Zm60-500h600v-160H180v160Zm220 220h160v-160H400v160Zm0 220h160v-160H400v160ZM180-400h160v-160H180v160Zm440 0h160v-160H620v160ZM180-180h160v-160H180v160Zm440 0h160v-160H620v160Z\"/>\n",
              "  </svg>\n",
              "    </button>\n",
              "\n",
              "  <style>\n",
              "    .colab-df-container {\n",
              "      display:flex;\n",
              "      gap: 12px;\n",
              "    }\n",
              "\n",
              "    .colab-df-convert {\n",
              "      background-color: #E8F0FE;\n",
              "      border: none;\n",
              "      border-radius: 50%;\n",
              "      cursor: pointer;\n",
              "      display: none;\n",
              "      fill: #1967D2;\n",
              "      height: 32px;\n",
              "      padding: 0 0 0 0;\n",
              "      width: 32px;\n",
              "    }\n",
              "\n",
              "    .colab-df-convert:hover {\n",
              "      background-color: #E2EBFA;\n",
              "      box-shadow: 0px 1px 2px rgba(60, 64, 67, 0.3), 0px 1px 3px 1px rgba(60, 64, 67, 0.15);\n",
              "      fill: #174EA6;\n",
              "    }\n",
              "\n",
              "    .colab-df-buttons div {\n",
              "      margin-bottom: 4px;\n",
              "    }\n",
              "\n",
              "    [theme=dark] .colab-df-convert {\n",
              "      background-color: #3B4455;\n",
              "      fill: #D2E3FC;\n",
              "    }\n",
              "\n",
              "    [theme=dark] .colab-df-convert:hover {\n",
              "      background-color: #434B5C;\n",
              "      box-shadow: 0px 1px 3px 1px rgba(0, 0, 0, 0.15);\n",
              "      filter: drop-shadow(0px 1px 2px rgba(0, 0, 0, 0.3));\n",
              "      fill: #FFFFFF;\n",
              "    }\n",
              "  </style>\n",
              "\n",
              "    <script>\n",
              "      const buttonEl =\n",
              "        document.querySelector('#df-947773c6-172f-4dc4-b43b-1d26edc16934 button.colab-df-convert');\n",
              "      buttonEl.style.display =\n",
              "        google.colab.kernel.accessAllowed ? 'block' : 'none';\n",
              "\n",
              "      async function convertToInteractive(key) {\n",
              "        const element = document.querySelector('#df-947773c6-172f-4dc4-b43b-1d26edc16934');\n",
              "        const dataTable =\n",
              "          await google.colab.kernel.invokeFunction('convertToInteractive',\n",
              "                                                    [key], {});\n",
              "        if (!dataTable) return;\n",
              "\n",
              "        const docLinkHtml = 'Like what you see? Visit the ' +\n",
              "          '<a target=\"_blank\" href=https://colab.research.google.com/notebooks/data_table.ipynb>data table notebook</a>'\n",
              "          + ' to learn more about interactive tables.';\n",
              "        element.innerHTML = '';\n",
              "        dataTable['output_type'] = 'display_data';\n",
              "        await google.colab.output.renderOutput(dataTable, element);\n",
              "        const docLink = document.createElement('div');\n",
              "        docLink.innerHTML = docLinkHtml;\n",
              "        element.appendChild(docLink);\n",
              "      }\n",
              "    </script>\n",
              "  </div>\n",
              "\n",
              "\n",
              "<div id=\"df-f5f56194-af9e-4f85-ab21-b01691cd0f95\">\n",
              "  <button class=\"colab-df-quickchart\" onclick=\"quickchart('df-f5f56194-af9e-4f85-ab21-b01691cd0f95')\"\n",
              "            title=\"Suggest charts\"\n",
              "            style=\"display:none;\">\n",
              "\n",
              "<svg xmlns=\"http://www.w3.org/2000/svg\" height=\"24px\"viewBox=\"0 0 24 24\"\n",
              "     width=\"24px\">\n",
              "    <g>\n",
              "        <path d=\"M19 3H5c-1.1 0-2 .9-2 2v14c0 1.1.9 2 2 2h14c1.1 0 2-.9 2-2V5c0-1.1-.9-2-2-2zM9 17H7v-7h2v7zm4 0h-2V7h2v10zm4 0h-2v-4h2v4z\"/>\n",
              "    </g>\n",
              "</svg>\n",
              "  </button>\n",
              "\n",
              "<style>\n",
              "  .colab-df-quickchart {\n",
              "      --bg-color: #E8F0FE;\n",
              "      --fill-color: #1967D2;\n",
              "      --hover-bg-color: #E2EBFA;\n",
              "      --hover-fill-color: #174EA6;\n",
              "      --disabled-fill-color: #AAA;\n",
              "      --disabled-bg-color: #DDD;\n",
              "  }\n",
              "\n",
              "  [theme=dark] .colab-df-quickchart {\n",
              "      --bg-color: #3B4455;\n",
              "      --fill-color: #D2E3FC;\n",
              "      --hover-bg-color: #434B5C;\n",
              "      --hover-fill-color: #FFFFFF;\n",
              "      --disabled-bg-color: #3B4455;\n",
              "      --disabled-fill-color: #666;\n",
              "  }\n",
              "\n",
              "  .colab-df-quickchart {\n",
              "    background-color: var(--bg-color);\n",
              "    border: none;\n",
              "    border-radius: 50%;\n",
              "    cursor: pointer;\n",
              "    display: none;\n",
              "    fill: var(--fill-color);\n",
              "    height: 32px;\n",
              "    padding: 0;\n",
              "    width: 32px;\n",
              "  }\n",
              "\n",
              "  .colab-df-quickchart:hover {\n",
              "    background-color: var(--hover-bg-color);\n",
              "    box-shadow: 0 1px 2px rgba(60, 64, 67, 0.3), 0 1px 3px 1px rgba(60, 64, 67, 0.15);\n",
              "    fill: var(--button-hover-fill-color);\n",
              "  }\n",
              "\n",
              "  .colab-df-quickchart-complete:disabled,\n",
              "  .colab-df-quickchart-complete:disabled:hover {\n",
              "    background-color: var(--disabled-bg-color);\n",
              "    fill: var(--disabled-fill-color);\n",
              "    box-shadow: none;\n",
              "  }\n",
              "\n",
              "  .colab-df-spinner {\n",
              "    border: 2px solid var(--fill-color);\n",
              "    border-color: transparent;\n",
              "    border-bottom-color: var(--fill-color);\n",
              "    animation:\n",
              "      spin 1s steps(1) infinite;\n",
              "  }\n",
              "\n",
              "  @keyframes spin {\n",
              "    0% {\n",
              "      border-color: transparent;\n",
              "      border-bottom-color: var(--fill-color);\n",
              "      border-left-color: var(--fill-color);\n",
              "    }\n",
              "    20% {\n",
              "      border-color: transparent;\n",
              "      border-left-color: var(--fill-color);\n",
              "      border-top-color: var(--fill-color);\n",
              "    }\n",
              "    30% {\n",
              "      border-color: transparent;\n",
              "      border-left-color: var(--fill-color);\n",
              "      border-top-color: var(--fill-color);\n",
              "      border-right-color: var(--fill-color);\n",
              "    }\n",
              "    40% {\n",
              "      border-color: transparent;\n",
              "      border-right-color: var(--fill-color);\n",
              "      border-top-color: var(--fill-color);\n",
              "    }\n",
              "    60% {\n",
              "      border-color: transparent;\n",
              "      border-right-color: var(--fill-color);\n",
              "    }\n",
              "    80% {\n",
              "      border-color: transparent;\n",
              "      border-right-color: var(--fill-color);\n",
              "      border-bottom-color: var(--fill-color);\n",
              "    }\n",
              "    90% {\n",
              "      border-color: transparent;\n",
              "      border-bottom-color: var(--fill-color);\n",
              "    }\n",
              "  }\n",
              "</style>\n",
              "\n",
              "  <script>\n",
              "    async function quickchart(key) {\n",
              "      const quickchartButtonEl =\n",
              "        document.querySelector('#' + key + ' button');\n",
              "      quickchartButtonEl.disabled = true;  // To prevent multiple clicks.\n",
              "      quickchartButtonEl.classList.add('colab-df-spinner');\n",
              "      try {\n",
              "        const charts = await google.colab.kernel.invokeFunction(\n",
              "            'suggestCharts', [key], {});\n",
              "      } catch (error) {\n",
              "        console.error('Error during call to suggestCharts:', error);\n",
              "      }\n",
              "      quickchartButtonEl.classList.remove('colab-df-spinner');\n",
              "      quickchartButtonEl.classList.add('colab-df-quickchart-complete');\n",
              "    }\n",
              "    (() => {\n",
              "      let quickchartButtonEl =\n",
              "        document.querySelector('#df-f5f56194-af9e-4f85-ab21-b01691cd0f95 button');\n",
              "      quickchartButtonEl.style.display =\n",
              "        google.colab.kernel.accessAllowed ? 'block' : 'none';\n",
              "    })();\n",
              "  </script>\n",
              "</div>\n",
              "\n",
              "    </div>\n",
              "  </div>\n"
            ],
            "application/vnd.google.colaboratory.intrinsic+json": {
              "type": "dataframe",
              "variable_name": "Xy",
              "summary": "{\n  \"name\": \"Xy\",\n  \"rows\": 49582,\n  \"fields\": [\n    {\n      \"column\": \"review\",\n      \"properties\": {\n        \"dtype\": \"string\",\n        \"num_unique_values\": 49582,\n        \"samples\": [\n          \"One of the most beautiful movies ever made in ex Yu.Story is very familiar to people in ex Yul because generation after war used to live in the same way.People in the west cant imagine how political situation in our country affect people.The plot is in the 50\\\",When Josip Broz Tito said no to the SSSR and politbiro and because of that our borders becomes open for western influence.But,in a country were people didn't had much money jeans was only ideal and friendship was everything.The friendship between for young people an a girl was so strong that after 40 years of their emigration from Yu is still alive.They get together after all this years on Ester\\\"s funeral and they start to remember of their childhood,before their went to the emigration and become successful people.\",\n          \"Man about the house is a true situation comedy in every sense of the word. The comedy concerns a character called Robin Tripp (played by the great Richard O' Sullivan) who finds himself after a wild party, ending up at the home of two ladies called Jo and Chrissy. Ironically the party was held to say goodbye to their old flatmate. The obvious ends up happening as he moves in.<br /><br />Man about the house was a pre-cursor to Cooke and Mortimer's spin off show George and Mildred which featured the 2 characters who were landlords to Jo, Chrissy and Robin. These two characters would actually turn out to be the linchpins of man about the house with Mildred (the late and much missed Yootha Joyce) in particular getting some of the best lines of the series. A semi-regular character was Larry (Doug Fisher) a useless person who was always on the scrounge and only ever came round when he wanted to borrow something (and never to return it).<br /><br />The American's did a version called three's company but it doesn't stand a chance when compared to this far funnier original. Thames took a risk in producing a comedy about a man sharing a flat with 2 women at a very conservative time but they should worry as the ratings at the time suggest that around 20 million people just wanted to watch a good old fashioned bit of comedy with inspired casting and a sharp script. What a pity modern comedy can't reach that high standard.<br /><br />This programme is available on network DVD\",\n          \"The movie starts something like a less hyper-kinetic, more pastiche Dead or Alive: strange underground activities are done while bodies are discovered by police officers. But when a police officer is killed, one Tatsuhito gets involved... and when he discovers that his brother Shihito is also involved, things get bloody quite fast.<br /><br />An earlier work of Miike's, Shinjuku Triad Society is still filled with his usual in the ol' ultraviolence and sadistic sex acts, though it's not one of his more eclectic or flamboyant pieces. Rather, it's a pretty well crafted bit of pulp fiction, as Tatsuhito digs his way through the underground, a maze that leads him to a gay Triad leader who sells illegally gained body organs from Taiwan and keeps an almost-brothel of young boys (one in particular the character who kills the cop at the beginning). Tatsuhito's brother is getting involved with said society, so Tatsuhito himself is forced to become a dirty cop and use similarly violent and sadistic tactics to penetrate into this sordid realm.<br /><br />What's mainly interesting about this little bit of work is the relationship Tatsuhito has with his nemesis, Wang. Tatsuhito is a Japanese born in China, later moved back into Japan, and alienated for it. Wang is a Chinese who felt alienated in China, so killed his father and developed a crime wing in Japan. Wang also is a surprisingly Shakespearian character, which is weird enough as it is, much less that you actually begin to feel sorry for him by the time his ultimate showdown with Tatsuhito comes to be. And Tatsuhito himself is a similarly tragic figure when he's forced to contend with his lack of ability to control his brother. While it would be rude to state that Miike's movies are successful mostly on their shock value, it is true that sometimes it's easy to lose track of how well Miike can create bitter, dis-impassioned characters.<br /><br />--PolarisDiB\"\n        ],\n        \"semantic_type\": \"\",\n        \"description\": \"\"\n      }\n    },\n    {\n      \"column\": \"sentiment\",\n      \"properties\": {\n        \"dtype\": \"category\",\n        \"num_unique_values\": 2,\n        \"samples\": [\n          \"negative\",\n          \"positive\"\n        ],\n        \"semantic_type\": \"\",\n        \"description\": \"\"\n      }\n    },\n    {\n      \"column\": \"clauses\",\n      \"properties\": {\n        \"dtype\": \"object\",\n        \"semantic_type\": \"\",\n        \"description\": \"\"\n      }\n    },\n    {\n      \"column\": \"sentiment_encoded\",\n      \"properties\": {\n        \"dtype\": \"number\",\n        \"std\": 0,\n        \"min\": 0,\n        \"max\": 1,\n        \"num_unique_values\": 2,\n        \"samples\": [\n          0,\n          1\n        ],\n        \"semantic_type\": \"\",\n        \"description\": \"\"\n      }\n    }\n  ]\n}"
            }
          },
          "metadata": {},
          "execution_count": 19
        }
      ],
      "source": [
        "Xy.head()"
      ]
    },
    {
      "cell_type": "code",
      "execution_count": 20,
      "metadata": {
        "id": "sYVOKbZ8azPV"
      },
      "outputs": [],
      "source": [
        "aspects = pd.read_csv('/content/drive/MyDrive/data_aspects.csv', index_col=0)"
      ]
    },
    {
      "cell_type": "code",
      "execution_count": 21,
      "metadata": {
        "colab": {
          "base_uri": "https://localhost:8080/",
          "height": 206
        },
        "id": "DFqP3JOxazPV",
        "outputId": "57c924a6-5f32-49c6-afcf-54e377c6cc81"
      },
      "outputs": [
        {
          "output_type": "execute_result",
          "data": {
            "text/plain": [
              "   Review Number  Sentence Number  \\\n",
              "0              0                0   \n",
              "1              0                0   \n",
              "2              0                1   \n",
              "3              0                1   \n",
              "4              0                1   \n",
              "\n",
              "                                              Clause    Aspect  \n",
              "0                               parent ever took see  director  \n",
              "1                                                see     actor  \n",
              "2  even tender age 5 year greatly moved drama cri...     actor  \n",
              "3                           cried aloud screen crown     music  \n",
              "4                                  please nt take be     actor  "
            ],
            "text/html": [
              "\n",
              "  <div id=\"df-b4579cb7-28ea-4b8f-a873-9299cbc26cf4\" class=\"colab-df-container\">\n",
              "    <div>\n",
              "<style scoped>\n",
              "    .dataframe tbody tr th:only-of-type {\n",
              "        vertical-align: middle;\n",
              "    }\n",
              "\n",
              "    .dataframe tbody tr th {\n",
              "        vertical-align: top;\n",
              "    }\n",
              "\n",
              "    .dataframe thead th {\n",
              "        text-align: right;\n",
              "    }\n",
              "</style>\n",
              "<table border=\"1\" class=\"dataframe\">\n",
              "  <thead>\n",
              "    <tr style=\"text-align: right;\">\n",
              "      <th></th>\n",
              "      <th>Review Number</th>\n",
              "      <th>Sentence Number</th>\n",
              "      <th>Clause</th>\n",
              "      <th>Aspect</th>\n",
              "    </tr>\n",
              "  </thead>\n",
              "  <tbody>\n",
              "    <tr>\n",
              "      <th>0</th>\n",
              "      <td>0</td>\n",
              "      <td>0</td>\n",
              "      <td>parent ever took see</td>\n",
              "      <td>director</td>\n",
              "    </tr>\n",
              "    <tr>\n",
              "      <th>1</th>\n",
              "      <td>0</td>\n",
              "      <td>0</td>\n",
              "      <td>see</td>\n",
              "      <td>actor</td>\n",
              "    </tr>\n",
              "    <tr>\n",
              "      <th>2</th>\n",
              "      <td>0</td>\n",
              "      <td>1</td>\n",
              "      <td>even tender age 5 year greatly moved drama cri...</td>\n",
              "      <td>actor</td>\n",
              "    </tr>\n",
              "    <tr>\n",
              "      <th>3</th>\n",
              "      <td>0</td>\n",
              "      <td>1</td>\n",
              "      <td>cried aloud screen crown</td>\n",
              "      <td>music</td>\n",
              "    </tr>\n",
              "    <tr>\n",
              "      <th>4</th>\n",
              "      <td>0</td>\n",
              "      <td>1</td>\n",
              "      <td>please nt take be</td>\n",
              "      <td>actor</td>\n",
              "    </tr>\n",
              "  </tbody>\n",
              "</table>\n",
              "</div>\n",
              "    <div class=\"colab-df-buttons\">\n",
              "\n",
              "  <div class=\"colab-df-container\">\n",
              "    <button class=\"colab-df-convert\" onclick=\"convertToInteractive('df-b4579cb7-28ea-4b8f-a873-9299cbc26cf4')\"\n",
              "            title=\"Convert this dataframe to an interactive table.\"\n",
              "            style=\"display:none;\">\n",
              "\n",
              "  <svg xmlns=\"http://www.w3.org/2000/svg\" height=\"24px\" viewBox=\"0 -960 960 960\">\n",
              "    <path d=\"M120-120v-720h720v720H120Zm60-500h600v-160H180v160Zm220 220h160v-160H400v160Zm0 220h160v-160H400v160ZM180-400h160v-160H180v160Zm440 0h160v-160H620v160ZM180-180h160v-160H180v160Zm440 0h160v-160H620v160Z\"/>\n",
              "  </svg>\n",
              "    </button>\n",
              "\n",
              "  <style>\n",
              "    .colab-df-container {\n",
              "      display:flex;\n",
              "      gap: 12px;\n",
              "    }\n",
              "\n",
              "    .colab-df-convert {\n",
              "      background-color: #E8F0FE;\n",
              "      border: none;\n",
              "      border-radius: 50%;\n",
              "      cursor: pointer;\n",
              "      display: none;\n",
              "      fill: #1967D2;\n",
              "      height: 32px;\n",
              "      padding: 0 0 0 0;\n",
              "      width: 32px;\n",
              "    }\n",
              "\n",
              "    .colab-df-convert:hover {\n",
              "      background-color: #E2EBFA;\n",
              "      box-shadow: 0px 1px 2px rgba(60, 64, 67, 0.3), 0px 1px 3px 1px rgba(60, 64, 67, 0.15);\n",
              "      fill: #174EA6;\n",
              "    }\n",
              "\n",
              "    .colab-df-buttons div {\n",
              "      margin-bottom: 4px;\n",
              "    }\n",
              "\n",
              "    [theme=dark] .colab-df-convert {\n",
              "      background-color: #3B4455;\n",
              "      fill: #D2E3FC;\n",
              "    }\n",
              "\n",
              "    [theme=dark] .colab-df-convert:hover {\n",
              "      background-color: #434B5C;\n",
              "      box-shadow: 0px 1px 3px 1px rgba(0, 0, 0, 0.15);\n",
              "      filter: drop-shadow(0px 1px 2px rgba(0, 0, 0, 0.3));\n",
              "      fill: #FFFFFF;\n",
              "    }\n",
              "  </style>\n",
              "\n",
              "    <script>\n",
              "      const buttonEl =\n",
              "        document.querySelector('#df-b4579cb7-28ea-4b8f-a873-9299cbc26cf4 button.colab-df-convert');\n",
              "      buttonEl.style.display =\n",
              "        google.colab.kernel.accessAllowed ? 'block' : 'none';\n",
              "\n",
              "      async function convertToInteractive(key) {\n",
              "        const element = document.querySelector('#df-b4579cb7-28ea-4b8f-a873-9299cbc26cf4');\n",
              "        const dataTable =\n",
              "          await google.colab.kernel.invokeFunction('convertToInteractive',\n",
              "                                                    [key], {});\n",
              "        if (!dataTable) return;\n",
              "\n",
              "        const docLinkHtml = 'Like what you see? Visit the ' +\n",
              "          '<a target=\"_blank\" href=https://colab.research.google.com/notebooks/data_table.ipynb>data table notebook</a>'\n",
              "          + ' to learn more about interactive tables.';\n",
              "        element.innerHTML = '';\n",
              "        dataTable['output_type'] = 'display_data';\n",
              "        await google.colab.output.renderOutput(dataTable, element);\n",
              "        const docLink = document.createElement('div');\n",
              "        docLink.innerHTML = docLinkHtml;\n",
              "        element.appendChild(docLink);\n",
              "      }\n",
              "    </script>\n",
              "  </div>\n",
              "\n",
              "\n",
              "<div id=\"df-0386e65f-b9d8-4185-8f9c-7fc4413dfa2c\">\n",
              "  <button class=\"colab-df-quickchart\" onclick=\"quickchart('df-0386e65f-b9d8-4185-8f9c-7fc4413dfa2c')\"\n",
              "            title=\"Suggest charts\"\n",
              "            style=\"display:none;\">\n",
              "\n",
              "<svg xmlns=\"http://www.w3.org/2000/svg\" height=\"24px\"viewBox=\"0 0 24 24\"\n",
              "     width=\"24px\">\n",
              "    <g>\n",
              "        <path d=\"M19 3H5c-1.1 0-2 .9-2 2v14c0 1.1.9 2 2 2h14c1.1 0 2-.9 2-2V5c0-1.1-.9-2-2-2zM9 17H7v-7h2v7zm4 0h-2V7h2v10zm4 0h-2v-4h2v4z\"/>\n",
              "    </g>\n",
              "</svg>\n",
              "  </button>\n",
              "\n",
              "<style>\n",
              "  .colab-df-quickchart {\n",
              "      --bg-color: #E8F0FE;\n",
              "      --fill-color: #1967D2;\n",
              "      --hover-bg-color: #E2EBFA;\n",
              "      --hover-fill-color: #174EA6;\n",
              "      --disabled-fill-color: #AAA;\n",
              "      --disabled-bg-color: #DDD;\n",
              "  }\n",
              "\n",
              "  [theme=dark] .colab-df-quickchart {\n",
              "      --bg-color: #3B4455;\n",
              "      --fill-color: #D2E3FC;\n",
              "      --hover-bg-color: #434B5C;\n",
              "      --hover-fill-color: #FFFFFF;\n",
              "      --disabled-bg-color: #3B4455;\n",
              "      --disabled-fill-color: #666;\n",
              "  }\n",
              "\n",
              "  .colab-df-quickchart {\n",
              "    background-color: var(--bg-color);\n",
              "    border: none;\n",
              "    border-radius: 50%;\n",
              "    cursor: pointer;\n",
              "    display: none;\n",
              "    fill: var(--fill-color);\n",
              "    height: 32px;\n",
              "    padding: 0;\n",
              "    width: 32px;\n",
              "  }\n",
              "\n",
              "  .colab-df-quickchart:hover {\n",
              "    background-color: var(--hover-bg-color);\n",
              "    box-shadow: 0 1px 2px rgba(60, 64, 67, 0.3), 0 1px 3px 1px rgba(60, 64, 67, 0.15);\n",
              "    fill: var(--button-hover-fill-color);\n",
              "  }\n",
              "\n",
              "  .colab-df-quickchart-complete:disabled,\n",
              "  .colab-df-quickchart-complete:disabled:hover {\n",
              "    background-color: var(--disabled-bg-color);\n",
              "    fill: var(--disabled-fill-color);\n",
              "    box-shadow: none;\n",
              "  }\n",
              "\n",
              "  .colab-df-spinner {\n",
              "    border: 2px solid var(--fill-color);\n",
              "    border-color: transparent;\n",
              "    border-bottom-color: var(--fill-color);\n",
              "    animation:\n",
              "      spin 1s steps(1) infinite;\n",
              "  }\n",
              "\n",
              "  @keyframes spin {\n",
              "    0% {\n",
              "      border-color: transparent;\n",
              "      border-bottom-color: var(--fill-color);\n",
              "      border-left-color: var(--fill-color);\n",
              "    }\n",
              "    20% {\n",
              "      border-color: transparent;\n",
              "      border-left-color: var(--fill-color);\n",
              "      border-top-color: var(--fill-color);\n",
              "    }\n",
              "    30% {\n",
              "      border-color: transparent;\n",
              "      border-left-color: var(--fill-color);\n",
              "      border-top-color: var(--fill-color);\n",
              "      border-right-color: var(--fill-color);\n",
              "    }\n",
              "    40% {\n",
              "      border-color: transparent;\n",
              "      border-right-color: var(--fill-color);\n",
              "      border-top-color: var(--fill-color);\n",
              "    }\n",
              "    60% {\n",
              "      border-color: transparent;\n",
              "      border-right-color: var(--fill-color);\n",
              "    }\n",
              "    80% {\n",
              "      border-color: transparent;\n",
              "      border-right-color: var(--fill-color);\n",
              "      border-bottom-color: var(--fill-color);\n",
              "    }\n",
              "    90% {\n",
              "      border-color: transparent;\n",
              "      border-bottom-color: var(--fill-color);\n",
              "    }\n",
              "  }\n",
              "</style>\n",
              "\n",
              "  <script>\n",
              "    async function quickchart(key) {\n",
              "      const quickchartButtonEl =\n",
              "        document.querySelector('#' + key + ' button');\n",
              "      quickchartButtonEl.disabled = true;  // To prevent multiple clicks.\n",
              "      quickchartButtonEl.classList.add('colab-df-spinner');\n",
              "      try {\n",
              "        const charts = await google.colab.kernel.invokeFunction(\n",
              "            'suggestCharts', [key], {});\n",
              "      } catch (error) {\n",
              "        console.error('Error during call to suggestCharts:', error);\n",
              "      }\n",
              "      quickchartButtonEl.classList.remove('colab-df-spinner');\n",
              "      quickchartButtonEl.classList.add('colab-df-quickchart-complete');\n",
              "    }\n",
              "    (() => {\n",
              "      let quickchartButtonEl =\n",
              "        document.querySelector('#df-0386e65f-b9d8-4185-8f9c-7fc4413dfa2c button');\n",
              "      quickchartButtonEl.style.display =\n",
              "        google.colab.kernel.accessAllowed ? 'block' : 'none';\n",
              "    })();\n",
              "  </script>\n",
              "</div>\n",
              "\n",
              "    </div>\n",
              "  </div>\n"
            ],
            "application/vnd.google.colaboratory.intrinsic+json": {
              "type": "dataframe",
              "variable_name": "aspects"
            }
          },
          "metadata": {},
          "execution_count": 21
        }
      ],
      "source": [
        "aspects.head()"
      ]
    },
    {
      "cell_type": "markdown",
      "metadata": {
        "id": "xiVnAspVcS3D"
      },
      "source": [
        "### CNN Model"
      ]
    },
    {
      "cell_type": "code",
      "execution_count": 26,
      "metadata": {
        "id": "hd8_JCYyhX_v"
      },
      "outputs": [],
      "source": [
        "from wandb.keras import WandbMetricsLogger, WandbModelCheckpoint"
      ]
    },
    {
      "cell_type": "markdown",
      "metadata": {
        "id": "AjBU_QMztF3B"
      },
      "source": [
        "Denoise & Standardize"
      ]
    },
    {
      "cell_type": "code",
      "execution_count": 28,
      "metadata": {
        "id": "HU9Hg6r9tF3I"
      },
      "outputs": [],
      "source": [
        "# Remove whitespace\n",
        "def remove_whitespace(text):\n",
        "    return re.sub(r'\\s+', ' ', text).strip()\n",
        "\n",
        "# Remove the html strips\n",
        "def remove_html(text):\n",
        "    soup = BeautifulSoup(text, \"html.parser\")\n",
        "    return soup.get_text()\n",
        "\n",
        "# Remove the square brackets\n",
        "def remove_between_square_brackets(text):\n",
        "    return re.sub('\\[[^]]*\\]', '', text)\n",
        "\n",
        "# Remove url data\n",
        "def remove_url(text):\n",
        "    text=re.sub(r\"https?://\\S+|www\\.\\S+\",'',text)\n",
        "    return text\n",
        "\n",
        "# Remove special characters\n",
        "def remove_special_characters(text, remove_digits=True):\n",
        "    pattern=r'[^a-zA-z0-9\\s]'\n",
        "    text=re.sub(pattern,'',text)\n",
        "    return text\n",
        "\n",
        "# Remove Punctuation\n",
        "def remove_punctuation(text):\n",
        "    for i in string.punctuation:\n",
        "        if i in text:\n",
        "            text = text.replace(i,'')\n",
        "    return text"
      ]
    },
    {
      "cell_type": "code",
      "execution_count": 29,
      "metadata": {
        "id": "a6YSyzZXtF3I"
      },
      "outputs": [],
      "source": [
        "# Remove the noisy text\n",
        "def denoise_text(text):\n",
        "    text = remove_punctuation(remove_special_characters(remove_url(remove_between_square_brackets(remove_html(remove_whitespace(text))))))\n",
        "    return text"
      ]
    },
    {
      "cell_type": "code",
      "execution_count": 30,
      "metadata": {
        "id": "ufiywdkVtF3I"
      },
      "outputs": [],
      "source": [
        "# convert text to lowercase\n",
        "def convert_lowercase(text):\n",
        "    return text.lower()"
      ]
    },
    {
      "cell_type": "code",
      "execution_count": 31,
      "metadata": {
        "id": "GKdL3z2itF3J"
      },
      "outputs": [],
      "source": [
        "# standardize text\n",
        "def standardize_text(text):\n",
        "  text = convert_lowercase(text)\n",
        "  return text"
      ]
    },
    {
      "cell_type": "code",
      "execution_count": 32,
      "metadata": {
        "colab": {
          "base_uri": "https://localhost:8080/"
        },
        "id": "iRalmtIucxLY",
        "outputId": "dfdfd2e5-04a9-4765-db79-6c9d651a7270"
      },
      "outputs": [
        {
          "output_type": "stream",
          "name": "stderr",
          "text": [
            "<ipython-input-28-1c25d8df05a4>:7: MarkupResemblesLocatorWarning: The input looks more like a filename than markup. You may want to open this file and pass the filehandle into Beautiful Soup.\n",
            "  soup = BeautifulSoup(text, \"html.parser\")\n"
          ]
        }
      ],
      "source": [
        "data_clean = [standardize_text(denoise_text(review)) for review in Xy.review]"
      ]
    },
    {
      "cell_type": "code",
      "execution_count": null,
      "metadata": {
        "colab": {
          "background_save": true,
          "base_uri": "https://localhost:8080/",
          "height": 393,
          "referenced_widgets": [
            "fd1412b09b1a480096031245d3d5c9d9",
            "e00b835ff1db456ba1a4ce3c98a0e740",
            "d535c492574a4053887e9065d1e0f913",
            "e3d22532d3d242bd8288dd51a8d3c1cc",
            "143d90740b6b425a89511858d5acb9d4",
            "9e4919f152194654800cd953d3083529",
            "a088765b2eb84ffbaf11887261991260",
            "a373c8c557f94ae7b4d55637c59014f2",
            "c9afa2d3f0a4484583db975e75840d59",
            "016b65da4ac845fa9f179335e5a22c03",
            "e3b9998c7cec4f829b11885e8e2cf96d",
            "877b0155a46448ddbea7f4ac6cc05632",
            "2cbab97c0f724b8a8b9288389bba31a7",
            "eda16e9b1d68432593e0071a50e00d90",
            "943af412faca4be4932d3f68d04e1970",
            "ae4aeb0b298d413d8954d4324b6f6994",
            "7b74f05c0130425caf86674c1a49594f",
            "b5b03c1566c247bcb538fe565ab5b25e",
            "9ed210f9b0f14d58ac838092fe63a998",
            "8896b676a27443539ef9bde9185514d0",
            "50c8bf76ce434da79bc40504b139623e",
            "87c6f5e22fc84923a056685cc06e52c0",
            "fd8f8938dd4e4dcea7602b1e1c172021",
            "5ec49b50a06c465a9acdb912daaf4525",
            "4c623b6fe7a94b40b91a2773b6c44e75",
            "9d2951aad5804259803802a0c996676e",
            "358de70a1ed04e2e989fc6e125a0bdd6",
            "0d75ad9a16434a259a734dfac4d5a38b",
            "c60d5aa125994afcbefe33823b672110",
            "efcd3d8396bb42e1bf79846f73ccb009",
            "03cec661408747b38d3361c7ddde6b86",
            "2efbc68bbac64a8295610d2fd91e299f",
            "bdbc07c0942448858d72d730a86ab6a4",
            "dcfd87d8ad024875ac8a999e1c3cb49e",
            "12b7036bec254a678e66d5998a786420",
            "01b5f88f05504ee2b4289093b3e8917f",
            "8e4380687d8d4e5ebda745237ebb60a2",
            "e0495aa7ce6d454492974705b534de93",
            "700f0b35b0594202955f494e50732060",
            "a74a44b5aec948079ad649d60d7fe298",
            "64ee931713e34c8f9b667121a03817c9",
            "b541668a7fc94df1afd3fa99352e9ab9",
            "5b4b89635fc94bc6848ba727ad4dc635",
            "d47396a5d7e74b7bbe5ba6e410f7c43d",
            "7d76bc530ad34730ae56d5929805505f",
            "ddbfecf9aaf644758efc15b307d961c2",
            "b98efb5cb1c34c5eb6c2b5df72076486",
            "37167a2de7554956be67692b9ce4badd",
            "7c60f2b28731482c964c2694d0580caf",
            "a7a291f793d2454e8e4f3f29ff254608",
            "960f67b886a345e28be8455eb8052d15",
            "6d2e731ecf094295b9481525f3140948",
            "1b30ed6c9af74b8c9a758ea4cfffa2cc",
            "7dc78be4c05e49309ab9a9415a5cc019",
            "f39cb04d7e104a4d91f0edcde69a6d7a"
          ]
        },
        "id": "XkpgjtMN_xeq",
        "outputId": "7ca9191a-f628-40ad-846b-a9b361f5cfbd"
      },
      "outputs": [
        {
          "output_type": "stream",
          "name": "stderr",
          "text": [
            "/usr/local/lib/python3.10/dist-packages/huggingface_hub/utils/_token.py:89: UserWarning: \n",
            "The secret `HF_TOKEN` does not exist in your Colab secrets.\n",
            "To authenticate with the Hugging Face Hub, create a token in your settings tab (https://huggingface.co/settings/tokens), set it as secret in your Google Colab and restart your session.\n",
            "You will be able to reuse this secret in all of your notebooks.\n",
            "Please note that authentication is recommended but still optional to access public models or datasets.\n",
            "  warnings.warn(\n"
          ]
        },
        {
          "output_type": "display_data",
          "data": {
            "text/plain": [
              "config.json:   0%|          | 0.00/483 [00:00<?, ?B/s]"
            ],
            "application/vnd.jupyter.widget-view+json": {
              "version_major": 2,
              "version_minor": 0,
              "model_id": "fd1412b09b1a480096031245d3d5c9d9"
            }
          },
          "metadata": {}
        },
        {
          "output_type": "display_data",
          "data": {
            "text/plain": [
              "model.safetensors:   0%|          | 0.00/268M [00:00<?, ?B/s]"
            ],
            "application/vnd.jupyter.widget-view+json": {
              "version_major": 2,
              "version_minor": 0,
              "model_id": "877b0155a46448ddbea7f4ac6cc05632"
            }
          },
          "metadata": {}
        },
        {
          "output_type": "stream",
          "name": "stderr",
          "text": [
            "Some weights of the PyTorch model were not used when initializing the TF 2.0 model TFDistilBertModel: ['vocab_projector.bias', 'vocab_transform.bias', 'vocab_layer_norm.weight', 'vocab_layer_norm.bias', 'vocab_transform.weight']\n",
            "- This IS expected if you are initializing TFDistilBertModel from a PyTorch model trained on another task or with another architecture (e.g. initializing a TFBertForSequenceClassification model from a BertForPreTraining model).\n",
            "- This IS NOT expected if you are initializing TFDistilBertModel from a PyTorch model that you expect to be exactly identical (e.g. initializing a TFBertForSequenceClassification model from a BertForSequenceClassification model).\n",
            "All the weights of TFDistilBertModel were initialized from the PyTorch model.\n",
            "If your task is similar to the task the model of the checkpoint was trained on, you can already use TFDistilBertModel for predictions without further training.\n"
          ]
        },
        {
          "output_type": "display_data",
          "data": {
            "text/plain": [
              "tokenizer_config.json:   0%|          | 0.00/48.0 [00:00<?, ?B/s]"
            ],
            "application/vnd.jupyter.widget-view+json": {
              "version_major": 2,
              "version_minor": 0,
              "model_id": "fd8f8938dd4e4dcea7602b1e1c172021"
            }
          },
          "metadata": {}
        },
        {
          "output_type": "display_data",
          "data": {
            "text/plain": [
              "vocab.txt:   0%|          | 0.00/232k [00:00<?, ?B/s]"
            ],
            "application/vnd.jupyter.widget-view+json": {
              "version_major": 2,
              "version_minor": 0,
              "model_id": "dcfd87d8ad024875ac8a999e1c3cb49e"
            }
          },
          "metadata": {}
        },
        {
          "output_type": "display_data",
          "data": {
            "text/plain": [
              "tokenizer.json:   0%|          | 0.00/466k [00:00<?, ?B/s]"
            ],
            "application/vnd.jupyter.widget-view+json": {
              "version_major": 2,
              "version_minor": 0,
              "model_id": "7d76bc530ad34730ae56d5929805505f"
            }
          },
          "metadata": {}
        }
      ],
      "source": [
        "import tensorflow as tf\n",
        "from transformers import TFDistilBertModel, AutoTokenizer\n",
        "\n",
        "# Load pre-trained BERT model and tokenizer\n",
        "model_name = 'distilbert-base-uncased'\n",
        "model = TFDistilBertModel.from_pretrained(model_name)\n",
        "tokenizer = AutoTokenizer.from_pretrained(model_name)\n",
        "\n",
        "# Set maximum sequence length\n",
        "max_seq_length = 512\n",
        "\n",
        "# Example sentences\n",
        "sentences = Xy[['review']].to_numpy().ravel()\n",
        "\n",
        "# Tokenize sentences and get BERT embeddings\n",
        "embeddings = []\n",
        "for sentence in sentences:\n",
        "    # Tokenize sentence and ensure maximum length is 512\n",
        "    tokenized_text = tokenizer.encode(sentence, add_special_tokens=True, max_length=max_seq_length, truncation=True)\n",
        "    tokens_tensor = tf.constant([tokenized_text])\n",
        "    outputs = model(tokens_tensor)\n",
        "    pooled_output = outputs[0][:, 0, :]  # Extract pooled output (sentence-level embedding)\n",
        "    embeddings.append(pooled_output)\n",
        "\n",
        "# Combine embeddings into a single tensor\n",
        "combined_tensor = tf.concat(embeddings, axis=0)\n",
        "\n",
        "# Now 'combined_tensor' contains BERT embeddings for all sentences with a maximum length of 512 tokens\n",
        "print(combined_tensor.shape)  # Shape: (num_sentences, embedding_size)"
      ]
    },
    {
      "cell_type": "code",
      "execution_count": null,
      "metadata": {
        "colab": {
          "base_uri": "https://localhost:8080/"
        },
        "id": "d0DvkXxrAJCQ",
        "outputId": "1ea99113-1058-4212-bab2-cb3d834c8be1"
      },
      "outputs": [
        {
          "data": {
            "text/plain": [
              "<tf.Tensor: shape=(9, 768), dtype=float32, numpy=\n",
              "array([[ 0.09454463, -0.14739595, -0.07183232, ..., -0.07970361,\n",
              "         0.64515215,  0.34577224],\n",
              "       [-0.3766079 , -0.35007092,  0.20923607, ..., -0.0397191 ,\n",
              "         0.35626948,  0.5268057 ],\n",
              "       [ 0.11598985, -0.17935288,  0.13017417, ..., -0.10069375,\n",
              "         0.47312477,  0.10054556],\n",
              "       ...,\n",
              "       [-0.09608705, -0.28159314,  0.04645567, ...,  0.10272673,\n",
              "         0.6389869 ,  0.33317283],\n",
              "       [-0.1143447 , -0.30620527,  0.12555203, ...,  0.05899057,\n",
              "         0.5490793 ,  0.33636343],\n",
              "       [ 0.09144378, -0.10897975,  0.03200766, ...,  0.02127891,\n",
              "         0.7528258 ,  0.46138272]], dtype=float32)>"
            ]
          },
          "execution_count": 129,
          "metadata": {},
          "output_type": "execute_result"
        }
      ],
      "source": [
        "combined_tensor"
      ]
    },
    {
      "cell_type": "code",
      "execution_count": null,
      "metadata": {
        "id": "OGf133pwc4j0"
      },
      "outputs": [],
      "source": [
        "from keras import layers\n",
        "import tensorflow_datasets as tfds\n",
        "\n",
        "tokenizer = tfds.deprecated.text.SubwordTextEncoder.build_from_corpus(\n",
        "    data_clean, target_vocab_size=2**16\n",
        ")\n",
        "\n",
        "data_inputs = [tokenizer.encode(sentence) for sentence in data_clean]"
      ]
    },
    {
      "cell_type": "code",
      "execution_count": null,
      "metadata": {
        "id": "m390-uGKdIRT"
      },
      "outputs": [],
      "source": [
        "MAX_LEN = max([len(sentence) for sentence in data_inputs])\n",
        "data_inputs = tf.keras.preprocessing.sequence.pad_sequences(data_inputs,\n",
        "                                                            value=0,\n",
        "                                                            padding=\"post\",\n",
        "                                                            maxlen=MAX_LEN)"
      ]
    },
    {
      "cell_type": "code",
      "execution_count": null,
      "metadata": {
        "id": "TXDM6EghdRzI"
      },
      "outputs": [],
      "source": [
        "from sklearn.model_selection import train_test_split\n",
        "train_inputs, test_inputs, train_labels, test_labels = train_test_split(data_inputs, Xy.sentiment_encoded, test_size = 0.2, random_state = random_state)"
      ]
    },
    {
      "cell_type": "code",
      "execution_count": null,
      "metadata": {
        "id": "hICGcuPDfEAe"
      },
      "outputs": [],
      "source": [
        "class DCNN(tf.keras.Model):\n",
        "\n",
        "    def __init__(self,\n",
        "                 vocab_size,\n",
        "                 emb_dim=128,\n",
        "                 nb_filters=50,\n",
        "                 FFN_units=512,\n",
        "                 nb_classes=2,\n",
        "                 dropout_rate=0.1,\n",
        "                 training=False,\n",
        "                 name=\"dcnn\"):\n",
        "        super(DCNN, self).__init__(name=name)\n",
        "\n",
        "        self.embedding = layers.Embedding(vocab_size,\n",
        "                                          emb_dim)\n",
        "        self.bigram = layers.Conv1D(filters=nb_filters,\n",
        "                                    kernel_size=2,\n",
        "                                    padding=\"valid\",\n",
        "                                    activation=\"relu\")\n",
        "        self.pool_1 = layers.GlobalMaxPool1D()\n",
        "        self.trigram = layers.Conv1D(filters=nb_filters,\n",
        "                                     kernel_size=3,\n",
        "                                     padding=\"valid\",\n",
        "                                     activation=\"relu\")\n",
        "        self.pool_2 = layers.GlobalMaxPool1D()\n",
        "        self.fourgram = layers.Conv1D(filters=nb_filters,\n",
        "                                      kernel_size=4,\n",
        "                                      padding=\"valid\",\n",
        "                                      activation=\"relu\")\n",
        "        self.pool_3 = layers.GlobalMaxPool1D()\n",
        "        self.dense_1 = layers.Dense(units=FFN_units, activation=\"relu\")\n",
        "        self.dropout = layers.Dropout(rate=dropout_rate)\n",
        "        if nb_classes == 2:\n",
        "            self.last_dense = layers.Dense(units=1,\n",
        "                                           activation=\"sigmoid\")\n",
        "        else:\n",
        "            self.last_dense = layers.Dense(units=nb_classes,\n",
        "                                           activation=\"softmax\")\n",
        "\n",
        "    def call(self, inputs, training):\n",
        "        x = self.embedding(inputs)\n",
        "        x_1 = self.bigram(x)\n",
        "        x_1 = self.pool_1(x_1)\n",
        "        x_2 = self.trigram(x)\n",
        "        x_2 = self.pool_2(x_2)\n",
        "        x_3 = self.fourgram(x)\n",
        "        x_3 = self.pool_3(x_3)\n",
        "\n",
        "        merged = tf.concat([x_1, x_2, x_3], axis=-1) # (batch_size, 3 * nb_filters)\n",
        "        merged = self.dense_1(merged)\n",
        "        merged = self.dropout(merged, training)\n",
        "        output = self.last_dense(merged)\n",
        "\n",
        "        return output"
      ]
    },
    {
      "cell_type": "code",
      "execution_count": null,
      "metadata": {
        "id": "QiGpsV-HfKkZ"
      },
      "outputs": [],
      "source": [
        "VOCAB_SIZE = tokenizer.vocab_size\n",
        "\n",
        "EMB_DIM = 200\n",
        "NB_FILTERS = 100\n",
        "FFN_UNITS = 256\n",
        "NB_CLASSES = len(set(train_labels))\n",
        "\n",
        "DROPOUT_RATE = 0.2"
      ]
    },
    {
      "cell_type": "code",
      "execution_count": null,
      "metadata": {
        "id": "8TXARo0kfZ_3"
      },
      "outputs": [],
      "source": [
        "Dcnn = DCNN(vocab_size=VOCAB_SIZE,\n",
        "            emb_dim=EMB_DIM,\n",
        "            nb_filters=NB_FILTERS,\n",
        "            FFN_units=FFN_UNITS,\n",
        "            nb_classes=NB_CLASSES,\n",
        "            dropout_rate=DROPOUT_RATE)"
      ]
    },
    {
      "cell_type": "code",
      "execution_count": null,
      "metadata": {
        "id": "yxgFxv31fiDi"
      },
      "outputs": [],
      "source": [
        "Dcnn.compile(loss=\"binary_crossentropy\",\n",
        "                 optimizer=\"adam\",\n",
        "                 metrics=[\"accuracy\"])"
      ]
    },
    {
      "cell_type": "code",
      "execution_count": null,
      "metadata": {
        "colab": {
          "base_uri": "https://localhost:8080/",
          "height": 209,
          "referenced_widgets": [
            "6311425c3d6f48f0b94b85d949f8bb20",
            "43d5df0777514b23b95f0384de3f1ff2",
            "7a2904ff2cfb4198b1f827d5d5aae1aa",
            "e81c0bfd65fb40cbb67f256d6d6d7949",
            "4829b4983e074d5086f794223c8c889c",
            "4bab63d163104766a4780f8645f15233",
            "b690ff186fe74c57bdd266a1cf334136",
            "a5632eeda24f4781aceb01fb2d98004c"
          ]
        },
        "id": "ynXJvwupiHGk",
        "outputId": "86e891c8-0db6-4e92-a029-ba2153546c99"
      },
      "outputs": [
        {
          "data": {
            "text/html": [
              "Finishing last run (ID:8vwp1iww) before initializing another..."
            ],
            "text/plain": [
              "<IPython.core.display.HTML object>"
            ]
          },
          "metadata": {},
          "output_type": "display_data"
        },
        {
          "data": {
            "application/vnd.jupyter.widget-view+json": {
              "model_id": "6311425c3d6f48f0b94b85d949f8bb20",
              "version_major": 2,
              "version_minor": 0
            },
            "text/plain": [
              "VBox(children=(Label(value='0.001 MB of 0.001 MB uploaded\\r'), FloatProgress(value=1.0, max=1.0)))"
            ]
          },
          "metadata": {},
          "output_type": "display_data"
        },
        {
          "data": {
            "text/html": [
              " View run <strong style=\"color:#cdcd00\">hearty-aardvark-2</strong> at: <a href='https://wandb.ai/karangoel59/uncategorized/runs/8vwp1iww' target=\"_blank\">https://wandb.ai/karangoel59/uncategorized/runs/8vwp1iww</a><br/> View project at: <a href='https://wandb.ai/karangoel59/uncategorized' target=\"_blank\">https://wandb.ai/karangoel59/uncategorized</a><br/>Synced 5 W&B file(s), 0 media file(s), 0 artifact file(s) and 0 other file(s)"
            ],
            "text/plain": [
              "<IPython.core.display.HTML object>"
            ]
          },
          "metadata": {},
          "output_type": "display_data"
        },
        {
          "data": {
            "text/html": [
              "Find logs at: <code>./wandb/run-20240528_150416-8vwp1iww/logs</code>"
            ],
            "text/plain": [
              "<IPython.core.display.HTML object>"
            ]
          },
          "metadata": {},
          "output_type": "display_data"
        },
        {
          "data": {
            "text/html": [
              "Successfully finished last run (ID:8vwp1iww). Initializing new run:<br/>"
            ],
            "text/plain": [
              "<IPython.core.display.HTML object>"
            ]
          },
          "metadata": {},
          "output_type": "display_data"
        },
        {
          "data": {
            "text/html": [
              "Tracking run with wandb version 0.17.0"
            ],
            "text/plain": [
              "<IPython.core.display.HTML object>"
            ]
          },
          "metadata": {},
          "output_type": "display_data"
        },
        {
          "data": {
            "text/html": [
              "Run data is saved locally in <code>/content/wandb/run-20240528_155423-m9nqu5yt</code>"
            ],
            "text/plain": [
              "<IPython.core.display.HTML object>"
            ]
          },
          "metadata": {},
          "output_type": "display_data"
        },
        {
          "data": {
            "text/html": [
              "Syncing run <strong><a href='https://wandb.ai/karangoel59/ABSA/runs/m9nqu5yt' target=\"_blank\">olive-yogurt-6</a></strong> to <a href='https://wandb.ai/karangoel59/ABSA' target=\"_blank\">Weights & Biases</a> (<a href='https://wandb.me/run' target=\"_blank\">docs</a>)<br/>"
            ],
            "text/plain": [
              "<IPython.core.display.HTML object>"
            ]
          },
          "metadata": {},
          "output_type": "display_data"
        },
        {
          "data": {
            "text/html": [
              " View project at <a href='https://wandb.ai/karangoel59/ABSA' target=\"_blank\">https://wandb.ai/karangoel59/ABSA</a>"
            ],
            "text/plain": [
              "<IPython.core.display.HTML object>"
            ]
          },
          "metadata": {},
          "output_type": "display_data"
        },
        {
          "data": {
            "text/html": [
              " View run at <a href='https://wandb.ai/karangoel59/ABSA/runs/m9nqu5yt' target=\"_blank\">https://wandb.ai/karangoel59/ABSA/runs/m9nqu5yt</a>"
            ],
            "text/plain": [
              "<IPython.core.display.HTML object>"
            ]
          },
          "metadata": {},
          "output_type": "display_data"
        }
      ],
      "source": [
        "wandb.init(\n",
        "    # set the wandb project where this run will be logged\n",
        "    project=\"ABSA\",\n",
        "\n",
        "    # track hyperparameters and run metadata with wandb.config\n",
        "    config={\n",
        "        \"type\": \"CNN\",\n",
        "        \"optimizer\": \"adam\",\n",
        "        \"loss\": \"binary_crossentropy\",\n",
        "        \"metric\": \"accuracy\",\n",
        "        \"epoch\": 5,\n",
        "        \"batch_size\": batch_size\n",
        "    }\n",
        ")\n",
        "\n",
        "# [optional] use wandb.config as your config\n",
        "config = wandb.config"
      ]
    },
    {
      "cell_type": "code",
      "execution_count": null,
      "metadata": {
        "colab": {
          "base_uri": "https://localhost:8080/"
        },
        "id": "e1-h8na-inLy",
        "outputId": "86fe8ebd-092f-4795-92ec-6ed7db0c0234"
      },
      "outputs": [
        {
          "name": "stdout",
          "output_type": "stream",
          "text": [
            "Epoch 1/5\n",
            "1240/1240 [==============================] - ETA: 0s - loss: 0.3116 - accuracy: 0.8584"
          ]
        },
        {
          "name": "stderr",
          "output_type": "stream",
          "text": [
            "\u001b[34m\u001b[1mwandb\u001b[0m: Adding directory to artifact (./models)... Done. 0.8s\n"
          ]
        },
        {
          "name": "stdout",
          "output_type": "stream",
          "text": [
            "\b\b\b\b\b\b\b\b\b\b\b\b\b\b\b\b\b\b\b\b\b\b\b\b\b\b\b\b\b\b\b\b\b\b\b\b\b\b\b\b\b\b\b\b\b\b\b\b\b\b\b\b\b\b\b\b\b\b\b\b\b\b\b\b\b\b\b\b\b\b\b\b\b\b\b\b\b\b\b\b\b\b\b\b\b\b\r1240/1240 [==============================] - 182s 142ms/step - loss: 0.3116 - accuracy: 0.8584 - val_loss: 0.2339 - val_accuracy: 0.9050\n",
            "Epoch 2/5\n",
            "1240/1240 [==============================] - ETA: 0s - loss: 0.0984 - accuracy: 0.9653"
          ]
        },
        {
          "name": "stderr",
          "output_type": "stream",
          "text": [
            "\u001b[34m\u001b[1mwandb\u001b[0m: Adding directory to artifact (./models)... Done. 1.9s\n"
          ]
        },
        {
          "name": "stdout",
          "output_type": "stream",
          "text": [
            "\b\b\b\b\b\b\b\b\b\b\b\b\b\b\b\b\b\b\b\b\b\b\b\b\b\b\b\b\b\b\b\b\b\b\b\b\b\b\b\b\b\b\b\b\b\b\b\b\b\b\b\b\b\b\b\b\b\b\b\b\b\b\b\b\b\b\b\b\b\b\b\b\b\b\b\b\b\b\b\b\b\b\b\b\b\b\r1240/1240 [==============================] - 104s 84ms/step - loss: 0.0984 - accuracy: 0.9653 - val_loss: 0.2547 - val_accuracy: 0.9064\n",
            "Epoch 3/5\n",
            "1240/1240 [==============================] - ETA: 0s - loss: 0.0164 - accuracy: 0.9949"
          ]
        },
        {
          "name": "stderr",
          "output_type": "stream",
          "text": [
            "\u001b[34m\u001b[1mwandb\u001b[0m: Adding directory to artifact (./models)... Done. 0.7s\n"
          ]
        },
        {
          "name": "stdout",
          "output_type": "stream",
          "text": [
            "\b\b\b\b\b\b\b\b\b\b\b\b\b\b\b\b\b\b\b\b\b\b\b\b\b\b\b\b\b\b\b\b\b\b\b\b\b\b\b\b\b\b\b\b\b\b\b\b\b\b\b\b\b\b\b\b\b\b\b\b\b\b\b\b\b\b\b\b\b\b\b\b\b\b\b\b\b\b\b\b\b\b\b\b\b\b\r1240/1240 [==============================] - 87s 71ms/step - loss: 0.0164 - accuracy: 0.9949 - val_loss: 0.3877 - val_accuracy: 0.8986\n",
            "Epoch 4/5\n",
            "1240/1240 [==============================] - ETA: 0s - loss: 0.0120 - accuracy: 0.9957"
          ]
        },
        {
          "name": "stderr",
          "output_type": "stream",
          "text": [
            "\u001b[34m\u001b[1mwandb\u001b[0m: Adding directory to artifact (./models)... Done. 0.6s\n"
          ]
        },
        {
          "name": "stdout",
          "output_type": "stream",
          "text": [
            "\b\b\b\b\b\b\b\b\b\b\b\b\b\b\b\b\b\b\b\b\b\b\b\b\b\b\b\b\b\b\b\b\b\b\b\b\b\b\b\b\b\b\b\b\b\b\b\b\b\b\b\b\b\b\b\b\b\b\b\b\b\b\b\b\b\b\b\b\b\b\b\b\b\b\b\b\b\b\b\b\b\b\b\b\b\b\r1240/1240 [==============================] - 80s 65ms/step - loss: 0.0120 - accuracy: 0.9957 - val_loss: 0.4658 - val_accuracy: 0.8977\n",
            "Epoch 5/5\n",
            "1240/1240 [==============================] - ETA: 0s - loss: 0.0133 - accuracy: 0.9954"
          ]
        },
        {
          "name": "stderr",
          "output_type": "stream",
          "text": [
            "\u001b[34m\u001b[1mwandb\u001b[0m: Adding directory to artifact (./models)... Done. 0.7s\n"
          ]
        },
        {
          "name": "stdout",
          "output_type": "stream",
          "text": [
            "\b\b\b\b\b\b\b\b\b\b\b\b\b\b\b\b\b\b\b\b\b\b\b\b\b\b\b\b\b\b\b\b\b\b\b\b\b\b\b\b\b\b\b\b\b\b\b\b\b\b\b\b\b\b\b\b\b\b\b\b\b\b\b\b\b\b\b\b\b\b\b\b\b\b\b\b\b\b\b\b\b\b\b\b\b\b\r1240/1240 [==============================] - 79s 64ms/step - loss: 0.0133 - accuracy: 0.9954 - val_loss: 0.4841 - val_accuracy: 0.8988\n"
          ]
        }
      ],
      "source": [
        "history = Dcnn.fit(\n",
        "    train_inputs,\n",
        "    train_labels,\n",
        "    batch_size=batch_size,\n",
        "    epochs=wandb.config.epoch,\n",
        "    validation_data=(test_inputs, test_labels),\n",
        "    callbacks=[\n",
        "        WandbMetricsLogger(log_freq=5),\n",
        "        WandbModelCheckpoint(\"models\")\n",
        "    ]\n",
        ")"
      ]
    },
    {
      "cell_type": "code",
      "execution_count": null,
      "metadata": {
        "colab": {
          "base_uri": "https://localhost:8080/"
        },
        "id": "kmdf2PqYkyYT",
        "outputId": "c3cb3da0-f296-4707-8866-3a80e2dc9c66"
      },
      "outputs": [
        {
          "name": "stdout",
          "output_type": "stream",
          "text": [
            "310/310 [==============================] - 5s 14ms/step - loss: 0.4841 - accuracy: 0.8988\n",
            "[0.48411843180656433, 0.8987597227096558]\n"
          ]
        }
      ],
      "source": [
        "results = Dcnn.evaluate(test_inputs, test_labels, batch_size=batch_size)\n",
        "print(results)"
      ]
    },
    {
      "cell_type": "code",
      "execution_count": null,
      "metadata": {
        "colab": {
          "base_uri": "https://localhost:8080/",
          "height": 729,
          "referenced_widgets": [
            "d3e89698debf4f449fcc815e64c19931",
            "2169a0a3c0fa401695db172943d819b2",
            "dc9a07e351bc4f34a72a740552ddb874",
            "0edb85c0405742878d369a4f4ca3432b",
            "8d51c27ceb0244238939cd8de5b4c48d",
            "3603a6857d7a47d0b5964c5c7f163870",
            "1b5fcacb69ba4d7d92547f28e1b434a1",
            "e92921d0faa34bf5919036167c6fbae9"
          ]
        },
        "id": "zd5_tMkoi-ja",
        "outputId": "e5ece5f9-3893-4d8e-dbb6-ec2fd30a99ef"
      },
      "outputs": [
        {
          "data": {
            "application/vnd.jupyter.widget-view+json": {
              "model_id": "d3e89698debf4f449fcc815e64c19931",
              "version_major": 2,
              "version_minor": 0
            },
            "text/plain": [
              "VBox(children=(Label(value='743.466 MB of 743.466 MB uploaded (0.045 MB deduped)\\r'), FloatProgress(value=1.0,…"
            ]
          },
          "metadata": {},
          "output_type": "display_data"
        },
        {
          "data": {
            "text/html": [
              "<style>\n",
              "    table.wandb td:nth-child(1) { padding: 0 10px; text-align: left ; width: auto;} td:nth-child(2) {text-align: left ; width: 100%}\n",
              "    .wandb-row { display: flex; flex-direction: row; flex-wrap: wrap; justify-content: flex-start; width: 100% }\n",
              "    .wandb-col { display: flex; flex-direction: column; flex-basis: 100%; flex: 1; padding: 10px; }\n",
              "    </style>\n",
              "<div class=\"wandb-row\"><div class=\"wandb-col\"><h3>Run history:</h3><br/><table class=\"wandb\"><tr><td>batch/accuracy</td><td>▁▃▄▅▅▅▅▆▇███▇▇▇▇████████████████████████</td></tr><tr><td>batch/batch_step</td><td>▁▁▁▁▂▂▂▂▂▃▃▃▃▃▃▄▄▄▄▄▄▅▅▅▅▅▆▆▆▆▆▇▇▇▇▇▇███</td></tr><tr><td>batch/learning_rate</td><td>▁▁▁▁▁▁▁▁▁▁▁▁▁▁▁▁▁▁▁▁▁▁▁▁▁▁▁▁▁▁▁▁▁▁▁▁▁▁▁▁</td></tr><tr><td>batch/loss</td><td>█▇▆▅▅▅▄▄▂▂▂▂▂▂▂▂▁▁▁▁▁▁▁▁▁▁▁▁▁▁▁▁▁▁▁▁▁▁▁▁</td></tr><tr><td>epoch/accuracy</td><td>▁▆███</td></tr><tr><td>epoch/epoch</td><td>▁▃▅▆█</td></tr><tr><td>epoch/learning_rate</td><td>▁▁▁▁▁</td></tr><tr><td>epoch/loss</td><td>█▃▁▁▁</td></tr><tr><td>epoch/val_accuracy</td><td>▇█▂▁▂</td></tr><tr><td>epoch/val_loss</td><td>▁▂▅▇█</td></tr></table><br/></div><div class=\"wandb-col\"><h3>Run summary:</h3><br/><table class=\"wandb\"><tr><td>batch/accuracy</td><td>0.99547</td></tr><tr><td>batch/batch_step</td><td>6195</td></tr><tr><td>batch/learning_rate</td><td>0.001</td></tr><tr><td>batch/loss</td><td>0.01322</td></tr><tr><td>epoch/accuracy</td><td>0.99544</td></tr><tr><td>epoch/epoch</td><td>4</td></tr><tr><td>epoch/learning_rate</td><td>0.001</td></tr><tr><td>epoch/loss</td><td>0.01328</td></tr><tr><td>epoch/val_accuracy</td><td>0.89876</td></tr><tr><td>epoch/val_loss</td><td>0.48412</td></tr></table><br/></div></div>"
            ],
            "text/plain": [
              "<IPython.core.display.HTML object>"
            ]
          },
          "metadata": {},
          "output_type": "display_data"
        },
        {
          "data": {
            "text/html": [
              " View run <strong style=\"color:#cdcd00\">olive-yogurt-6</strong> at: <a href='https://wandb.ai/karangoel59/ABSA/runs/m9nqu5yt' target=\"_blank\">https://wandb.ai/karangoel59/ABSA/runs/m9nqu5yt</a><br/> View project at: <a href='https://wandb.ai/karangoel59/ABSA' target=\"_blank\">https://wandb.ai/karangoel59/ABSA</a><br/>Synced 5 W&B file(s), 0 media file(s), 25 artifact file(s) and 0 other file(s)"
            ],
            "text/plain": [
              "<IPython.core.display.HTML object>"
            ]
          },
          "metadata": {},
          "output_type": "display_data"
        },
        {
          "data": {
            "text/html": [
              "Find logs at: <code>./wandb/run-20240528_155423-m9nqu5yt/logs</code>"
            ],
            "text/plain": [
              "<IPython.core.display.HTML object>"
            ]
          },
          "metadata": {},
          "output_type": "display_data"
        }
      ],
      "source": [
        "wandb.finish()"
      ]
    },
    {
      "cell_type": "markdown",
      "metadata": {
        "id": "u8sHIZiM1sAA"
      },
      "source": [
        "### Save"
      ]
    },
    {
      "cell_type": "code",
      "execution_count": null,
      "metadata": {
        "id": "A3z__WGlo7Op"
      },
      "outputs": [],
      "source": [
        "Dcnn.save('cnn_model.tf',save_format='tf')"
      ]
    },
    {
      "cell_type": "code",
      "execution_count": null,
      "metadata": {
        "id": "ci1IriOsrNAY"
      },
      "outputs": [],
      "source": [
        "Dcnn.save_weights('cnn_model.h5')"
      ]
    },
    {
      "cell_type": "code",
      "execution_count": null,
      "metadata": {
        "colab": {
          "base_uri": "https://localhost:8080/"
        },
        "id": "peSbCPw4puAH",
        "outputId": "c308d5a4-8ea0-465c-c90d-e99ea3066f4e"
      },
      "outputs": [
        {
          "name": "stdout",
          "output_type": "stream",
          "text": [
            "Model: \"dcnn\"\n",
            "_________________________________________________________________\n",
            " Layer (type)                Output Shape              Param #   \n",
            "=================================================================\n",
            "=================================================================\n",
            "Total params: 13273813 (50.64 MB)\n",
            "Trainable params: 13273813 (50.64 MB)\n",
            "Non-trainable params: 0 (0.00 Byte)\n",
            "_________________________________________________________________\n"
          ]
        }
      ],
      "source": [
        "Dcnn.summary()"
      ]
    },
    {
      "cell_type": "markdown",
      "metadata": {
        "id": "C60Ao2hTnI0f"
      },
      "source": [
        "## PART4"
      ]
    },
    {
      "cell_type": "markdown",
      "metadata": {
        "id": "UVXrKi1znTd-"
      },
      "source": [
        "### Loading Text"
      ]
    },
    {
      "cell_type": "code",
      "execution_count": null,
      "metadata": {
        "id": "QepkWO3gnTeH"
      },
      "outputs": [],
      "source": [
        "Xy = pd.read_csv('/content/drive/MyDrive/data_2.csv', index_col=0)"
      ]
    },
    {
      "cell_type": "code",
      "execution_count": null,
      "metadata": {
        "id": "wV1DFY88nTeH"
      },
      "outputs": [],
      "source": [
        "import ast\n",
        "Xy['clauses'] = Xy['clauses'].apply(ast.literal_eval)"
      ]
    },
    {
      "cell_type": "code",
      "execution_count": null,
      "metadata": {
        "colab": {
          "base_uri": "https://localhost:8080/",
          "height": 206
        },
        "id": "wEfi46rdnTeH",
        "outputId": "851e66f3-4af7-4598-e0ff-34a52bc41902"
      },
      "outputs": [
        {
          "output_type": "execute_result",
          "data": {
            "text/plain": [
              "                                              review sentiment  \\\n",
              "0  \"Porgy & Bess\" was the very first movie my par...  positive   \n",
              "1  The 1960's TV series Bewitched owes it's idea ...  positive   \n",
              "2  When I first got my N64 when I was five or six...  positive   \n",
              "3  I grew up on this movie and I can remember whe...  positive   \n",
              "4  this is a dreadful adaption of Charles Kingsle...  negative   \n",
              "\n",
              "                                             clauses  sentiment_encoded  \n",
              "0  [[parent ever took see, see], [even tender age...                  1  \n",
              "1  [[bewitched owes], [jimmy stewart kim novak ma...                  1  \n",
              "2  [[first got n64 five six, first got n64 five s...                  1  \n",
              "3  [[grew remember brother used play backyard pre...                  1  \n",
              "4  [[put bluntly awful], [song epsecially high co...                  0  "
            ],
            "text/html": [
              "\n",
              "  <div id=\"df-687099ab-da93-42f0-99ea-84020ede91b4\" class=\"colab-df-container\">\n",
              "    <div>\n",
              "<style scoped>\n",
              "    .dataframe tbody tr th:only-of-type {\n",
              "        vertical-align: middle;\n",
              "    }\n",
              "\n",
              "    .dataframe tbody tr th {\n",
              "        vertical-align: top;\n",
              "    }\n",
              "\n",
              "    .dataframe thead th {\n",
              "        text-align: right;\n",
              "    }\n",
              "</style>\n",
              "<table border=\"1\" class=\"dataframe\">\n",
              "  <thead>\n",
              "    <tr style=\"text-align: right;\">\n",
              "      <th></th>\n",
              "      <th>review</th>\n",
              "      <th>sentiment</th>\n",
              "      <th>clauses</th>\n",
              "      <th>sentiment_encoded</th>\n",
              "    </tr>\n",
              "  </thead>\n",
              "  <tbody>\n",
              "    <tr>\n",
              "      <th>0</th>\n",
              "      <td>\"Porgy &amp; Bess\" was the very first movie my par...</td>\n",
              "      <td>positive</td>\n",
              "      <td>[[parent ever took see, see], [even tender age...</td>\n",
              "      <td>1</td>\n",
              "    </tr>\n",
              "    <tr>\n",
              "      <th>1</th>\n",
              "      <td>The 1960's TV series Bewitched owes it's idea ...</td>\n",
              "      <td>positive</td>\n",
              "      <td>[[bewitched owes], [jimmy stewart kim novak ma...</td>\n",
              "      <td>1</td>\n",
              "    </tr>\n",
              "    <tr>\n",
              "      <th>2</th>\n",
              "      <td>When I first got my N64 when I was five or six...</td>\n",
              "      <td>positive</td>\n",
              "      <td>[[first got n64 five six, first got n64 five s...</td>\n",
              "      <td>1</td>\n",
              "    </tr>\n",
              "    <tr>\n",
              "      <th>3</th>\n",
              "      <td>I grew up on this movie and I can remember whe...</td>\n",
              "      <td>positive</td>\n",
              "      <td>[[grew remember brother used play backyard pre...</td>\n",
              "      <td>1</td>\n",
              "    </tr>\n",
              "    <tr>\n",
              "      <th>4</th>\n",
              "      <td>this is a dreadful adaption of Charles Kingsle...</td>\n",
              "      <td>negative</td>\n",
              "      <td>[[put bluntly awful], [song epsecially high co...</td>\n",
              "      <td>0</td>\n",
              "    </tr>\n",
              "  </tbody>\n",
              "</table>\n",
              "</div>\n",
              "    <div class=\"colab-df-buttons\">\n",
              "\n",
              "  <div class=\"colab-df-container\">\n",
              "    <button class=\"colab-df-convert\" onclick=\"convertToInteractive('df-687099ab-da93-42f0-99ea-84020ede91b4')\"\n",
              "            title=\"Convert this dataframe to an interactive table.\"\n",
              "            style=\"display:none;\">\n",
              "\n",
              "  <svg xmlns=\"http://www.w3.org/2000/svg\" height=\"24px\" viewBox=\"0 -960 960 960\">\n",
              "    <path d=\"M120-120v-720h720v720H120Zm60-500h600v-160H180v160Zm220 220h160v-160H400v160Zm0 220h160v-160H400v160ZM180-400h160v-160H180v160Zm440 0h160v-160H620v160ZM180-180h160v-160H180v160Zm440 0h160v-160H620v160Z\"/>\n",
              "  </svg>\n",
              "    </button>\n",
              "\n",
              "  <style>\n",
              "    .colab-df-container {\n",
              "      display:flex;\n",
              "      gap: 12px;\n",
              "    }\n",
              "\n",
              "    .colab-df-convert {\n",
              "      background-color: #E8F0FE;\n",
              "      border: none;\n",
              "      border-radius: 50%;\n",
              "      cursor: pointer;\n",
              "      display: none;\n",
              "      fill: #1967D2;\n",
              "      height: 32px;\n",
              "      padding: 0 0 0 0;\n",
              "      width: 32px;\n",
              "    }\n",
              "\n",
              "    .colab-df-convert:hover {\n",
              "      background-color: #E2EBFA;\n",
              "      box-shadow: 0px 1px 2px rgba(60, 64, 67, 0.3), 0px 1px 3px 1px rgba(60, 64, 67, 0.15);\n",
              "      fill: #174EA6;\n",
              "    }\n",
              "\n",
              "    .colab-df-buttons div {\n",
              "      margin-bottom: 4px;\n",
              "    }\n",
              "\n",
              "    [theme=dark] .colab-df-convert {\n",
              "      background-color: #3B4455;\n",
              "      fill: #D2E3FC;\n",
              "    }\n",
              "\n",
              "    [theme=dark] .colab-df-convert:hover {\n",
              "      background-color: #434B5C;\n",
              "      box-shadow: 0px 1px 3px 1px rgba(0, 0, 0, 0.15);\n",
              "      filter: drop-shadow(0px 1px 2px rgba(0, 0, 0, 0.3));\n",
              "      fill: #FFFFFF;\n",
              "    }\n",
              "  </style>\n",
              "\n",
              "    <script>\n",
              "      const buttonEl =\n",
              "        document.querySelector('#df-687099ab-da93-42f0-99ea-84020ede91b4 button.colab-df-convert');\n",
              "      buttonEl.style.display =\n",
              "        google.colab.kernel.accessAllowed ? 'block' : 'none';\n",
              "\n",
              "      async function convertToInteractive(key) {\n",
              "        const element = document.querySelector('#df-687099ab-da93-42f0-99ea-84020ede91b4');\n",
              "        const dataTable =\n",
              "          await google.colab.kernel.invokeFunction('convertToInteractive',\n",
              "                                                    [key], {});\n",
              "        if (!dataTable) return;\n",
              "\n",
              "        const docLinkHtml = 'Like what you see? Visit the ' +\n",
              "          '<a target=\"_blank\" href=https://colab.research.google.com/notebooks/data_table.ipynb>data table notebook</a>'\n",
              "          + ' to learn more about interactive tables.';\n",
              "        element.innerHTML = '';\n",
              "        dataTable['output_type'] = 'display_data';\n",
              "        await google.colab.output.renderOutput(dataTable, element);\n",
              "        const docLink = document.createElement('div');\n",
              "        docLink.innerHTML = docLinkHtml;\n",
              "        element.appendChild(docLink);\n",
              "      }\n",
              "    </script>\n",
              "  </div>\n",
              "\n",
              "\n",
              "<div id=\"df-3bbfeb4b-8f49-40e8-8b57-1721e7a6a7d9\">\n",
              "  <button class=\"colab-df-quickchart\" onclick=\"quickchart('df-3bbfeb4b-8f49-40e8-8b57-1721e7a6a7d9')\"\n",
              "            title=\"Suggest charts\"\n",
              "            style=\"display:none;\">\n",
              "\n",
              "<svg xmlns=\"http://www.w3.org/2000/svg\" height=\"24px\"viewBox=\"0 0 24 24\"\n",
              "     width=\"24px\">\n",
              "    <g>\n",
              "        <path d=\"M19 3H5c-1.1 0-2 .9-2 2v14c0 1.1.9 2 2 2h14c1.1 0 2-.9 2-2V5c0-1.1-.9-2-2-2zM9 17H7v-7h2v7zm4 0h-2V7h2v10zm4 0h-2v-4h2v4z\"/>\n",
              "    </g>\n",
              "</svg>\n",
              "  </button>\n",
              "\n",
              "<style>\n",
              "  .colab-df-quickchart {\n",
              "      --bg-color: #E8F0FE;\n",
              "      --fill-color: #1967D2;\n",
              "      --hover-bg-color: #E2EBFA;\n",
              "      --hover-fill-color: #174EA6;\n",
              "      --disabled-fill-color: #AAA;\n",
              "      --disabled-bg-color: #DDD;\n",
              "  }\n",
              "\n",
              "  [theme=dark] .colab-df-quickchart {\n",
              "      --bg-color: #3B4455;\n",
              "      --fill-color: #D2E3FC;\n",
              "      --hover-bg-color: #434B5C;\n",
              "      --hover-fill-color: #FFFFFF;\n",
              "      --disabled-bg-color: #3B4455;\n",
              "      --disabled-fill-color: #666;\n",
              "  }\n",
              "\n",
              "  .colab-df-quickchart {\n",
              "    background-color: var(--bg-color);\n",
              "    border: none;\n",
              "    border-radius: 50%;\n",
              "    cursor: pointer;\n",
              "    display: none;\n",
              "    fill: var(--fill-color);\n",
              "    height: 32px;\n",
              "    padding: 0;\n",
              "    width: 32px;\n",
              "  }\n",
              "\n",
              "  .colab-df-quickchart:hover {\n",
              "    background-color: var(--hover-bg-color);\n",
              "    box-shadow: 0 1px 2px rgba(60, 64, 67, 0.3), 0 1px 3px 1px rgba(60, 64, 67, 0.15);\n",
              "    fill: var(--button-hover-fill-color);\n",
              "  }\n",
              "\n",
              "  .colab-df-quickchart-complete:disabled,\n",
              "  .colab-df-quickchart-complete:disabled:hover {\n",
              "    background-color: var(--disabled-bg-color);\n",
              "    fill: var(--disabled-fill-color);\n",
              "    box-shadow: none;\n",
              "  }\n",
              "\n",
              "  .colab-df-spinner {\n",
              "    border: 2px solid var(--fill-color);\n",
              "    border-color: transparent;\n",
              "    border-bottom-color: var(--fill-color);\n",
              "    animation:\n",
              "      spin 1s steps(1) infinite;\n",
              "  }\n",
              "\n",
              "  @keyframes spin {\n",
              "    0% {\n",
              "      border-color: transparent;\n",
              "      border-bottom-color: var(--fill-color);\n",
              "      border-left-color: var(--fill-color);\n",
              "    }\n",
              "    20% {\n",
              "      border-color: transparent;\n",
              "      border-left-color: var(--fill-color);\n",
              "      border-top-color: var(--fill-color);\n",
              "    }\n",
              "    30% {\n",
              "      border-color: transparent;\n",
              "      border-left-color: var(--fill-color);\n",
              "      border-top-color: var(--fill-color);\n",
              "      border-right-color: var(--fill-color);\n",
              "    }\n",
              "    40% {\n",
              "      border-color: transparent;\n",
              "      border-right-color: var(--fill-color);\n",
              "      border-top-color: var(--fill-color);\n",
              "    }\n",
              "    60% {\n",
              "      border-color: transparent;\n",
              "      border-right-color: var(--fill-color);\n",
              "    }\n",
              "    80% {\n",
              "      border-color: transparent;\n",
              "      border-right-color: var(--fill-color);\n",
              "      border-bottom-color: var(--fill-color);\n",
              "    }\n",
              "    90% {\n",
              "      border-color: transparent;\n",
              "      border-bottom-color: var(--fill-color);\n",
              "    }\n",
              "  }\n",
              "</style>\n",
              "\n",
              "  <script>\n",
              "    async function quickchart(key) {\n",
              "      const quickchartButtonEl =\n",
              "        document.querySelector('#' + key + ' button');\n",
              "      quickchartButtonEl.disabled = true;  // To prevent multiple clicks.\n",
              "      quickchartButtonEl.classList.add('colab-df-spinner');\n",
              "      try {\n",
              "        const charts = await google.colab.kernel.invokeFunction(\n",
              "            'suggestCharts', [key], {});\n",
              "      } catch (error) {\n",
              "        console.error('Error during call to suggestCharts:', error);\n",
              "      }\n",
              "      quickchartButtonEl.classList.remove('colab-df-spinner');\n",
              "      quickchartButtonEl.classList.add('colab-df-quickchart-complete');\n",
              "    }\n",
              "    (() => {\n",
              "      let quickchartButtonEl =\n",
              "        document.querySelector('#df-3bbfeb4b-8f49-40e8-8b57-1721e7a6a7d9 button');\n",
              "      quickchartButtonEl.style.display =\n",
              "        google.colab.kernel.accessAllowed ? 'block' : 'none';\n",
              "    })();\n",
              "  </script>\n",
              "</div>\n",
              "\n",
              "    </div>\n",
              "  </div>\n"
            ],
            "application/vnd.google.colaboratory.intrinsic+json": {
              "type": "dataframe",
              "variable_name": "Xy",
              "summary": "{\n  \"name\": \"Xy\",\n  \"rows\": 49582,\n  \"fields\": [\n    {\n      \"column\": \"review\",\n      \"properties\": {\n        \"dtype\": \"string\",\n        \"num_unique_values\": 49582,\n        \"samples\": [\n          \"One of the most beautiful movies ever made in ex Yu.Story is very familiar to people in ex Yul because generation after war used to live in the same way.People in the west cant imagine how political situation in our country affect people.The plot is in the 50\\\",When Josip Broz Tito said no to the SSSR and politbiro and because of that our borders becomes open for western influence.But,in a country were people didn't had much money jeans was only ideal and friendship was everything.The friendship between for young people an a girl was so strong that after 40 years of their emigration from Yu is still alive.They get together after all this years on Ester\\\"s funeral and they start to remember of their childhood,before their went to the emigration and become successful people.\",\n          \"Man about the house is a true situation comedy in every sense of the word. The comedy concerns a character called Robin Tripp (played by the great Richard O' Sullivan) who finds himself after a wild party, ending up at the home of two ladies called Jo and Chrissy. Ironically the party was held to say goodbye to their old flatmate. The obvious ends up happening as he moves in.<br /><br />Man about the house was a pre-cursor to Cooke and Mortimer's spin off show George and Mildred which featured the 2 characters who were landlords to Jo, Chrissy and Robin. These two characters would actually turn out to be the linchpins of man about the house with Mildred (the late and much missed Yootha Joyce) in particular getting some of the best lines of the series. A semi-regular character was Larry (Doug Fisher) a useless person who was always on the scrounge and only ever came round when he wanted to borrow something (and never to return it).<br /><br />The American's did a version called three's company but it doesn't stand a chance when compared to this far funnier original. Thames took a risk in producing a comedy about a man sharing a flat with 2 women at a very conservative time but they should worry as the ratings at the time suggest that around 20 million people just wanted to watch a good old fashioned bit of comedy with inspired casting and a sharp script. What a pity modern comedy can't reach that high standard.<br /><br />This programme is available on network DVD\",\n          \"The movie starts something like a less hyper-kinetic, more pastiche Dead or Alive: strange underground activities are done while bodies are discovered by police officers. But when a police officer is killed, one Tatsuhito gets involved... and when he discovers that his brother Shihito is also involved, things get bloody quite fast.<br /><br />An earlier work of Miike's, Shinjuku Triad Society is still filled with his usual in the ol' ultraviolence and sadistic sex acts, though it's not one of his more eclectic or flamboyant pieces. Rather, it's a pretty well crafted bit of pulp fiction, as Tatsuhito digs his way through the underground, a maze that leads him to a gay Triad leader who sells illegally gained body organs from Taiwan and keeps an almost-brothel of young boys (one in particular the character who kills the cop at the beginning). Tatsuhito's brother is getting involved with said society, so Tatsuhito himself is forced to become a dirty cop and use similarly violent and sadistic tactics to penetrate into this sordid realm.<br /><br />What's mainly interesting about this little bit of work is the relationship Tatsuhito has with his nemesis, Wang. Tatsuhito is a Japanese born in China, later moved back into Japan, and alienated for it. Wang is a Chinese who felt alienated in China, so killed his father and developed a crime wing in Japan. Wang also is a surprisingly Shakespearian character, which is weird enough as it is, much less that you actually begin to feel sorry for him by the time his ultimate showdown with Tatsuhito comes to be. And Tatsuhito himself is a similarly tragic figure when he's forced to contend with his lack of ability to control his brother. While it would be rude to state that Miike's movies are successful mostly on their shock value, it is true that sometimes it's easy to lose track of how well Miike can create bitter, dis-impassioned characters.<br /><br />--PolarisDiB\"\n        ],\n        \"semantic_type\": \"\",\n        \"description\": \"\"\n      }\n    },\n    {\n      \"column\": \"sentiment\",\n      \"properties\": {\n        \"dtype\": \"category\",\n        \"num_unique_values\": 2,\n        \"samples\": [\n          \"negative\",\n          \"positive\"\n        ],\n        \"semantic_type\": \"\",\n        \"description\": \"\"\n      }\n    },\n    {\n      \"column\": \"clauses\",\n      \"properties\": {\n        \"dtype\": \"object\",\n        \"semantic_type\": \"\",\n        \"description\": \"\"\n      }\n    },\n    {\n      \"column\": \"sentiment_encoded\",\n      \"properties\": {\n        \"dtype\": \"number\",\n        \"std\": 0,\n        \"min\": 0,\n        \"max\": 1,\n        \"num_unique_values\": 2,\n        \"samples\": [\n          0,\n          1\n        ],\n        \"semantic_type\": \"\",\n        \"description\": \"\"\n      }\n    }\n  ]\n}"
            }
          },
          "metadata": {},
          "execution_count": 19
        }
      ],
      "source": [
        "Xy.head()"
      ]
    },
    {
      "cell_type": "code",
      "execution_count": null,
      "metadata": {
        "id": "yO3P3hptnTeH"
      },
      "outputs": [],
      "source": [
        "aspects = pd.read_csv('/content/drive/MyDrive/data_aspects.csv', index_col=0)"
      ]
    },
    {
      "cell_type": "code",
      "execution_count": null,
      "metadata": {
        "colab": {
          "base_uri": "https://localhost:8080/",
          "height": 206
        },
        "id": "hB3U6igJnTeH",
        "outputId": "e028b0bc-6ebc-4d75-beb6-040311fc2231"
      },
      "outputs": [
        {
          "output_type": "execute_result",
          "data": {
            "text/plain": [
              "   Review Number  Sentence Number  \\\n",
              "0              0                0   \n",
              "1              0                0   \n",
              "2              0                1   \n",
              "3              0                1   \n",
              "4              0                1   \n",
              "\n",
              "                                              Clause    Aspect  \n",
              "0                               parent ever took see  director  \n",
              "1                                                see     actor  \n",
              "2  even tender age 5 year greatly moved drama cri...     actor  \n",
              "3                           cried aloud screen crown     music  \n",
              "4                                  please nt take be     actor  "
            ],
            "text/html": [
              "\n",
              "  <div id=\"df-a1f88733-53bc-422b-b79b-6b4291a41f11\" class=\"colab-df-container\">\n",
              "    <div>\n",
              "<style scoped>\n",
              "    .dataframe tbody tr th:only-of-type {\n",
              "        vertical-align: middle;\n",
              "    }\n",
              "\n",
              "    .dataframe tbody tr th {\n",
              "        vertical-align: top;\n",
              "    }\n",
              "\n",
              "    .dataframe thead th {\n",
              "        text-align: right;\n",
              "    }\n",
              "</style>\n",
              "<table border=\"1\" class=\"dataframe\">\n",
              "  <thead>\n",
              "    <tr style=\"text-align: right;\">\n",
              "      <th></th>\n",
              "      <th>Review Number</th>\n",
              "      <th>Sentence Number</th>\n",
              "      <th>Clause</th>\n",
              "      <th>Aspect</th>\n",
              "    </tr>\n",
              "  </thead>\n",
              "  <tbody>\n",
              "    <tr>\n",
              "      <th>0</th>\n",
              "      <td>0</td>\n",
              "      <td>0</td>\n",
              "      <td>parent ever took see</td>\n",
              "      <td>director</td>\n",
              "    </tr>\n",
              "    <tr>\n",
              "      <th>1</th>\n",
              "      <td>0</td>\n",
              "      <td>0</td>\n",
              "      <td>see</td>\n",
              "      <td>actor</td>\n",
              "    </tr>\n",
              "    <tr>\n",
              "      <th>2</th>\n",
              "      <td>0</td>\n",
              "      <td>1</td>\n",
              "      <td>even tender age 5 year greatly moved drama cri...</td>\n",
              "      <td>actor</td>\n",
              "    </tr>\n",
              "    <tr>\n",
              "      <th>3</th>\n",
              "      <td>0</td>\n",
              "      <td>1</td>\n",
              "      <td>cried aloud screen crown</td>\n",
              "      <td>music</td>\n",
              "    </tr>\n",
              "    <tr>\n",
              "      <th>4</th>\n",
              "      <td>0</td>\n",
              "      <td>1</td>\n",
              "      <td>please nt take be</td>\n",
              "      <td>actor</td>\n",
              "    </tr>\n",
              "  </tbody>\n",
              "</table>\n",
              "</div>\n",
              "    <div class=\"colab-df-buttons\">\n",
              "\n",
              "  <div class=\"colab-df-container\">\n",
              "    <button class=\"colab-df-convert\" onclick=\"convertToInteractive('df-a1f88733-53bc-422b-b79b-6b4291a41f11')\"\n",
              "            title=\"Convert this dataframe to an interactive table.\"\n",
              "            style=\"display:none;\">\n",
              "\n",
              "  <svg xmlns=\"http://www.w3.org/2000/svg\" height=\"24px\" viewBox=\"0 -960 960 960\">\n",
              "    <path d=\"M120-120v-720h720v720H120Zm60-500h600v-160H180v160Zm220 220h160v-160H400v160Zm0 220h160v-160H400v160ZM180-400h160v-160H180v160Zm440 0h160v-160H620v160ZM180-180h160v-160H180v160Zm440 0h160v-160H620v160Z\"/>\n",
              "  </svg>\n",
              "    </button>\n",
              "\n",
              "  <style>\n",
              "    .colab-df-container {\n",
              "      display:flex;\n",
              "      gap: 12px;\n",
              "    }\n",
              "\n",
              "    .colab-df-convert {\n",
              "      background-color: #E8F0FE;\n",
              "      border: none;\n",
              "      border-radius: 50%;\n",
              "      cursor: pointer;\n",
              "      display: none;\n",
              "      fill: #1967D2;\n",
              "      height: 32px;\n",
              "      padding: 0 0 0 0;\n",
              "      width: 32px;\n",
              "    }\n",
              "\n",
              "    .colab-df-convert:hover {\n",
              "      background-color: #E2EBFA;\n",
              "      box-shadow: 0px 1px 2px rgba(60, 64, 67, 0.3), 0px 1px 3px 1px rgba(60, 64, 67, 0.15);\n",
              "      fill: #174EA6;\n",
              "    }\n",
              "\n",
              "    .colab-df-buttons div {\n",
              "      margin-bottom: 4px;\n",
              "    }\n",
              "\n",
              "    [theme=dark] .colab-df-convert {\n",
              "      background-color: #3B4455;\n",
              "      fill: #D2E3FC;\n",
              "    }\n",
              "\n",
              "    [theme=dark] .colab-df-convert:hover {\n",
              "      background-color: #434B5C;\n",
              "      box-shadow: 0px 1px 3px 1px rgba(0, 0, 0, 0.15);\n",
              "      filter: drop-shadow(0px 1px 2px rgba(0, 0, 0, 0.3));\n",
              "      fill: #FFFFFF;\n",
              "    }\n",
              "  </style>\n",
              "\n",
              "    <script>\n",
              "      const buttonEl =\n",
              "        document.querySelector('#df-a1f88733-53bc-422b-b79b-6b4291a41f11 button.colab-df-convert');\n",
              "      buttonEl.style.display =\n",
              "        google.colab.kernel.accessAllowed ? 'block' : 'none';\n",
              "\n",
              "      async function convertToInteractive(key) {\n",
              "        const element = document.querySelector('#df-a1f88733-53bc-422b-b79b-6b4291a41f11');\n",
              "        const dataTable =\n",
              "          await google.colab.kernel.invokeFunction('convertToInteractive',\n",
              "                                                    [key], {});\n",
              "        if (!dataTable) return;\n",
              "\n",
              "        const docLinkHtml = 'Like what you see? Visit the ' +\n",
              "          '<a target=\"_blank\" href=https://colab.research.google.com/notebooks/data_table.ipynb>data table notebook</a>'\n",
              "          + ' to learn more about interactive tables.';\n",
              "        element.innerHTML = '';\n",
              "        dataTable['output_type'] = 'display_data';\n",
              "        await google.colab.output.renderOutput(dataTable, element);\n",
              "        const docLink = document.createElement('div');\n",
              "        docLink.innerHTML = docLinkHtml;\n",
              "        element.appendChild(docLink);\n",
              "      }\n",
              "    </script>\n",
              "  </div>\n",
              "\n",
              "\n",
              "<div id=\"df-c0ca0a4c-cb99-4322-9162-240d4bb3097c\">\n",
              "  <button class=\"colab-df-quickchart\" onclick=\"quickchart('df-c0ca0a4c-cb99-4322-9162-240d4bb3097c')\"\n",
              "            title=\"Suggest charts\"\n",
              "            style=\"display:none;\">\n",
              "\n",
              "<svg xmlns=\"http://www.w3.org/2000/svg\" height=\"24px\"viewBox=\"0 0 24 24\"\n",
              "     width=\"24px\">\n",
              "    <g>\n",
              "        <path d=\"M19 3H5c-1.1 0-2 .9-2 2v14c0 1.1.9 2 2 2h14c1.1 0 2-.9 2-2V5c0-1.1-.9-2-2-2zM9 17H7v-7h2v7zm4 0h-2V7h2v10zm4 0h-2v-4h2v4z\"/>\n",
              "    </g>\n",
              "</svg>\n",
              "  </button>\n",
              "\n",
              "<style>\n",
              "  .colab-df-quickchart {\n",
              "      --bg-color: #E8F0FE;\n",
              "      --fill-color: #1967D2;\n",
              "      --hover-bg-color: #E2EBFA;\n",
              "      --hover-fill-color: #174EA6;\n",
              "      --disabled-fill-color: #AAA;\n",
              "      --disabled-bg-color: #DDD;\n",
              "  }\n",
              "\n",
              "  [theme=dark] .colab-df-quickchart {\n",
              "      --bg-color: #3B4455;\n",
              "      --fill-color: #D2E3FC;\n",
              "      --hover-bg-color: #434B5C;\n",
              "      --hover-fill-color: #FFFFFF;\n",
              "      --disabled-bg-color: #3B4455;\n",
              "      --disabled-fill-color: #666;\n",
              "  }\n",
              "\n",
              "  .colab-df-quickchart {\n",
              "    background-color: var(--bg-color);\n",
              "    border: none;\n",
              "    border-radius: 50%;\n",
              "    cursor: pointer;\n",
              "    display: none;\n",
              "    fill: var(--fill-color);\n",
              "    height: 32px;\n",
              "    padding: 0;\n",
              "    width: 32px;\n",
              "  }\n",
              "\n",
              "  .colab-df-quickchart:hover {\n",
              "    background-color: var(--hover-bg-color);\n",
              "    box-shadow: 0 1px 2px rgba(60, 64, 67, 0.3), 0 1px 3px 1px rgba(60, 64, 67, 0.15);\n",
              "    fill: var(--button-hover-fill-color);\n",
              "  }\n",
              "\n",
              "  .colab-df-quickchart-complete:disabled,\n",
              "  .colab-df-quickchart-complete:disabled:hover {\n",
              "    background-color: var(--disabled-bg-color);\n",
              "    fill: var(--disabled-fill-color);\n",
              "    box-shadow: none;\n",
              "  }\n",
              "\n",
              "  .colab-df-spinner {\n",
              "    border: 2px solid var(--fill-color);\n",
              "    border-color: transparent;\n",
              "    border-bottom-color: var(--fill-color);\n",
              "    animation:\n",
              "      spin 1s steps(1) infinite;\n",
              "  }\n",
              "\n",
              "  @keyframes spin {\n",
              "    0% {\n",
              "      border-color: transparent;\n",
              "      border-bottom-color: var(--fill-color);\n",
              "      border-left-color: var(--fill-color);\n",
              "    }\n",
              "    20% {\n",
              "      border-color: transparent;\n",
              "      border-left-color: var(--fill-color);\n",
              "      border-top-color: var(--fill-color);\n",
              "    }\n",
              "    30% {\n",
              "      border-color: transparent;\n",
              "      border-left-color: var(--fill-color);\n",
              "      border-top-color: var(--fill-color);\n",
              "      border-right-color: var(--fill-color);\n",
              "    }\n",
              "    40% {\n",
              "      border-color: transparent;\n",
              "      border-right-color: var(--fill-color);\n",
              "      border-top-color: var(--fill-color);\n",
              "    }\n",
              "    60% {\n",
              "      border-color: transparent;\n",
              "      border-right-color: var(--fill-color);\n",
              "    }\n",
              "    80% {\n",
              "      border-color: transparent;\n",
              "      border-right-color: var(--fill-color);\n",
              "      border-bottom-color: var(--fill-color);\n",
              "    }\n",
              "    90% {\n",
              "      border-color: transparent;\n",
              "      border-bottom-color: var(--fill-color);\n",
              "    }\n",
              "  }\n",
              "</style>\n",
              "\n",
              "  <script>\n",
              "    async function quickchart(key) {\n",
              "      const quickchartButtonEl =\n",
              "        document.querySelector('#' + key + ' button');\n",
              "      quickchartButtonEl.disabled = true;  // To prevent multiple clicks.\n",
              "      quickchartButtonEl.classList.add('colab-df-spinner');\n",
              "      try {\n",
              "        const charts = await google.colab.kernel.invokeFunction(\n",
              "            'suggestCharts', [key], {});\n",
              "      } catch (error) {\n",
              "        console.error('Error during call to suggestCharts:', error);\n",
              "      }\n",
              "      quickchartButtonEl.classList.remove('colab-df-spinner');\n",
              "      quickchartButtonEl.classList.add('colab-df-quickchart-complete');\n",
              "    }\n",
              "    (() => {\n",
              "      let quickchartButtonEl =\n",
              "        document.querySelector('#df-c0ca0a4c-cb99-4322-9162-240d4bb3097c button');\n",
              "      quickchartButtonEl.style.display =\n",
              "        google.colab.kernel.accessAllowed ? 'block' : 'none';\n",
              "    })();\n",
              "  </script>\n",
              "</div>\n",
              "\n",
              "    </div>\n",
              "  </div>\n"
            ],
            "application/vnd.google.colaboratory.intrinsic+json": {
              "type": "dataframe",
              "variable_name": "aspects"
            }
          },
          "metadata": {},
          "execution_count": 21
        }
      ],
      "source": [
        "aspects.head()"
      ]
    },
    {
      "cell_type": "markdown",
      "metadata": {
        "id": "zHW5JWcRnkjD"
      },
      "source": [
        "### Loading Model"
      ]
    },
    {
      "cell_type": "code",
      "execution_count": null,
      "metadata": {
        "colab": {
          "base_uri": "https://localhost:8080/"
        },
        "id": "GULHqbz_6y5C",
        "outputId": "bb9d60f5-14b0-4fc8-f900-a4cc7b865def"
      },
      "outputs": [
        {
          "output_type": "stream",
          "name": "stderr",
          "text": [
            "<ipython-input-23-1c25d8df05a4>:7: MarkupResemblesLocatorWarning: The input looks more like a filename than markup. You may want to open this file and pass the filehandle into Beautiful Soup.\n",
            "  soup = BeautifulSoup(text, \"html.parser\")\n"
          ]
        }
      ],
      "source": [
        "data_clean = [standardize_text(denoise_text(review)) for review in Xy.review]"
      ]
    },
    {
      "cell_type": "code",
      "execution_count": null,
      "metadata": {
        "id": "GGHNgKNd6rPT"
      },
      "outputs": [],
      "source": [
        "from keras import layers\n",
        "import tensorflow_datasets as tfds\n",
        "\n",
        "tokenizer = tfds.deprecated.text.SubwordTextEncoder.build_from_corpus(\n",
        "    data_clean, target_vocab_size=2**16\n",
        ")"
      ]
    },
    {
      "cell_type": "code",
      "execution_count": null,
      "metadata": {
        "id": "i-gMLm1S817v"
      },
      "outputs": [],
      "source": [
        "data_inputs = [tokenizer.encode(sentence) for sentence in data_clean]"
      ]
    },
    {
      "cell_type": "code",
      "execution_count": null,
      "metadata": {
        "id": "VigcuswufUbx"
      },
      "outputs": [],
      "source": [
        "MAX_LEN = max([len(sentence) for sentence in data_inputs])\n",
        "data_inputs = tf.keras.preprocessing.sequence.pad_sequences(data_inputs,\n",
        "                                                            value=0,\n",
        "                                                            padding=\"post\",\n",
        "                                                            maxlen=MAX_LEN)"
      ]
    },
    {
      "cell_type": "code",
      "execution_count": null,
      "metadata": {
        "id": "2-N9ELFBrw__"
      },
      "outputs": [],
      "source": [
        "from sklearn.model_selection import train_test_split\n",
        "train_inputs, test_inputs, train_labels, test_labels = train_test_split(data_inputs, Xy.sentiment_encoded, test_size = 0.2, random_state = random_state)"
      ]
    },
    {
      "cell_type": "code",
      "execution_count": null,
      "metadata": {
        "id": "FChs3DxpfmM2"
      },
      "outputs": [],
      "source": [
        "run = wandb.init(reinit=False)\n",
        "artifact = run.use_artifact('karangoel59/ABSA/run_m9nqu5yt_model:v4', type='model')\n",
        "artifact_dir = artifact.download()"
      ]
    },
    {
      "cell_type": "code",
      "execution_count": null,
      "metadata": {
        "id": "oaoIXRTYnjvX"
      },
      "outputs": [],
      "source": [
        "model = tf.keras.models.load_model(artifact_dir)"
      ]
    },
    {
      "cell_type": "markdown",
      "metadata": {
        "id": "BgfBJbCmnYat"
      },
      "source": [
        "### Evaluation CNN Model"
      ]
    },
    {
      "cell_type": "code",
      "execution_count": null,
      "metadata": {
        "id": "4U4PxY1T8rcf"
      },
      "outputs": [],
      "source": [
        "model = Dcnn"
      ]
    },
    {
      "cell_type": "code",
      "execution_count": null,
      "metadata": {
        "colab": {
          "base_uri": "https://localhost:8080/"
        },
        "id": "xHMPlGYzna-L",
        "outputId": "80a4b6b2-7e3f-4174-e15e-45cfa38c996f"
      },
      "outputs": [
        {
          "name": "stdout",
          "output_type": "stream",
          "text": [
            "310/310 [==============================] - 5s 15ms/step - loss: 0.4841 - accuracy: 0.8988\n"
          ]
        },
        {
          "data": {
            "text/plain": [
              "[0.48411843180656433, 0.8987597227096558]"
            ]
          },
          "execution_count": 108,
          "metadata": {},
          "output_type": "execute_result"
        }
      ],
      "source": [
        "model.evaluate(test_inputs, test_labels, batch_size=batch_size)"
      ]
    },
    {
      "cell_type": "code",
      "execution_count": null,
      "metadata": {
        "id": "W56A3gdcoOcn"
      },
      "outputs": [],
      "source": [
        "grouped_aspects = aspects.groupby('Review Number')['Clause'].apply(list)"
      ]
    },
    {
      "cell_type": "code",
      "execution_count": null,
      "metadata": {
        "colab": {
          "base_uri": "https://localhost:8080/"
        },
        "id": "IFiHM7P3prgF",
        "outputId": "99ed35c8-38df-448d-b6ff-06a0ac56f115"
      },
      "outputs": [
        {
          "data": {
            "text/plain": [
              "49173"
            ]
          },
          "execution_count": 110,
          "metadata": {},
          "output_type": "execute_result"
        }
      ],
      "source": [
        "len(grouped_aspects)"
      ]
    },
    {
      "cell_type": "code",
      "execution_count": null,
      "metadata": {
        "id": "ocs1MA34o-X3"
      },
      "outputs": [],
      "source": [
        "preds = []\n",
        "for group in grouped_aspects[0:2000]:\n",
        "    encoded_clauses = [tokenizer.encode(clause) for clause in group]\n",
        "    encoded_inputs = tf.keras.preprocessing.sequence.pad_sequences(encoded_clauses,\n",
        "                                                                value=0,\n",
        "                                                                padding=\"post\",\n",
        "                                                                maxlen=MAX_LEN)\n",
        "    predictions = model.predict(encoded_inputs,verbose = 0)\n",
        "    preds.append(predictions)"
      ]
    },
    {
      "cell_type": "code",
      "execution_count": null,
      "metadata": {
        "id": "_9EcDAFbx9YH"
      },
      "outputs": [],
      "source": [
        "def predict_avg(pred):\n",
        "  avg = np.average(pred)\n",
        "  if avg > 0.5:\n",
        "    return 1\n",
        "  else:\n",
        "    return 0"
      ]
    },
    {
      "cell_type": "code",
      "execution_count": null,
      "metadata": {
        "id": "u7vHjFQcxrXa"
      },
      "outputs": [],
      "source": [
        "final_preds = [predict_avg(pred) for pred in preds]"
      ]
    },
    {
      "cell_type": "code",
      "execution_count": null,
      "metadata": {
        "id": "SCDgHpzJ0Aeq"
      },
      "outputs": [],
      "source": [
        "true_labels = Xy['sentiment_encoded'][0:2000]"
      ]
    },
    {
      "cell_type": "code",
      "execution_count": null,
      "metadata": {
        "colab": {
          "base_uri": "https://localhost:8080/"
        },
        "id": "jvvq0AJS9QVN",
        "outputId": "3adff970-9837-4175-c529-3ab787ba182b"
      },
      "outputs": [
        {
          "data": {
            "text/plain": [
              "0.765"
            ]
          },
          "execution_count": 125,
          "metadata": {},
          "output_type": "execute_result"
        }
      ],
      "source": [
        "from sklearn.metrics import accuracy_score\n",
        "accuracy_score(true_labels, final_preds)"
      ]
    },
    {
      "cell_type": "code",
      "execution_count": null,
      "metadata": {
        "colab": {
          "base_uri": "https://localhost:8080/",
          "height": 641
        },
        "id": "hXoE9iH0zLvd",
        "outputId": "a075529d-e288-4faa-e035-ce8731a8741e"
      },
      "outputs": [
        {
          "data": {
            "image/png": "[encoded data removed]",
            "text/plain": [
              "<Figure size 1000x700 with 1 Axes>"
            ]
          },
          "metadata": {},
          "output_type": "display_data"
        }
      ],
      "source": [
        "import seaborn as sns\n",
        "import matplotlib.pyplot as plt\n",
        "from sklearn.metrics import confusion_matrix\n",
        "\n",
        "# Assuming Xy is your DataFrame and final_preds are your predictions\n",
        "conf_matrix = confusion_matrix(true_labels, final_preds)\n",
        "\n",
        "# Plotting the confusion matrix\n",
        "plt.figure(figsize=(10, 7))  # Set the figure size\n",
        "sns.heatmap(conf_matrix, annot=True, fmt='d', cmap='Blues', cbar=False)  # 'fmt' is format of the numbers\n",
        "\n",
        "# Adding labels and title for clarity\n",
        "plt.xlabel('Predicted Labels')\n",
        "plt.ylabel('True Labels')\n",
        "plt.title('Confusion Matrix')\n",
        "plt.show()\n",
        "\n"
      ]
    },
    {
      "cell_type": "code",
      "execution_count": null,
      "metadata": {
        "id": "4iqiYV4RrHfj"
      },
      "outputs": [],
      "source": [
        "run.finish()"
      ]
    }
  ],
  "metadata": {
    "accelerator": "GPU",
    "colab": {
      "gpuType": "T4",
      "provenance": [],
      "collapsed_sections": [
        "3tfvy1VyRTHc",
        "G1YZ7qiK_nwN",
        "Uiwm9d31_hwk",
        "UVXrKi1znTd-"
      ],
      "include_colab_link": true
    },
    "kernelspec": {
      "display_name": "Python 3",
      "name": "python3"
    },
    "language_info": {
      "codemirror_mode": {
        "name": "ipython",
        "version": 3
      },
      "file_extension": ".py",
      "mimetype": "text/x-python",
      "name": "python",
      "nbconvert_exporter": "python",
      "pygments_lexer": "ipython3",
      "version": "3.11.9"
    },
    "widgets": {
      "application/vnd.jupyter.widget-state+json": {
        "0edb85c0405742878d369a4f4ca3432b": {
          "model_module": "@jupyter-widgets/base",
          "model_module_version": "1.2.0",
          "model_name": "LayoutModel",
          "state": {
            "_model_module": "@jupyter-widgets/base",
            "_model_module_version": "1.2.0",
            "_model_name": "LayoutModel",
            "_view_count": null,
            "_view_module": "@jupyter-widgets/base",
            "_view_module_version": "1.2.0",
            "_view_name": "LayoutView",
            "align_content": null,
            "align_items": null,
            "align_self": null,
            "border": null,
            "bottom": null,
            "display": null,
            "flex": null,
            "flex_flow": null,
            "grid_area": null,
            "grid_auto_columns": null,
            "grid_auto_flow": null,
            "grid_auto_rows": null,
            "grid_column": null,
            "grid_gap": null,
            "grid_row": null,
            "grid_template_areas": null,
            "grid_template_columns": null,
            "grid_template_rows": null,
            "height": null,
            "justify_content": null,
            "justify_items": null,
            "left": null,
            "margin": null,
            "max_height": null,
            "max_width": null,
            "min_height": null,
            "min_width": null,
            "object_fit": null,
            "object_position": null,
            "order": null,
            "overflow": null,
            "overflow_x": null,
            "overflow_y": null,
            "padding": null,
            "right": null,
            "top": null,
            "visibility": null,
            "width": null
          }
        },
        "1b5fcacb69ba4d7d92547f28e1b434a1": {
          "model_module": "@jupyter-widgets/base",
          "model_module_version": "1.2.0",
          "model_name": "LayoutModel",
          "state": {
            "_model_module": "@jupyter-widgets/base",
            "_model_module_version": "1.2.0",
            "_model_name": "LayoutModel",
            "_view_count": null,
            "_view_module": "@jupyter-widgets/base",
            "_view_module_version": "1.2.0",
            "_view_name": "LayoutView",
            "align_content": null,
            "align_items": null,
            "align_self": null,
            "border": null,
            "bottom": null,
            "display": null,
            "flex": null,
            "flex_flow": null,
            "grid_area": null,
            "grid_auto_columns": null,
            "grid_auto_flow": null,
            "grid_auto_rows": null,
            "grid_column": null,
            "grid_gap": null,
            "grid_row": null,
            "grid_template_areas": null,
            "grid_template_columns": null,
            "grid_template_rows": null,
            "height": null,
            "justify_content": null,
            "justify_items": null,
            "left": null,
            "margin": null,
            "max_height": null,
            "max_width": null,
            "min_height": null,
            "min_width": null,
            "object_fit": null,
            "object_position": null,
            "order": null,
            "overflow": null,
            "overflow_x": null,
            "overflow_y": null,
            "padding": null,
            "right": null,
            "top": null,
            "visibility": null,
            "width": null
          }
        },
        "2169a0a3c0fa401695db172943d819b2": {
          "model_module": "@jupyter-widgets/controls",
          "model_module_version": "1.5.0",
          "model_name": "LabelModel",
          "state": {
            "_dom_classes": [],
            "_model_module": "@jupyter-widgets/controls",
            "_model_module_version": "1.5.0",
            "_model_name": "LabelModel",
            "_view_count": null,
            "_view_module": "@jupyter-widgets/controls",
            "_view_module_version": "1.5.0",
            "_view_name": "LabelView",
            "description": "",
            "description_tooltip": null,
            "layout": "IPY_MODEL_8d51c27ceb0244238939cd8de5b4c48d",
            "placeholder": "​",
            "style": "IPY_MODEL_3603a6857d7a47d0b5964c5c7f163870",
            "value": "743.478 MB of 743.478 MB uploaded (0.045 MB deduped)\r"
          }
        },
        "3603a6857d7a47d0b5964c5c7f163870": {
          "model_module": "@jupyter-widgets/controls",
          "model_module_version": "1.5.0",
          "model_name": "DescriptionStyleModel",
          "state": {
            "_model_module": "@jupyter-widgets/controls",
            "_model_module_version": "1.5.0",
            "_model_name": "DescriptionStyleModel",
            "_view_count": null,
            "_view_module": "@jupyter-widgets/base",
            "_view_module_version": "1.2.0",
            "_view_name": "StyleView",
            "description_width": ""
          }
        },
        "43d5df0777514b23b95f0384de3f1ff2": {
          "model_module": "@jupyter-widgets/controls",
          "model_module_version": "1.5.0",
          "model_name": "LabelModel",
          "state": {
            "_dom_classes": [],
            "_model_module": "@jupyter-widgets/controls",
            "_model_module_version": "1.5.0",
            "_model_name": "LabelModel",
            "_view_count": null,
            "_view_module": "@jupyter-widgets/controls",
            "_view_module_version": "1.5.0",
            "_view_name": "LabelView",
            "description": "",
            "description_tooltip": null,
            "layout": "IPY_MODEL_4829b4983e074d5086f794223c8c889c",
            "placeholder": "​",
            "style": "IPY_MODEL_4bab63d163104766a4780f8645f15233",
            "value": "0.011 MB of 0.011 MB uploaded\r"
          }
        },
        "4829b4983e074d5086f794223c8c889c": {
          "model_module": "@jupyter-widgets/base",
          "model_module_version": "1.2.0",
          "model_name": "LayoutModel",
          "state": {
            "_model_module": "@jupyter-widgets/base",
            "_model_module_version": "1.2.0",
            "_model_name": "LayoutModel",
            "_view_count": null,
            "_view_module": "@jupyter-widgets/base",
            "_view_module_version": "1.2.0",
            "_view_name": "LayoutView",
            "align_content": null,
            "align_items": null,
            "align_self": null,
            "border": null,
            "bottom": null,
            "display": null,
            "flex": null,
            "flex_flow": null,
            "grid_area": null,
            "grid_auto_columns": null,
            "grid_auto_flow": null,
            "grid_auto_rows": null,
            "grid_column": null,
            "grid_gap": null,
            "grid_row": null,
            "grid_template_areas": null,
            "grid_template_columns": null,
            "grid_template_rows": null,
            "height": null,
            "justify_content": null,
            "justify_items": null,
            "left": null,
            "margin": null,
            "max_height": null,
            "max_width": null,
            "min_height": null,
            "min_width": null,
            "object_fit": null,
            "object_position": null,
            "order": null,
            "overflow": null,
            "overflow_x": null,
            "overflow_y": null,
            "padding": null,
            "right": null,
            "top": null,
            "visibility": null,
            "width": null
          }
        },
        "4bab63d163104766a4780f8645f15233": {
          "model_module": "@jupyter-widgets/controls",
          "model_module_version": "1.5.0",
          "model_name": "DescriptionStyleModel",
          "state": {
            "_model_module": "@jupyter-widgets/controls",
            "_model_module_version": "1.5.0",
            "_model_name": "DescriptionStyleModel",
            "_view_count": null,
            "_view_module": "@jupyter-widgets/base",
            "_view_module_version": "1.2.0",
            "_view_name": "StyleView",
            "description_width": ""
          }
        },
        "6311425c3d6f48f0b94b85d949f8bb20": {
          "model_module": "@jupyter-widgets/controls",
          "model_module_version": "1.5.0",
          "model_name": "VBoxModel",
          "state": {
            "_dom_classes": [],
            "_model_module": "@jupyter-widgets/controls",
            "_model_module_version": "1.5.0",
            "_model_name": "VBoxModel",
            "_view_count": null,
            "_view_module": "@jupyter-widgets/controls",
            "_view_module_version": "1.5.0",
            "_view_name": "VBoxView",
            "box_style": "",
            "children": [
              "IPY_MODEL_43d5df0777514b23b95f0384de3f1ff2",
              "IPY_MODEL_7a2904ff2cfb4198b1f827d5d5aae1aa"
            ],
            "layout": "IPY_MODEL_e81c0bfd65fb40cbb67f256d6d6d7949"
          }
        },
        "7a2904ff2cfb4198b1f827d5d5aae1aa": {
          "model_module": "@jupyter-widgets/controls",
          "model_module_version": "1.5.0",
          "model_name": "FloatProgressModel",
          "state": {
            "_dom_classes": [],
            "_model_module": "@jupyter-widgets/controls",
            "_model_module_version": "1.5.0",
            "_model_name": "FloatProgressModel",
            "_view_count": null,
            "_view_module": "@jupyter-widgets/controls",
            "_view_module_version": "1.5.0",
            "_view_name": "ProgressView",
            "bar_style": "",
            "description": "",
            "description_tooltip": null,
            "layout": "IPY_MODEL_b690ff186fe74c57bdd266a1cf334136",
            "max": 1,
            "min": 0,
            "orientation": "horizontal",
            "style": "IPY_MODEL_a5632eeda24f4781aceb01fb2d98004c",
            "value": 1
          }
        },
        "8d51c27ceb0244238939cd8de5b4c48d": {
          "model_module": "@jupyter-widgets/base",
          "model_module_version": "1.2.0",
          "model_name": "LayoutModel",
          "state": {
            "_model_module": "@jupyter-widgets/base",
            "_model_module_version": "1.2.0",
            "_model_name": "LayoutModel",
            "_view_count": null,
            "_view_module": "@jupyter-widgets/base",
            "_view_module_version": "1.2.0",
            "_view_name": "LayoutView",
            "align_content": null,
            "align_items": null,
            "align_self": null,
            "border": null,
            "bottom": null,
            "display": null,
            "flex": null,
            "flex_flow": null,
            "grid_area": null,
            "grid_auto_columns": null,
            "grid_auto_flow": null,
            "grid_auto_rows": null,
            "grid_column": null,
            "grid_gap": null,
            "grid_row": null,
            "grid_template_areas": null,
            "grid_template_columns": null,
            "grid_template_rows": null,
            "height": null,
            "justify_content": null,
            "justify_items": null,
            "left": null,
            "margin": null,
            "max_height": null,
            "max_width": null,
            "min_height": null,
            "min_width": null,
            "object_fit": null,
            "object_position": null,
            "order": null,
            "overflow": null,
            "overflow_x": null,
            "overflow_y": null,
            "padding": null,
            "right": null,
            "top": null,
            "visibility": null,
            "width": null
          }
        },
        "a5632eeda24f4781aceb01fb2d98004c": {
          "model_module": "@jupyter-widgets/controls",
          "model_module_version": "1.5.0",
          "model_name": "ProgressStyleModel",
          "state": {
            "_model_module": "@jupyter-widgets/controls",
            "_model_module_version": "1.5.0",
            "_model_name": "ProgressStyleModel",
            "_view_count": null,
            "_view_module": "@jupyter-widgets/base",
            "_view_module_version": "1.2.0",
            "_view_name": "StyleView",
            "bar_color": null,
            "description_width": ""
          }
        },
        "b690ff186fe74c57bdd266a1cf334136": {
          "model_module": "@jupyter-widgets/base",
          "model_module_version": "1.2.0",
          "model_name": "LayoutModel",
          "state": {
            "_model_module": "@jupyter-widgets/base",
            "_model_module_version": "1.2.0",
            "_model_name": "LayoutModel",
            "_view_count": null,
            "_view_module": "@jupyter-widgets/base",
            "_view_module_version": "1.2.0",
            "_view_name": "LayoutView",
            "align_content": null,
            "align_items": null,
            "align_self": null,
            "border": null,
            "bottom": null,
            "display": null,
            "flex": null,
            "flex_flow": null,
            "grid_area": null,
            "grid_auto_columns": null,
            "grid_auto_flow": null,
            "grid_auto_rows": null,
            "grid_column": null,
            "grid_gap": null,
            "grid_row": null,
            "grid_template_areas": null,
            "grid_template_columns": null,
            "grid_template_rows": null,
            "height": null,
            "justify_content": null,
            "justify_items": null,
            "left": null,
            "margin": null,
            "max_height": null,
            "max_width": null,
            "min_height": null,
            "min_width": null,
            "object_fit": null,
            "object_position": null,
            "order": null,
            "overflow": null,
            "overflow_x": null,
            "overflow_y": null,
            "padding": null,
            "right": null,
            "top": null,
            "visibility": null,
            "width": null
          }
        },
        "d3e89698debf4f449fcc815e64c19931": {
          "model_module": "@jupyter-widgets/controls",
          "model_module_version": "1.5.0",
          "model_name": "VBoxModel",
          "state": {
            "_dom_classes": [],
            "_model_module": "@jupyter-widgets/controls",
            "_model_module_version": "1.5.0",
            "_model_name": "VBoxModel",
            "_view_count": null,
            "_view_module": "@jupyter-widgets/controls",
            "_view_module_version": "1.5.0",
            "_view_name": "VBoxView",
            "box_style": "",
            "children": [
              "IPY_MODEL_2169a0a3c0fa401695db172943d819b2",
              "IPY_MODEL_dc9a07e351bc4f34a72a740552ddb874"
            ],
            "layout": "IPY_MODEL_0edb85c0405742878d369a4f4ca3432b"
          }
        },
        "dc9a07e351bc4f34a72a740552ddb874": {
          "model_module": "@jupyter-widgets/controls",
          "model_module_version": "1.5.0",
          "model_name": "FloatProgressModel",
          "state": {
            "_dom_classes": [],
            "_model_module": "@jupyter-widgets/controls",
            "_model_module_version": "1.5.0",
            "_model_name": "FloatProgressModel",
            "_view_count": null,
            "_view_module": "@jupyter-widgets/controls",
            "_view_module_version": "1.5.0",
            "_view_name": "ProgressView",
            "bar_style": "",
            "description": "",
            "description_tooltip": null,
            "layout": "IPY_MODEL_1b5fcacb69ba4d7d92547f28e1b434a1",
            "max": 1,
            "min": 0,
            "orientation": "horizontal",
            "style": "IPY_MODEL_e92921d0faa34bf5919036167c6fbae9",
            "value": 1
          }
        },
        "e81c0bfd65fb40cbb67f256d6d6d7949": {
          "model_module": "@jupyter-widgets/base",
          "model_module_version": "1.2.0",
          "model_name": "LayoutModel",
          "state": {
            "_model_module": "@jupyter-widgets/base",
            "_model_module_version": "1.2.0",
            "_model_name": "LayoutModel",
            "_view_count": null,
            "_view_module": "@jupyter-widgets/base",
            "_view_module_version": "1.2.0",
            "_view_name": "LayoutView",
            "align_content": null,
            "align_items": null,
            "align_self": null,
            "border": null,
            "bottom": null,
            "display": null,
            "flex": null,
            "flex_flow": null,
            "grid_area": null,
            "grid_auto_columns": null,
            "grid_auto_flow": null,
            "grid_auto_rows": null,
            "grid_column": null,
            "grid_gap": null,
            "grid_row": null,
            "grid_template_areas": null,
            "grid_template_columns": null,
            "grid_template_rows": null,
            "height": null,
            "justify_content": null,
            "justify_items": null,
            "left": null,
            "margin": null,
            "max_height": null,
            "max_width": null,
            "min_height": null,
            "min_width": null,
            "object_fit": null,
            "object_position": null,
            "order": null,
            "overflow": null,
            "overflow_x": null,
            "overflow_y": null,
            "padding": null,
            "right": null,
            "top": null,
            "visibility": null,
            "width": null
          }
        },
        "e92921d0faa34bf5919036167c6fbae9": {
          "model_module": "@jupyter-widgets/controls",
          "model_module_version": "1.5.0",
          "model_name": "ProgressStyleModel",
          "state": {
            "_model_module": "@jupyter-widgets/controls",
            "_model_module_version": "1.5.0",
            "_model_name": "ProgressStyleModel",
            "_view_count": null,
            "_view_module": "@jupyter-widgets/base",
            "_view_module_version": "1.2.0",
            "_view_name": "StyleView",
            "bar_color": null,
            "description_width": ""
          }
        },
        "fd1412b09b1a480096031245d3d5c9d9": {
          "model_module": "@jupyter-widgets/controls",
          "model_name": "HBoxModel",
          "model_module_version": "1.5.0",
          "state": {
            "_dom_classes": [],
            "_model_module": "@jupyter-widgets/controls",
            "_model_module_version": "1.5.0",
            "_model_name": "HBoxModel",
            "_view_count": null,
            "_view_module": "@jupyter-widgets/controls",
            "_view_module_version": "1.5.0",
            "_view_name": "HBoxView",
            "box_style": "",
            "children": [
              "IPY_MODEL_e00b835ff1db456ba1a4ce3c98a0e740",
              "IPY_MODEL_d535c492574a4053887e9065d1e0f913",
              "IPY_MODEL_e3d22532d3d242bd8288dd51a8d3c1cc"
            ],
            "layout": "IPY_MODEL_143d90740b6b425a89511858d5acb9d4"
          }
        },
        "e00b835ff1db456ba1a4ce3c98a0e740": {
          "model_module": "@jupyter-widgets/controls",
          "model_name": "HTMLModel",
          "model_module_version": "1.5.0",
          "state": {
            "_dom_classes": [],
            "_model_module": "@jupyter-widgets/controls",
            "_model_module_version": "1.5.0",
            "_model_name": "HTMLModel",
            "_view_count": null,
            "_view_module": "@jupyter-widgets/controls",
            "_view_module_version": "1.5.0",
            "_view_name": "HTMLView",
            "description": "",
            "description_tooltip": null,
            "layout": "IPY_MODEL_9e4919f152194654800cd953d3083529",
            "placeholder": "​",
            "style": "IPY_MODEL_a088765b2eb84ffbaf11887261991260",
            "value": "config.json: 100%"
          }
        },
        "d535c492574a4053887e9065d1e0f913": {
          "model_module": "@jupyter-widgets/controls",
          "model_name": "FloatProgressModel",
          "model_module_version": "1.5.0",
          "state": {
            "_dom_classes": [],
            "_model_module": "@jupyter-widgets/controls",
            "_model_module_version": "1.5.0",
            "_model_name": "FloatProgressModel",
            "_view_count": null,
            "_view_module": "@jupyter-widgets/controls",
            "_view_module_version": "1.5.0",
            "_view_name": "ProgressView",
            "bar_style": "success",
            "description": "",
            "description_tooltip": null,
            "layout": "IPY_MODEL_a373c8c557f94ae7b4d55637c59014f2",
            "max": 483,
            "min": 0,
            "orientation": "horizontal",
            "style": "IPY_MODEL_c9afa2d3f0a4484583db975e75840d59",
            "value": 483
          }
        },
        "e3d22532d3d242bd8288dd51a8d3c1cc": {
          "model_module": "@jupyter-widgets/controls",
          "model_name": "HTMLModel",
          "model_module_version": "1.5.0",
          "state": {
            "_dom_classes": [],
            "_model_module": "@jupyter-widgets/controls",
            "_model_module_version": "1.5.0",
            "_model_name": "HTMLModel",
            "_view_count": null,
            "_view_module": "@jupyter-widgets/controls",
            "_view_module_version": "1.5.0",
            "_view_name": "HTMLView",
            "description": "",
            "description_tooltip": null,
            "layout": "IPY_MODEL_016b65da4ac845fa9f179335e5a22c03",
            "placeholder": "​",
            "style": "IPY_MODEL_e3b9998c7cec4f829b11885e8e2cf96d",
            "value": " 483/483 [00:00&lt;00:00, 10.9kB/s]"
          }
        },
        "143d90740b6b425a89511858d5acb9d4": {
          "model_module": "@jupyter-widgets/base",
          "model_name": "LayoutModel",
          "model_module_version": "1.2.0",
          "state": {
            "_model_module": "@jupyter-widgets/base",
            "_model_module_version": "1.2.0",
            "_model_name": "LayoutModel",
            "_view_count": null,
            "_view_module": "@jupyter-widgets/base",
            "_view_module_version": "1.2.0",
            "_view_name": "LayoutView",
            "align_content": null,
            "align_items": null,
            "align_self": null,
            "border": null,
            "bottom": null,
            "display": null,
            "flex": null,
            "flex_flow": null,
            "grid_area": null,
            "grid_auto_columns": null,
            "grid_auto_flow": null,
            "grid_auto_rows": null,
            "grid_column": null,
            "grid_gap": null,
            "grid_row": null,
            "grid_template_areas": null,
            "grid_template_columns": null,
            "grid_template_rows": null,
            "height": null,
            "justify_content": null,
            "justify_items": null,
            "left": null,
            "margin": null,
            "max_height": null,
            "max_width": null,
            "min_height": null,
            "min_width": null,
            "object_fit": null,
            "object_position": null,
            "order": null,
            "overflow": null,
            "overflow_x": null,
            "overflow_y": null,
            "padding": null,
            "right": null,
            "top": null,
            "visibility": null,
            "width": null
          }
        },
        "9e4919f152194654800cd953d3083529": {
          "model_module": "@jupyter-widgets/base",
          "model_name": "LayoutModel",
          "model_module_version": "1.2.0",
          "state": {
            "_model_module": "@jupyter-widgets/base",
            "_model_module_version": "1.2.0",
            "_model_name": "LayoutModel",
            "_view_count": null,
            "_view_module": "@jupyter-widgets/base",
            "_view_module_version": "1.2.0",
            "_view_name": "LayoutView",
            "align_content": null,
            "align_items": null,
            "align_self": null,
            "border": null,
            "bottom": null,
            "display": null,
            "flex": null,
            "flex_flow": null,
            "grid_area": null,
            "grid_auto_columns": null,
            "grid_auto_flow": null,
            "grid_auto_rows": null,
            "grid_column": null,
            "grid_gap": null,
            "grid_row": null,
            "grid_template_areas": null,
            "grid_template_columns": null,
            "grid_template_rows": null,
            "height": null,
            "justify_content": null,
            "justify_items": null,
            "left": null,
            "margin": null,
            "max_height": null,
            "max_width": null,
            "min_height": null,
            "min_width": null,
            "object_fit": null,
            "object_position": null,
            "order": null,
            "overflow": null,
            "overflow_x": null,
            "overflow_y": null,
            "padding": null,
            "right": null,
            "top": null,
            "visibility": null,
            "width": null
          }
        },
        "a088765b2eb84ffbaf11887261991260": {
          "model_module": "@jupyter-widgets/controls",
          "model_name": "DescriptionStyleModel",
          "model_module_version": "1.5.0",
          "state": {
            "_model_module": "@jupyter-widgets/controls",
            "_model_module_version": "1.5.0",
            "_model_name": "DescriptionStyleModel",
            "_view_count": null,
            "_view_module": "@jupyter-widgets/base",
            "_view_module_version": "1.2.0",
            "_view_name": "StyleView",
            "description_width": ""
          }
        },
        "a373c8c557f94ae7b4d55637c59014f2": {
          "model_module": "@jupyter-widgets/base",
          "model_name": "LayoutModel",
          "model_module_version": "1.2.0",
          "state": {
            "_model_module": "@jupyter-widgets/base",
            "_model_module_version": "1.2.0",
            "_model_name": "LayoutModel",
            "_view_count": null,
            "_view_module": "@jupyter-widgets/base",
            "_view_module_version": "1.2.0",
            "_view_name": "LayoutView",
            "align_content": null,
            "align_items": null,
            "align_self": null,
            "border": null,
            "bottom": null,
            "display": null,
            "flex": null,
            "flex_flow": null,
            "grid_area": null,
            "grid_auto_columns": null,
            "grid_auto_flow": null,
            "grid_auto_rows": null,
            "grid_column": null,
            "grid_gap": null,
            "grid_row": null,
            "grid_template_areas": null,
            "grid_template_columns": null,
            "grid_template_rows": null,
            "height": null,
            "justify_content": null,
            "justify_items": null,
            "left": null,
            "margin": null,
            "max_height": null,
            "max_width": null,
            "min_height": null,
            "min_width": null,
            "object_fit": null,
            "object_position": null,
            "order": null,
            "overflow": null,
            "overflow_x": null,
            "overflow_y": null,
            "padding": null,
            "right": null,
            "top": null,
            "visibility": null,
            "width": null
          }
        },
        "c9afa2d3f0a4484583db975e75840d59": {
          "model_module": "@jupyter-widgets/controls",
          "model_name": "ProgressStyleModel",
          "model_module_version": "1.5.0",
          "state": {
            "_model_module": "@jupyter-widgets/controls",
            "_model_module_version": "1.5.0",
            "_model_name": "ProgressStyleModel",
            "_view_count": null,
            "_view_module": "@jupyter-widgets/base",
            "_view_module_version": "1.2.0",
            "_view_name": "StyleView",
            "bar_color": null,
            "description_width": ""
          }
        },
        "016b65da4ac845fa9f179335e5a22c03": {
          "model_module": "@jupyter-widgets/base",
          "model_name": "LayoutModel",
          "model_module_version": "1.2.0",
          "state": {
            "_model_module": "@jupyter-widgets/base",
            "_model_module_version": "1.2.0",
            "_model_name": "LayoutModel",
            "_view_count": null,
            "_view_module": "@jupyter-widgets/base",
            "_view_module_version": "1.2.0",
            "_view_name": "LayoutView",
            "align_content": null,
            "align_items": null,
            "align_self": null,
            "border": null,
            "bottom": null,
            "display": null,
            "flex": null,
            "flex_flow": null,
            "grid_area": null,
            "grid_auto_columns": null,
            "grid_auto_flow": null,
            "grid_auto_rows": null,
            "grid_column": null,
            "grid_gap": null,
            "grid_row": null,
            "grid_template_areas": null,
            "grid_template_columns": null,
            "grid_template_rows": null,
            "height": null,
            "justify_content": null,
            "justify_items": null,
            "left": null,
            "margin": null,
            "max_height": null,
            "max_width": null,
            "min_height": null,
            "min_width": null,
            "object_fit": null,
            "object_position": null,
            "order": null,
            "overflow": null,
            "overflow_x": null,
            "overflow_y": null,
            "padding": null,
            "right": null,
            "top": null,
            "visibility": null,
            "width": null
          }
        },
        "e3b9998c7cec4f829b11885e8e2cf96d": {
          "model_module": "@jupyter-widgets/controls",
          "model_name": "DescriptionStyleModel",
          "model_module_version": "1.5.0",
          "state": {
            "_model_module": "@jupyter-widgets/controls",
            "_model_module_version": "1.5.0",
            "_model_name": "DescriptionStyleModel",
            "_view_count": null,
            "_view_module": "@jupyter-widgets/base",
            "_view_module_version": "1.2.0",
            "_view_name": "StyleView",
            "description_width": ""
          }
        },
        "877b0155a46448ddbea7f4ac6cc05632": {
          "model_module": "@jupyter-widgets/controls",
          "model_name": "HBoxModel",
          "model_module_version": "1.5.0",
          "state": {
            "_dom_classes": [],
            "_model_module": "@jupyter-widgets/controls",
            "_model_module_version": "1.5.0",
            "_model_name": "HBoxModel",
            "_view_count": null,
            "_view_module": "@jupyter-widgets/controls",
            "_view_module_version": "1.5.0",
            "_view_name": "HBoxView",
            "box_style": "",
            "children": [
              "IPY_MODEL_2cbab97c0f724b8a8b9288389bba31a7",
              "IPY_MODEL_eda16e9b1d68432593e0071a50e00d90",
              "IPY_MODEL_943af412faca4be4932d3f68d04e1970"
            ],
            "layout": "IPY_MODEL_ae4aeb0b298d413d8954d4324b6f6994"
          }
        },
        "2cbab97c0f724b8a8b9288389bba31a7": {
          "model_module": "@jupyter-widgets/controls",
          "model_name": "HTMLModel",
          "model_module_version": "1.5.0",
          "state": {
            "_dom_classes": [],
            "_model_module": "@jupyter-widgets/controls",
            "_model_module_version": "1.5.0",
            "_model_name": "HTMLModel",
            "_view_count": null,
            "_view_module": "@jupyter-widgets/controls",
            "_view_module_version": "1.5.0",
            "_view_name": "HTMLView",
            "description": "",
            "description_tooltip": null,
            "layout": "IPY_MODEL_7b74f05c0130425caf86674c1a49594f",
            "placeholder": "​",
            "style": "IPY_MODEL_b5b03c1566c247bcb538fe565ab5b25e",
            "value": "model.safetensors: 100%"
          }
        },
        "eda16e9b1d68432593e0071a50e00d90": {
          "model_module": "@jupyter-widgets/controls",
          "model_name": "FloatProgressModel",
          "model_module_version": "1.5.0",
          "state": {
            "_dom_classes": [],
            "_model_module": "@jupyter-widgets/controls",
            "_model_module_version": "1.5.0",
            "_model_name": "FloatProgressModel",
            "_view_count": null,
            "_view_module": "@jupyter-widgets/controls",
            "_view_module_version": "1.5.0",
            "_view_name": "ProgressView",
            "bar_style": "success",
            "description": "",
            "description_tooltip": null,
            "layout": "IPY_MODEL_9ed210f9b0f14d58ac838092fe63a998",
            "max": 267954768,
            "min": 0,
            "orientation": "horizontal",
            "style": "IPY_MODEL_8896b676a27443539ef9bde9185514d0",
            "value": 267954768
          }
        },
        "943af412faca4be4932d3f68d04e1970": {
          "model_module": "@jupyter-widgets/controls",
          "model_name": "HTMLModel",
          "model_module_version": "1.5.0",
          "state": {
            "_dom_classes": [],
            "_model_module": "@jupyter-widgets/controls",
            "_model_module_version": "1.5.0",
            "_model_name": "HTMLModel",
            "_view_count": null,
            "_view_module": "@jupyter-widgets/controls",
            "_view_module_version": "1.5.0",
            "_view_name": "HTMLView",
            "description": "",
            "description_tooltip": null,
            "layout": "IPY_MODEL_50c8bf76ce434da79bc40504b139623e",
            "placeholder": "​",
            "style": "IPY_MODEL_87c6f5e22fc84923a056685cc06e52c0",
            "value": " 268M/268M [00:06&lt;00:00, 17.9MB/s]"
          }
        },
        "ae4aeb0b298d413d8954d4324b6f6994": {
          "model_module": "@jupyter-widgets/base",
          "model_name": "LayoutModel",
          "model_module_version": "1.2.0",
          "state": {
            "_model_module": "@jupyter-widgets/base",
            "_model_module_version": "1.2.0",
            "_model_name": "LayoutModel",
            "_view_count": null,
            "_view_module": "@jupyter-widgets/base",
            "_view_module_version": "1.2.0",
            "_view_name": "LayoutView",
            "align_content": null,
            "align_items": null,
            "align_self": null,
            "border": null,
            "bottom": null,
            "display": null,
            "flex": null,
            "flex_flow": null,
            "grid_area": null,
            "grid_auto_columns": null,
            "grid_auto_flow": null,
            "grid_auto_rows": null,
            "grid_column": null,
            "grid_gap": null,
            "grid_row": null,
            "grid_template_areas": null,
            "grid_template_columns": null,
            "grid_template_rows": null,
            "height": null,
            "justify_content": null,
            "justify_items": null,
            "left": null,
            "margin": null,
            "max_height": null,
            "max_width": null,
            "min_height": null,
            "min_width": null,
            "object_fit": null,
            "object_position": null,
            "order": null,
            "overflow": null,
            "overflow_x": null,
            "overflow_y": null,
            "padding": null,
            "right": null,
            "top": null,
            "visibility": null,
            "width": null
          }
        },
        "7b74f05c0130425caf86674c1a49594f": {
          "model_module": "@jupyter-widgets/base",
          "model_name": "LayoutModel",
          "model_module_version": "1.2.0",
          "state": {
            "_model_module": "@jupyter-widgets/base",
            "_model_module_version": "1.2.0",
            "_model_name": "LayoutModel",
            "_view_count": null,
            "_view_module": "@jupyter-widgets/base",
            "_view_module_version": "1.2.0",
            "_view_name": "LayoutView",
            "align_content": null,
            "align_items": null,
            "align_self": null,
            "border": null,
            "bottom": null,
            "display": null,
            "flex": null,
            "flex_flow": null,
            "grid_area": null,
            "grid_auto_columns": null,
            "grid_auto_flow": null,
            "grid_auto_rows": null,
            "grid_column": null,
            "grid_gap": null,
            "grid_row": null,
            "grid_template_areas": null,
            "grid_template_columns": null,
            "grid_template_rows": null,
            "height": null,
            "justify_content": null,
            "justify_items": null,
            "left": null,
            "margin": null,
            "max_height": null,
            "max_width": null,
            "min_height": null,
            "min_width": null,
            "object_fit": null,
            "object_position": null,
            "order": null,
            "overflow": null,
            "overflow_x": null,
            "overflow_y": null,
            "padding": null,
            "right": null,
            "top": null,
            "visibility": null,
            "width": null
          }
        },
        "b5b03c1566c247bcb538fe565ab5b25e": {
          "model_module": "@jupyter-widgets/controls",
          "model_name": "DescriptionStyleModel",
          "model_module_version": "1.5.0",
          "state": {
            "_model_module": "@jupyter-widgets/controls",
            "_model_module_version": "1.5.0",
            "_model_name": "DescriptionStyleModel",
            "_view_count": null,
            "_view_module": "@jupyter-widgets/base",
            "_view_module_version": "1.2.0",
            "_view_name": "StyleView",
            "description_width": ""
          }
        },
        "9ed210f9b0f14d58ac838092fe63a998": {
          "model_module": "@jupyter-widgets/base",
          "model_name": "LayoutModel",
          "model_module_version": "1.2.0",
          "state": {
            "_model_module": "@jupyter-widgets/base",
            "_model_module_version": "1.2.0",
            "_model_name": "LayoutModel",
            "_view_count": null,
            "_view_module": "@jupyter-widgets/base",
            "_view_module_version": "1.2.0",
            "_view_name": "LayoutView",
            "align_content": null,
            "align_items": null,
            "align_self": null,
            "border": null,
            "bottom": null,
            "display": null,
            "flex": null,
            "flex_flow": null,
            "grid_area": null,
            "grid_auto_columns": null,
            "grid_auto_flow": null,
            "grid_auto_rows": null,
            "grid_column": null,
            "grid_gap": null,
            "grid_row": null,
            "grid_template_areas": null,
            "grid_template_columns": null,
            "grid_template_rows": null,
            "height": null,
            "justify_content": null,
            "justify_items": null,
            "left": null,
            "margin": null,
            "max_height": null,
            "max_width": null,
            "min_height": null,
            "min_width": null,
            "object_fit": null,
            "object_position": null,
            "order": null,
            "overflow": null,
            "overflow_x": null,
            "overflow_y": null,
            "padding": null,
            "right": null,
            "top": null,
            "visibility": null,
            "width": null
          }
        },
        "8896b676a27443539ef9bde9185514d0": {
          "model_module": "@jupyter-widgets/controls",
          "model_name": "ProgressStyleModel",
          "model_module_version": "1.5.0",
          "state": {
            "_model_module": "@jupyter-widgets/controls",
            "_model_module_version": "1.5.0",
            "_model_name": "ProgressStyleModel",
            "_view_count": null,
            "_view_module": "@jupyter-widgets/base",
            "_view_module_version": "1.2.0",
            "_view_name": "StyleView",
            "bar_color": null,
            "description_width": ""
          }
        },
        "50c8bf76ce434da79bc40504b139623e": {
          "model_module": "@jupyter-widgets/base",
          "model_name": "LayoutModel",
          "model_module_version": "1.2.0",
          "state": {
            "_model_module": "@jupyter-widgets/base",
            "_model_module_version": "1.2.0",
            "_model_name": "LayoutModel",
            "_view_count": null,
            "_view_module": "@jupyter-widgets/base",
            "_view_module_version": "1.2.0",
            "_view_name": "LayoutView",
            "align_content": null,
            "align_items": null,
            "align_self": null,
            "border": null,
            "bottom": null,
            "display": null,
            "flex": null,
            "flex_flow": null,
            "grid_area": null,
            "grid_auto_columns": null,
            "grid_auto_flow": null,
            "grid_auto_rows": null,
            "grid_column": null,
            "grid_gap": null,
            "grid_row": null,
            "grid_template_areas": null,
            "grid_template_columns": null,
            "grid_template_rows": null,
            "height": null,
            "justify_content": null,
            "justify_items": null,
            "left": null,
            "margin": null,
            "max_height": null,
            "max_width": null,
            "min_height": null,
            "min_width": null,
            "object_fit": null,
            "object_position": null,
            "order": null,
            "overflow": null,
            "overflow_x": null,
            "overflow_y": null,
            "padding": null,
            "right": null,
            "top": null,
            "visibility": null,
            "width": null
          }
        },
        "87c6f5e22fc84923a056685cc06e52c0": {
          "model_module": "@jupyter-widgets/controls",
          "model_name": "DescriptionStyleModel",
          "model_module_version": "1.5.0",
          "state": {
            "_model_module": "@jupyter-widgets/controls",
            "_model_module_version": "1.5.0",
            "_model_name": "DescriptionStyleModel",
            "_view_count": null,
            "_view_module": "@jupyter-widgets/base",
            "_view_module_version": "1.2.0",
            "_view_name": "StyleView",
            "description_width": ""
          }
        },
        "fd8f8938dd4e4dcea7602b1e1c172021": {
          "model_module": "@jupyter-widgets/controls",
          "model_name": "HBoxModel",
          "model_module_version": "1.5.0",
          "state": {
            "_dom_classes": [],
            "_model_module": "@jupyter-widgets/controls",
            "_model_module_version": "1.5.0",
            "_model_name": "HBoxModel",
            "_view_count": null,
            "_view_module": "@jupyter-widgets/controls",
            "_view_module_version": "1.5.0",
            "_view_name": "HBoxView",
            "box_style": "",
            "children": [
              "IPY_MODEL_5ec49b50a06c465a9acdb912daaf4525",
              "IPY_MODEL_4c623b6fe7a94b40b91a2773b6c44e75",
              "IPY_MODEL_9d2951aad5804259803802a0c996676e"
            ],
            "layout": "IPY_MODEL_358de70a1ed04e2e989fc6e125a0bdd6"
          }
        },
        "5ec49b50a06c465a9acdb912daaf4525": {
          "model_module": "@jupyter-widgets/controls",
          "model_name": "HTMLModel",
          "model_module_version": "1.5.0",
          "state": {
            "_dom_classes": [],
            "_model_module": "@jupyter-widgets/controls",
            "_model_module_version": "1.5.0",
            "_model_name": "HTMLModel",
            "_view_count": null,
            "_view_module": "@jupyter-widgets/controls",
            "_view_module_version": "1.5.0",
            "_view_name": "HTMLView",
            "description": "",
            "description_tooltip": null,
            "layout": "IPY_MODEL_0d75ad9a16434a259a734dfac4d5a38b",
            "placeholder": "​",
            "style": "IPY_MODEL_c60d5aa125994afcbefe33823b672110",
            "value": "tokenizer_config.json: 100%"
          }
        },
        "4c623b6fe7a94b40b91a2773b6c44e75": {
          "model_module": "@jupyter-widgets/controls",
          "model_name": "FloatProgressModel",
          "model_module_version": "1.5.0",
          "state": {
            "_dom_classes": [],
            "_model_module": "@jupyter-widgets/controls",
            "_model_module_version": "1.5.0",
            "_model_name": "FloatProgressModel",
            "_view_count": null,
            "_view_module": "@jupyter-widgets/controls",
            "_view_module_version": "1.5.0",
            "_view_name": "ProgressView",
            "bar_style": "success",
            "description": "",
            "description_tooltip": null,
            "layout": "IPY_MODEL_efcd3d8396bb42e1bf79846f73ccb009",
            "max": 48,
            "min": 0,
            "orientation": "horizontal",
            "style": "IPY_MODEL_03cec661408747b38d3361c7ddde6b86",
            "value": 48
          }
        },
        "9d2951aad5804259803802a0c996676e": {
          "model_module": "@jupyter-widgets/controls",
          "model_name": "HTMLModel",
          "model_module_version": "1.5.0",
          "state": {
            "_dom_classes": [],
            "_model_module": "@jupyter-widgets/controls",
            "_model_module_version": "1.5.0",
            "_model_name": "HTMLModel",
            "_view_count": null,
            "_view_module": "@jupyter-widgets/controls",
            "_view_module_version": "1.5.0",
            "_view_name": "HTMLView",
            "description": "",
            "description_tooltip": null,
            "layout": "IPY_MODEL_2efbc68bbac64a8295610d2fd91e299f",
            "placeholder": "​",
            "style": "IPY_MODEL_bdbc07c0942448858d72d730a86ab6a4",
            "value": " 48.0/48.0 [00:00&lt;00:00, 2.39kB/s]"
          }
        },
        "358de70a1ed04e2e989fc6e125a0bdd6": {
          "model_module": "@jupyter-widgets/base",
          "model_name": "LayoutModel",
          "model_module_version": "1.2.0",
          "state": {
            "_model_module": "@jupyter-widgets/base",
            "_model_module_version": "1.2.0",
            "_model_name": "LayoutModel",
            "_view_count": null,
            "_view_module": "@jupyter-widgets/base",
            "_view_module_version": "1.2.0",
            "_view_name": "LayoutView",
            "align_content": null,
            "align_items": null,
            "align_self": null,
            "border": null,
            "bottom": null,
            "display": null,
            "flex": null,
            "flex_flow": null,
            "grid_area": null,
            "grid_auto_columns": null,
            "grid_auto_flow": null,
            "grid_auto_rows": null,
            "grid_column": null,
            "grid_gap": null,
            "grid_row": null,
            "grid_template_areas": null,
            "grid_template_columns": null,
            "grid_template_rows": null,
            "height": null,
            "justify_content": null,
            "justify_items": null,
            "left": null,
            "margin": null,
            "max_height": null,
            "max_width": null,
            "min_height": null,
            "min_width": null,
            "object_fit": null,
            "object_position": null,
            "order": null,
            "overflow": null,
            "overflow_x": null,
            "overflow_y": null,
            "padding": null,
            "right": null,
            "top": null,
            "visibility": null,
            "width": null
          }
        },
        "0d75ad9a16434a259a734dfac4d5a38b": {
          "model_module": "@jupyter-widgets/base",
          "model_name": "LayoutModel",
          "model_module_version": "1.2.0",
          "state": {
            "_model_module": "@jupyter-widgets/base",
            "_model_module_version": "1.2.0",
            "_model_name": "LayoutModel",
            "_view_count": null,
            "_view_module": "@jupyter-widgets/base",
            "_view_module_version": "1.2.0",
            "_view_name": "LayoutView",
            "align_content": null,
            "align_items": null,
            "align_self": null,
            "border": null,
            "bottom": null,
            "display": null,
            "flex": null,
            "flex_flow": null,
            "grid_area": null,
            "grid_auto_columns": null,
            "grid_auto_flow": null,
            "grid_auto_rows": null,
            "grid_column": null,
            "grid_gap": null,
            "grid_row": null,
            "grid_template_areas": null,
            "grid_template_columns": null,
            "grid_template_rows": null,
            "height": null,
            "justify_content": null,
            "justify_items": null,
            "left": null,
            "margin": null,
            "max_height": null,
            "max_width": null,
            "min_height": null,
            "min_width": null,
            "object_fit": null,
            "object_position": null,
            "order": null,
            "overflow": null,
            "overflow_x": null,
            "overflow_y": null,
            "padding": null,
            "right": null,
            "top": null,
            "visibility": null,
            "width": null
          }
        },
        "c60d5aa125994afcbefe33823b672110": {
          "model_module": "@jupyter-widgets/controls",
          "model_name": "DescriptionStyleModel",
          "model_module_version": "1.5.0",
          "state": {
            "_model_module": "@jupyter-widgets/controls",
            "_model_module_version": "1.5.0",
            "_model_name": "DescriptionStyleModel",
            "_view_count": null,
            "_view_module": "@jupyter-widgets/base",
            "_view_module_version": "1.2.0",
            "_view_name": "StyleView",
            "description_width": ""
          }
        },
        "efcd3d8396bb42e1bf79846f73ccb009": {
          "model_module": "@jupyter-widgets/base",
          "model_name": "LayoutModel",
          "model_module_version": "1.2.0",
          "state": {
            "_model_module": "@jupyter-widgets/base",
            "_model_module_version": "1.2.0",
            "_model_name": "LayoutModel",
            "_view_count": null,
            "_view_module": "@jupyter-widgets/base",
            "_view_module_version": "1.2.0",
            "_view_name": "LayoutView",
            "align_content": null,
            "align_items": null,
            "align_self": null,
            "border": null,
            "bottom": null,
            "display": null,
            "flex": null,
            "flex_flow": null,
            "grid_area": null,
            "grid_auto_columns": null,
            "grid_auto_flow": null,
            "grid_auto_rows": null,
            "grid_column": null,
            "grid_gap": null,
            "grid_row": null,
            "grid_template_areas": null,
            "grid_template_columns": null,
            "grid_template_rows": null,
            "height": null,
            "justify_content": null,
            "justify_items": null,
            "left": null,
            "margin": null,
            "max_height": null,
            "max_width": null,
            "min_height": null,
            "min_width": null,
            "object_fit": null,
            "object_position": null,
            "order": null,
            "overflow": null,
            "overflow_x": null,
            "overflow_y": null,
            "padding": null,
            "right": null,
            "top": null,
            "visibility": null,
            "width": null
          }
        },
        "03cec661408747b38d3361c7ddde6b86": {
          "model_module": "@jupyter-widgets/controls",
          "model_name": "ProgressStyleModel",
          "model_module_version": "1.5.0",
          "state": {
            "_model_module": "@jupyter-widgets/controls",
            "_model_module_version": "1.5.0",
            "_model_name": "ProgressStyleModel",
            "_view_count": null,
            "_view_module": "@jupyter-widgets/base",
            "_view_module_version": "1.2.0",
            "_view_name": "StyleView",
            "bar_color": null,
            "description_width": ""
          }
        },
        "2efbc68bbac64a8295610d2fd91e299f": {
          "model_module": "@jupyter-widgets/base",
          "model_name": "LayoutModel",
          "model_module_version": "1.2.0",
          "state": {
            "_model_module": "@jupyter-widgets/base",
            "_model_module_version": "1.2.0",
            "_model_name": "LayoutModel",
            "_view_count": null,
            "_view_module": "@jupyter-widgets/base",
            "_view_module_version": "1.2.0",
            "_view_name": "LayoutView",
            "align_content": null,
            "align_items": null,
            "align_self": null,
            "border": null,
            "bottom": null,
            "display": null,
            "flex": null,
            "flex_flow": null,
            "grid_area": null,
            "grid_auto_columns": null,
            "grid_auto_flow": null,
            "grid_auto_rows": null,
            "grid_column": null,
            "grid_gap": null,
            "grid_row": null,
            "grid_template_areas": null,
            "grid_template_columns": null,
            "grid_template_rows": null,
            "height": null,
            "justify_content": null,
            "justify_items": null,
            "left": null,
            "margin": null,
            "max_height": null,
            "max_width": null,
            "min_height": null,
            "min_width": null,
            "object_fit": null,
            "object_position": null,
            "order": null,
            "overflow": null,
            "overflow_x": null,
            "overflow_y": null,
            "padding": null,
            "right": null,
            "top": null,
            "visibility": null,
            "width": null
          }
        },
        "bdbc07c0942448858d72d730a86ab6a4": {
          "model_module": "@jupyter-widgets/controls",
          "model_name": "DescriptionStyleModel",
          "model_module_version": "1.5.0",
          "state": {
            "_model_module": "@jupyter-widgets/controls",
            "_model_module_version": "1.5.0",
            "_model_name": "DescriptionStyleModel",
            "_view_count": null,
            "_view_module": "@jupyter-widgets/base",
            "_view_module_version": "1.2.0",
            "_view_name": "StyleView",
            "description_width": ""
          }
        },
        "dcfd87d8ad024875ac8a999e1c3cb49e": {
          "model_module": "@jupyter-widgets/controls",
          "model_name": "HBoxModel",
          "model_module_version": "1.5.0",
          "state": {
            "_dom_classes": [],
            "_model_module": "@jupyter-widgets/controls",
            "_model_module_version": "1.5.0",
            "_model_name": "HBoxModel",
            "_view_count": null,
            "_view_module": "@jupyter-widgets/controls",
            "_view_module_version": "1.5.0",
            "_view_name": "HBoxView",
            "box_style": "",
            "children": [
              "IPY_MODEL_12b7036bec254a678e66d5998a786420",
              "IPY_MODEL_01b5f88f05504ee2b4289093b3e8917f",
              "IPY_MODEL_8e4380687d8d4e5ebda745237ebb60a2"
            ],
            "layout": "IPY_MODEL_e0495aa7ce6d454492974705b534de93"
          }
        },
        "12b7036bec254a678e66d5998a786420": {
          "model_module": "@jupyter-widgets/controls",
          "model_name": "HTMLModel",
          "model_module_version": "1.5.0",
          "state": {
            "_dom_classes": [],
            "_model_module": "@jupyter-widgets/controls",
            "_model_module_version": "1.5.0",
            "_model_name": "HTMLModel",
            "_view_count": null,
            "_view_module": "@jupyter-widgets/controls",
            "_view_module_version": "1.5.0",
            "_view_name": "HTMLView",
            "description": "",
            "description_tooltip": null,
            "layout": "IPY_MODEL_700f0b35b0594202955f494e50732060",
            "placeholder": "​",
            "style": "IPY_MODEL_a74a44b5aec948079ad649d60d7fe298",
            "value": "vocab.txt: 100%"
          }
        },
        "01b5f88f05504ee2b4289093b3e8917f": {
          "model_module": "@jupyter-widgets/controls",
          "model_name": "FloatProgressModel",
          "model_module_version": "1.5.0",
          "state": {
            "_dom_classes": [],
            "_model_module": "@jupyter-widgets/controls",
            "_model_module_version": "1.5.0",
            "_model_name": "FloatProgressModel",
            "_view_count": null,
            "_view_module": "@jupyter-widgets/controls",
            "_view_module_version": "1.5.0",
            "_view_name": "ProgressView",
            "bar_style": "success",
            "description": "",
            "description_tooltip": null,
            "layout": "IPY_MODEL_64ee931713e34c8f9b667121a03817c9",
            "max": 231508,
            "min": 0,
            "orientation": "horizontal",
            "style": "IPY_MODEL_b541668a7fc94df1afd3fa99352e9ab9",
            "value": 231508
          }
        },
        "8e4380687d8d4e5ebda745237ebb60a2": {
          "model_module": "@jupyter-widgets/controls",
          "model_name": "HTMLModel",
          "model_module_version": "1.5.0",
          "state": {
            "_dom_classes": [],
            "_model_module": "@jupyter-widgets/controls",
            "_model_module_version": "1.5.0",
            "_model_name": "HTMLModel",
            "_view_count": null,
            "_view_module": "@jupyter-widgets/controls",
            "_view_module_version": "1.5.0",
            "_view_name": "HTMLView",
            "description": "",
            "description_tooltip": null,
            "layout": "IPY_MODEL_5b4b89635fc94bc6848ba727ad4dc635",
            "placeholder": "​",
            "style": "IPY_MODEL_d47396a5d7e74b7bbe5ba6e410f7c43d",
            "value": " 232k/232k [00:00&lt;00:00, 3.76MB/s]"
          }
        },
        "e0495aa7ce6d454492974705b534de93": {
          "model_module": "@jupyter-widgets/base",
          "model_name": "LayoutModel",
          "model_module_version": "1.2.0",
          "state": {
            "_model_module": "@jupyter-widgets/base",
            "_model_module_version": "1.2.0",
            "_model_name": "LayoutModel",
            "_view_count": null,
            "_view_module": "@jupyter-widgets/base",
            "_view_module_version": "1.2.0",
            "_view_name": "LayoutView",
            "align_content": null,
            "align_items": null,
            "align_self": null,
            "border": null,
            "bottom": null,
            "display": null,
            "flex": null,
            "flex_flow": null,
            "grid_area": null,
            "grid_auto_columns": null,
            "grid_auto_flow": null,
            "grid_auto_rows": null,
            "grid_column": null,
            "grid_gap": null,
            "grid_row": null,
            "grid_template_areas": null,
            "grid_template_columns": null,
            "grid_template_rows": null,
            "height": null,
            "justify_content": null,
            "justify_items": null,
            "left": null,
            "margin": null,
            "max_height": null,
            "max_width": null,
            "min_height": null,
            "min_width": null,
            "object_fit": null,
            "object_position": null,
            "order": null,
            "overflow": null,
            "overflow_x": null,
            "overflow_y": null,
            "padding": null,
            "right": null,
            "top": null,
            "visibility": null,
            "width": null
          }
        },
        "700f0b35b0594202955f494e50732060": {
          "model_module": "@jupyter-widgets/base",
          "model_name": "LayoutModel",
          "model_module_version": "1.2.0",
          "state": {
            "_model_module": "@jupyter-widgets/base",
            "_model_module_version": "1.2.0",
            "_model_name": "LayoutModel",
            "_view_count": null,
            "_view_module": "@jupyter-widgets/base",
            "_view_module_version": "1.2.0",
            "_view_name": "LayoutView",
            "align_content": null,
            "align_items": null,
            "align_self": null,
            "border": null,
            "bottom": null,
            "display": null,
            "flex": null,
            "flex_flow": null,
            "grid_area": null,
            "grid_auto_columns": null,
            "grid_auto_flow": null,
            "grid_auto_rows": null,
            "grid_column": null,
            "grid_gap": null,
            "grid_row": null,
            "grid_template_areas": null,
            "grid_template_columns": null,
            "grid_template_rows": null,
            "height": null,
            "justify_content": null,
            "justify_items": null,
            "left": null,
            "margin": null,
            "max_height": null,
            "max_width": null,
            "min_height": null,
            "min_width": null,
            "object_fit": null,
            "object_position": null,
            "order": null,
            "overflow": null,
            "overflow_x": null,
            "overflow_y": null,
            "padding": null,
            "right": null,
            "top": null,
            "visibility": null,
            "width": null
          }
        },
        "a74a44b5aec948079ad649d60d7fe298": {
          "model_module": "@jupyter-widgets/controls",
          "model_name": "DescriptionStyleModel",
          "model_module_version": "1.5.0",
          "state": {
            "_model_module": "@jupyter-widgets/controls",
            "_model_module_version": "1.5.0",
            "_model_name": "DescriptionStyleModel",
            "_view_count": null,
            "_view_module": "@jupyter-widgets/base",
            "_view_module_version": "1.2.0",
            "_view_name": "StyleView",
            "description_width": ""
          }
        },
        "64ee931713e34c8f9b667121a03817c9": {
          "model_module": "@jupyter-widgets/base",
          "model_name": "LayoutModel",
          "model_module_version": "1.2.0",
          "state": {
            "_model_module": "@jupyter-widgets/base",
            "_model_module_version": "1.2.0",
            "_model_name": "LayoutModel",
            "_view_count": null,
            "_view_module": "@jupyter-widgets/base",
            "_view_module_version": "1.2.0",
            "_view_name": "LayoutView",
            "align_content": null,
            "align_items": null,
            "align_self": null,
            "border": null,
            "bottom": null,
            "display": null,
            "flex": null,
            "flex_flow": null,
            "grid_area": null,
            "grid_auto_columns": null,
            "grid_auto_flow": null,
            "grid_auto_rows": null,
            "grid_column": null,
            "grid_gap": null,
            "grid_row": null,
            "grid_template_areas": null,
            "grid_template_columns": null,
            "grid_template_rows": null,
            "height": null,
            "justify_content": null,
            "justify_items": null,
            "left": null,
            "margin": null,
            "max_height": null,
            "max_width": null,
            "min_height": null,
            "min_width": null,
            "object_fit": null,
            "object_position": null,
            "order": null,
            "overflow": null,
            "overflow_x": null,
            "overflow_y": null,
            "padding": null,
            "right": null,
            "top": null,
            "visibility": null,
            "width": null
          }
        },
        "b541668a7fc94df1afd3fa99352e9ab9": {
          "model_module": "@jupyter-widgets/controls",
          "model_name": "ProgressStyleModel",
          "model_module_version": "1.5.0",
          "state": {
            "_model_module": "@jupyter-widgets/controls",
            "_model_module_version": "1.5.0",
            "_model_name": "ProgressStyleModel",
            "_view_count": null,
            "_view_module": "@jupyter-widgets/base",
            "_view_module_version": "1.2.0",
            "_view_name": "StyleView",
            "bar_color": null,
            "description_width": ""
          }
        },
        "5b4b89635fc94bc6848ba727ad4dc635": {
          "model_module": "@jupyter-widgets/base",
          "model_name": "LayoutModel",
          "model_module_version": "1.2.0",
          "state": {
            "_model_module": "@jupyter-widgets/base",
            "_model_module_version": "1.2.0",
            "_model_name": "LayoutModel",
            "_view_count": null,
            "_view_module": "@jupyter-widgets/base",
            "_view_module_version": "1.2.0",
            "_view_name": "LayoutView",
            "align_content": null,
            "align_items": null,
            "align_self": null,
            "border": null,
            "bottom": null,
            "display": null,
            "flex": null,
            "flex_flow": null,
            "grid_area": null,
            "grid_auto_columns": null,
            "grid_auto_flow": null,
            "grid_auto_rows": null,
            "grid_column": null,
            "grid_gap": null,
            "grid_row": null,
            "grid_template_areas": null,
            "grid_template_columns": null,
            "grid_template_rows": null,
            "height": null,
            "justify_content": null,
            "justify_items": null,
            "left": null,
            "margin": null,
            "max_height": null,
            "max_width": null,
            "min_height": null,
            "min_width": null,
            "object_fit": null,
            "object_position": null,
            "order": null,
            "overflow": null,
            "overflow_x": null,
            "overflow_y": null,
            "padding": null,
            "right": null,
            "top": null,
            "visibility": null,
            "width": null
          }
        },
        "d47396a5d7e74b7bbe5ba6e410f7c43d": {
          "model_module": "@jupyter-widgets/controls",
          "model_name": "DescriptionStyleModel",
          "model_module_version": "1.5.0",
          "state": {
            "_model_module": "@jupyter-widgets/controls",
            "_model_module_version": "1.5.0",
            "_model_name": "DescriptionStyleModel",
            "_view_count": null,
            "_view_module": "@jupyter-widgets/base",
            "_view_module_version": "1.2.0",
            "_view_name": "StyleView",
            "description_width": ""
          }
        },
        "7d76bc530ad34730ae56d5929805505f": {
          "model_module": "@jupyter-widgets/controls",
          "model_name": "HBoxModel",
          "model_module_version": "1.5.0",
          "state": {
            "_dom_classes": [],
            "_model_module": "@jupyter-widgets/controls",
            "_model_module_version": "1.5.0",
            "_model_name": "HBoxModel",
            "_view_count": null,
            "_view_module": "@jupyter-widgets/controls",
            "_view_module_version": "1.5.0",
            "_view_name": "HBoxView",
            "box_style": "",
            "children": [
              "IPY_MODEL_ddbfecf9aaf644758efc15b307d961c2",
              "IPY_MODEL_b98efb5cb1c34c5eb6c2b5df72076486",
              "IPY_MODEL_37167a2de7554956be67692b9ce4badd"
            ],
            "layout": "IPY_MODEL_7c60f2b28731482c964c2694d0580caf"
          }
        },
        "ddbfecf9aaf644758efc15b307d961c2": {
          "model_module": "@jupyter-widgets/controls",
          "model_name": "HTMLModel",
          "model_module_version": "1.5.0",
          "state": {
            "_dom_classes": [],
            "_model_module": "@jupyter-widgets/controls",
            "_model_module_version": "1.5.0",
            "_model_name": "HTMLModel",
            "_view_count": null,
            "_view_module": "@jupyter-widgets/controls",
            "_view_module_version": "1.5.0",
            "_view_name": "HTMLView",
            "description": "",
            "description_tooltip": null,
            "layout": "IPY_MODEL_a7a291f793d2454e8e4f3f29ff254608",
            "placeholder": "​",
            "style": "IPY_MODEL_960f67b886a345e28be8455eb8052d15",
            "value": "tokenizer.json: 100%"
          }
        },
        "b98efb5cb1c34c5eb6c2b5df72076486": {
          "model_module": "@jupyter-widgets/controls",
          "model_name": "FloatProgressModel",
          "model_module_version": "1.5.0",
          "state": {
            "_dom_classes": [],
            "_model_module": "@jupyter-widgets/controls",
            "_model_module_version": "1.5.0",
            "_model_name": "FloatProgressModel",
            "_view_count": null,
            "_view_module": "@jupyter-widgets/controls",
            "_view_module_version": "1.5.0",
            "_view_name": "ProgressView",
            "bar_style": "success",
            "description": "",
            "description_tooltip": null,
            "layout": "IPY_MODEL_6d2e731ecf094295b9481525f3140948",
            "max": 466062,
            "min": 0,
            "orientation": "horizontal",
            "style": "IPY_MODEL_1b30ed6c9af74b8c9a758ea4cfffa2cc",
            "value": 466062
          }
        },
        "37167a2de7554956be67692b9ce4badd": {
          "model_module": "@jupyter-widgets/controls",
          "model_name": "HTMLModel",
          "model_module_version": "1.5.0",
          "state": {
            "_dom_classes": [],
            "_model_module": "@jupyter-widgets/controls",
            "_model_module_version": "1.5.0",
            "_model_name": "HTMLModel",
            "_view_count": null,
            "_view_module": "@jupyter-widgets/controls",
            "_view_module_version": "1.5.0",
            "_view_name": "HTMLView",
            "description": "",
            "description_tooltip": null,
            "layout": "IPY_MODEL_7dc78be4c05e49309ab9a9415a5cc019",
            "placeholder": "​",
            "style": "IPY_MODEL_f39cb04d7e104a4d91f0edcde69a6d7a",
            "value": " 466k/466k [00:00&lt;00:00, 5.96MB/s]"
          }
        },
        "7c60f2b28731482c964c2694d0580caf": {
          "model_module": "@jupyter-widgets/base",
          "model_name": "LayoutModel",
          "model_module_version": "1.2.0",
          "state": {
            "_model_module": "@jupyter-widgets/base",
            "_model_module_version": "1.2.0",
            "_model_name": "LayoutModel",
            "_view_count": null,
            "_view_module": "@jupyter-widgets/base",
            "_view_module_version": "1.2.0",
            "_view_name": "LayoutView",
            "align_content": null,
            "align_items": null,
            "align_self": null,
            "border": null,
            "bottom": null,
            "display": null,
            "flex": null,
            "flex_flow": null,
            "grid_area": null,
            "grid_auto_columns": null,
            "grid_auto_flow": null,
            "grid_auto_rows": null,
            "grid_column": null,
            "grid_gap": null,
            "grid_row": null,
            "grid_template_areas": null,
            "grid_template_columns": null,
            "grid_template_rows": null,
            "height": null,
            "justify_content": null,
            "justify_items": null,
            "left": null,
            "margin": null,
            "max_height": null,
            "max_width": null,
            "min_height": null,
            "min_width": null,
            "object_fit": null,
            "object_position": null,
            "order": null,
            "overflow": null,
            "overflow_x": null,
            "overflow_y": null,
            "padding": null,
            "right": null,
            "top": null,
            "visibility": null,
            "width": null
          }
        },
        "a7a291f793d2454e8e4f3f29ff254608": {
          "model_module": "@jupyter-widgets/base",
          "model_name": "LayoutModel",
          "model_module_version": "1.2.0",
          "state": {
            "_model_module": "@jupyter-widgets/base",
            "_model_module_version": "1.2.0",
            "_model_name": "LayoutModel",
            "_view_count": null,
            "_view_module": "@jupyter-widgets/base",
            "_view_module_version": "1.2.0",
            "_view_name": "LayoutView",
            "align_content": null,
            "align_items": null,
            "align_self": null,
            "border": null,
            "bottom": null,
            "display": null,
            "flex": null,
            "flex_flow": null,
            "grid_area": null,
            "grid_auto_columns": null,
            "grid_auto_flow": null,
            "grid_auto_rows": null,
            "grid_column": null,
            "grid_gap": null,
            "grid_row": null,
            "grid_template_areas": null,
            "grid_template_columns": null,
            "grid_template_rows": null,
            "height": null,
            "justify_content": null,
            "justify_items": null,
            "left": null,
            "margin": null,
            "max_height": null,
            "max_width": null,
            "min_height": null,
            "min_width": null,
            "object_fit": null,
            "object_position": null,
            "order": null,
            "overflow": null,
            "overflow_x": null,
            "overflow_y": null,
            "padding": null,
            "right": null,
            "top": null,
            "visibility": null,
            "width": null
          }
        },
        "960f67b886a345e28be8455eb8052d15": {
          "model_module": "@jupyter-widgets/controls",
          "model_name": "DescriptionStyleModel",
          "model_module_version": "1.5.0",
          "state": {
            "_model_module": "@jupyter-widgets/controls",
            "_model_module_version": "1.5.0",
            "_model_name": "DescriptionStyleModel",
            "_view_count": null,
            "_view_module": "@jupyter-widgets/base",
            "_view_module_version": "1.2.0",
            "_view_name": "StyleView",
            "description_width": ""
          }
        },
        "6d2e731ecf094295b9481525f3140948": {
          "model_module": "@jupyter-widgets/base",
          "model_name": "LayoutModel",
          "model_module_version": "1.2.0",
          "state": {
            "_model_module": "@jupyter-widgets/base",
            "_model_module_version": "1.2.0",
            "_model_name": "LayoutModel",
            "_view_count": null,
            "_view_module": "@jupyter-widgets/base",
            "_view_module_version": "1.2.0",
            "_view_name": "LayoutView",
            "align_content": null,
            "align_items": null,
            "align_self": null,
            "border": null,
            "bottom": null,
            "display": null,
            "flex": null,
            "flex_flow": null,
            "grid_area": null,
            "grid_auto_columns": null,
            "grid_auto_flow": null,
            "grid_auto_rows": null,
            "grid_column": null,
            "grid_gap": null,
            "grid_row": null,
            "grid_template_areas": null,
            "grid_template_columns": null,
            "grid_template_rows": null,
            "height": null,
            "justify_content": null,
            "justify_items": null,
            "left": null,
            "margin": null,
            "max_height": null,
            "max_width": null,
            "min_height": null,
            "min_width": null,
            "object_fit": null,
            "object_position": null,
            "order": null,
            "overflow": null,
            "overflow_x": null,
            "overflow_y": null,
            "padding": null,
            "right": null,
            "top": null,
            "visibility": null,
            "width": null
          }
        },
        "1b30ed6c9af74b8c9a758ea4cfffa2cc": {
          "model_module": "@jupyter-widgets/controls",
          "model_name": "ProgressStyleModel",
          "model_module_version": "1.5.0",
          "state": {
            "_model_module": "@jupyter-widgets/controls",
            "_model_module_version": "1.5.0",
            "_model_name": "ProgressStyleModel",
            "_view_count": null,
            "_view_module": "@jupyter-widgets/base",
            "_view_module_version": "1.2.0",
            "_view_name": "StyleView",
            "bar_color": null,
            "description_width": ""
          }
        },
        "7dc78be4c05e49309ab9a9415a5cc019": {
          "model_module": "@jupyter-widgets/base",
          "model_name": "LayoutModel",
          "model_module_version": "1.2.0",
          "state": {
            "_model_module": "@jupyter-widgets/base",
            "_model_module_version": "1.2.0",
            "_model_name": "LayoutModel",
            "_view_count": null,
            "_view_module": "@jupyter-widgets/base",
            "_view_module_version": "1.2.0",
            "_view_name": "LayoutView",
            "align_content": null,
            "align_items": null,
            "align_self": null,
            "border": null,
            "bottom": null,
            "display": null,
            "flex": null,
            "flex_flow": null,
            "grid_area": null,
            "grid_auto_columns": null,
            "grid_auto_flow": null,
            "grid_auto_rows": null,
            "grid_column": null,
            "grid_gap": null,
            "grid_row": null,
            "grid_template_areas": null,
            "grid_template_columns": null,
            "grid_template_rows": null,
            "height": null,
            "justify_content": null,
            "justify_items": null,
            "left": null,
            "margin": null,
            "max_height": null,
            "max_width": null,
            "min_height": null,
            "min_width": null,
            "object_fit": null,
            "object_position": null,
            "order": null,
            "overflow": null,
            "overflow_x": null,
            "overflow_y": null,
            "padding": null,
            "right": null,
            "top": null,
            "visibility": null,
            "width": null
          }
        },
        "f39cb04d7e104a4d91f0edcde69a6d7a": {
          "model_module": "@jupyter-widgets/controls",
          "model_name": "DescriptionStyleModel",
          "model_module_version": "1.5.0",
          "state": {
            "_model_module": "@jupyter-widgets/controls",
            "_model_module_version": "1.5.0",
            "_model_name": "DescriptionStyleModel",
            "_view_count": null,
            "_view_module": "@jupyter-widgets/base",
            "_view_module_version": "1.2.0",
            "_view_name": "StyleView",
            "description_width": ""
          }
        }
      }
    }
  },
  "nbformat": 4,
  "nbformat_minor": 0
}